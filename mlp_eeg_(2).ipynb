{
  "nbformat": 4,
  "nbformat_minor": 0,
  "metadata": {
    "accelerator": "GPU",
    "colab": {
      "name": "mlp_eeg (2).ipynb",
      "provenance": [],
      "collapsed_sections": [],
      "include_colab_link": true
    },
    "kernelspec": {
      "display_name": "Python 3",
      "language": "python",
      "name": "python3"
    },
    "language_info": {
      "codemirror_mode": {
        "name": "ipython",
        "version": 3
      },
      "file_extension": ".py",
      "mimetype": "text/x-python",
      "name": "python",
      "nbconvert_exporter": "python",
      "pygments_lexer": "ipython3",
      "version": "3.7.8"
    }
  },
  "cells": [
    {
      "cell_type": "markdown",
      "metadata": {
        "id": "view-in-github",
        "colab_type": "text"
      },
      "source": [
        "<a href=\"https://colab.research.google.com/github/pakrentos/eeg_connectivity/blob/evgen/mlp_eeg_(2).ipynb\" target=\"_parent\"><img src=\"https://colab.research.google.com/assets/colab-badge.svg\" alt=\"Open In Colab\"/></a>"
      ]
    },
    {
      "cell_type": "code",
      "metadata": {
        "id": "liUmboZSeMDK",
        "colab_type": "code",
        "colab": {
          "base_uri": "https://localhost:8080/",
          "height": 68
        },
        "outputId": "9049ed28-0f3c-4b83-c725-13210e2456e2"
      },
      "source": [
        "! pip install h5py"
      ],
      "execution_count": null,
      "outputs": [
        {
          "output_type": "stream",
          "text": [
            "Requirement already satisfied: h5py in /usr/local/lib/python3.6/dist-packages (2.10.0)\n",
            "Requirement already satisfied: six in /usr/local/lib/python3.6/dist-packages (from h5py) (1.15.0)\n",
            "Requirement already satisfied: numpy>=1.7 in /usr/local/lib/python3.6/dist-packages (from h5py) (1.18.5)\n"
          ],
          "name": "stdout"
        }
      ]
    },
    {
      "cell_type": "code",
      "metadata": {
        "colab_type": "code",
        "id": "iHb06Rt47paD",
        "colab": {
          "base_uri": "https://localhost:8080/",
          "height": 122
        },
        "outputId": "d45a145a-643d-42ec-ae77-992c64e0007d"
      },
      "source": [
        "from google.colab import drive\n",
        "drive.mount('/content/drive')"
      ],
      "execution_count": 12,
      "outputs": [
        {
          "output_type": "stream",
          "text": [
            "Go to this URL in a browser: https://accounts.google.com/o/oauth2/auth?client_id=947318989803-6bn6qk8qdgf4n4g3pfee6491hc0brc4i.apps.googleusercontent.com&redirect_uri=urn%3aietf%3awg%3aoauth%3a2.0%3aoob&response_type=code&scope=email%20https%3a%2f%2fwww.googleapis.com%2fauth%2fdocs.test%20https%3a%2f%2fwww.googleapis.com%2fauth%2fdrive%20https%3a%2f%2fwww.googleapis.com%2fauth%2fdrive.photos.readonly%20https%3a%2f%2fwww.googleapis.com%2fauth%2fpeopleapi.readonly\n",
            "\n",
            "Enter your authorization code:\n",
            "··········\n",
            "Mounted at /content/drive\n"
          ],
          "name": "stdout"
        }
      ]
    },
    {
      "cell_type": "code",
      "metadata": {
        "colab_type": "code",
        "id": "1nFDlJbl7E-w",
        "colab": {}
      },
      "source": [
        "import numpy as np\n",
        "import scipy as sp\n",
        "from scipy.integrate import solve_ivp\n",
        "from scipy.signal import butter, lfilter\n",
        "from matplotlib import pyplot as plt\n",
        "from os.path import join\n",
        "import time\n",
        "from tensorflow.keras import layers\n",
        "import tensorflow as tf\n",
        "from tensorflow.keras import backend as K\n",
        "import keras.metrics as metrics\n",
        "from sklearn import preprocessing\n",
        "from sklearn.model_selection import cross_val_score, KFold, StratifiedKFold\n",
        "from sklearn.preprocessing import StandardScaler\n",
        "from sklearn.pipeline import Pipeline\n",
        "from sklearn.metrics import r2_score\n",
        "import math\n",
        "import os\n",
        "from sklearn.model_selection import KFold, StratifiedKFold\n",
        "from tensorflow.keras.preprocessing.image import ImageDataGenerator"
      ],
      "execution_count": 13,
      "outputs": []
    },
    {
      "cell_type": "code",
      "metadata": {
        "colab_type": "code",
        "id": "Ej1wNKDmdqZS",
        "colab": {}
      },
      "source": [
        "###Added\n",
        "import seaborn as sns\n",
        "import pandas as pd\n",
        "from keras.wrappers.scikit_learn import KerasRegressor"
      ],
      "execution_count": 14,
      "outputs": []
    },
    {
      "cell_type": "markdown",
      "metadata": {
        "id": "BlR21liceMDa",
        "colab_type": "text"
      },
      "source": [
        "Обработка данных"
      ]
    },
    {
      "cell_type": "code",
      "metadata": {
        "colab_type": "code",
        "id": "INCKZCIyEQqM",
        "colab": {}
      },
      "source": [
        "sfq = 250\n",
        "wnd = 1\n",
        "bias = 2\n",
        "times = 12"
      ],
      "execution_count": 15,
      "outputs": []
    },
    {
      "cell_type": "code",
      "metadata": {
        "colab_type": "code",
        "id": "MPXftiHWGSd4",
        "colab": {
          "base_uri": "https://localhost:8080/",
          "height": 34
        },
        "outputId": "bd7804bb-2203-4ce3-8e5f-b81e1473a206"
      },
      "source": [
        "print(\"Num GPUs Available: \", len(tf.config.experimental.list_physical_devices('GPU')))"
      ],
      "execution_count": 16,
      "outputs": [
        {
          "output_type": "stream",
          "text": [
            "Num GPUs Available:  1\n"
          ],
          "name": "stdout"
        }
      ]
    },
    {
      "cell_type": "code",
      "metadata": {
        "colab_type": "code",
        "id": "1cDttDVmF5cC",
        "colab": {}
      },
      "source": [
        "class CrossWindow():\n",
        "  \n",
        "  def __init__(self, arr, n, add_tail=False):\n",
        "    assert len(arr.shape) == 1\n",
        "    sh = arr.shape[0]\n",
        "    assert n < sh\n",
        "    if sh%n == 0:\n",
        "        self.arr = arr.reshape(n, sh//n)\n",
        "    else:\n",
        "        if add_tail:\n",
        "            print(f'Warning: impossible to fit array in shape ({n}, {sh//n}), remaining tail will have size {sh%n}')\n",
        "            self.arr = arr[:n*sh//n].reshape(n, sh//n)\n",
        "        "
      ],
      "execution_count": 17,
      "outputs": []
    },
    {
      "cell_type": "code",
      "metadata": {
        "colab_type": "code",
        "id": "SPFTk504B_71",
        "colab": {}
      },
      "source": [
        "def butter_bandpass(lowcut, highcut, fs, order=5):\n",
        "    nyq = 0.5 * fs\n",
        "    low = lowcut / nyq\n",
        "    high = highcut / nyq\n",
        "    b, a = butter(order, [low, high], btype='band')\n",
        "    return b, a\n",
        "\n",
        "\n",
        "def butter_bandpass_filter(data, lowcut, highcut, fs, order=5):\n",
        "    b, a = butter_bandpass(lowcut, highcut, fs, order=order)\n",
        "    y = lfilter(b, a, data)\n",
        "    return y"
      ],
      "execution_count": 18,
      "outputs": []
    },
    {
      "cell_type": "code",
      "metadata": {
        "colab_type": "code",
        "id": "17puvfV27E-0",
        "colab": {}
      },
      "source": [
        "def coeff_determination(y_true, y_pred):\n",
        "    SS_res =  K.sum(K.square( y_true-y_pred ))\n",
        "    SS_tot = K.sum(K.square( y_true - K.mean(y_true) ) )\n",
        "    return ( 1 - SS_res/(SS_tot + K.epsilon()) )\n",
        "\n",
        "def coeff_determination_simp(y_true, y_pred):\n",
        "    res = np.sum(np.square(y_true - y_pred))\n",
        "    y_true_mean = np.tile(np.mean(y_true, axis=-1), y_true.shape[-1]).reshape((y_true.shape[-1], y_true.shape[-2])).T\n",
        "    tot = np.sum(np.square(y_true - y_true_mean))\n",
        "    return 1 - res/((tot + K.epsilon())*y_true.shape[0]*y_true.shape[1])"
      ],
      "execution_count": 19,
      "outputs": []
    },
    {
      "cell_type": "code",
      "metadata": {
        "colab_type": "code",
        "id": "NNKqmWl97E-7",
        "colab": {}
      },
      "source": [
        "mapping = [\n",
        "    ('O2','A2'),\n",
        "    ('O1','A1'),\n",
        "    ('P4','A2'),\n",
        "    ('P3','A1'),\n",
        "    ('C4','A2'),\n",
        "    ('C3','A1'),\n",
        "    ('F4','A2'),\n",
        "    ('F3','A1'),\n",
        "    ('Fp2','A2'),\n",
        "    ('Fp1','A1'),\n",
        "    ('T6','A2'),\n",
        "    ('T5','A1'),\n",
        "    ('T4','A2'),\n",
        "    ('T3','A1'),\n",
        "    ('F8','A2'),\n",
        "    ('F7','A1'),\n",
        "    ('Oz','A2'),\n",
        "    ('Pz','A1'),\n",
        "    ('Cz','A2'),\n",
        "    ('Fz','A1'),\n",
        "    ('Fpz','A2'),\n",
        "    ('FT7','A1'),\n",
        "    ('FC3','A1'),\n",
        "    ('Fcz','A1'),\n",
        "    ('FC4','A2'),\n",
        "    ('FT8','A2'),\n",
        "    ('TP7','A1'),\n",
        "    ('CP3','A1'),\n",
        "    ('Cpz','A1'),\n",
        "    ('CP4','A2'),\n",
        "    ('TP8','A2'), \n",
        "]\n",
        "r_mapping = {mapping[i][0]:i for i in range(len(mapping))}\n",
        "    "
      ],
      "execution_count": 120,
      "outputs": []
    },
    {
      "cell_type": "code",
      "metadata": {
        "colab_type": "code",
        "id": "ba6GtiDGhByh",
        "colab": {}
      },
      "source": [
        "def normalize(arr:np.array):\n",
        "    return (arr - arr.min())/(arr.max()-arr.min())"
      ],
      "execution_count": 121,
      "outputs": []
    },
    {
      "cell_type": "code",
      "metadata": {
        "colab_type": "code",
        "id": "RPCultmr7E--",
        "colab": {}
      },
      "source": [
        "def extract(data_stream):\n",
        "    raw_data = data_stream.readlines()\n",
        "    data = []\n",
        "    for line in raw_data:\n",
        "        temp = np.array([float(x) for x in line.split()])\n",
        "        data.append(temp)\n",
        "    return np.array(data)\n",
        "\n",
        "def format_fname(_group, _hand, _subj, _tr_num):\n",
        "    directory = 'drive/My Drive/Subjects'\n",
        "    fname_pattern = f'{_group}_subject_{_subj}_{_hand}_tr_{_tr_num}.dat'\n",
        "    return join(directory, fname_pattern)\n",
        "\n",
        "hands = ('lefthand', 'righthand')\n",
        "groups = ('OLD', 'YOUNG')\n",
        "subjects = np.arange(1, 11)\n",
        "trials = np.arange(1, 16)\n",
        "total = len(hands)*len(groups)*len(subjects)*len(trials)"
      ],
      "execution_count": 122,
      "outputs": []
    },
    {
      "cell_type": "code",
      "metadata": {
        "colab_type": "code",
        "id": "cS8NIB5E7E_A",
        "colab": {}
      },
      "source": [
        "epochs = []\n",
        "\n",
        "for trial in trials:\n",
        "    fin = open(format_fname('YOUNG', hands[1], subjects[0], trial))\n",
        "    epochs.append(extract(fin))\n",
        "    fin.close()\n",
        "\n",
        "epochs = np.array(epochs)"
      ],
      "execution_count": 123,
      "outputs": []
    },
    {
      "cell_type": "code",
      "metadata": {
        "colab_type": "code",
        "id": "cZ1C82ZODU8Z",
        "colab": {}
      },
      "source": [
        "t = np.linspace(0, 12, 3001)\n",
        "tp7 = epochs[::, r_mapping['TP7'], ::]\n",
        "cz = epochs[::, r_mapping['Cz'], ::]\n",
        "lowcut = 8.0\n",
        "highcut = 12.0\n",
        "cz_filtered = butter_bandpass_filter(cz, lowcut, highcut, sfq, order=6)\n",
        "tp7_filtered = butter_bandpass_filter(tp7, lowcut, highcut, sfq, order=6)\n",
        "#tp7_filtered = np.array([(tp7_filtered[i] - np.min(tp7_filtered[i]))/(np.max(tp7_filtered[i]) - np.min(tp7_filtered[i])) for i in range(len(tp7_filtered))])\n",
        "#cz_filtered = np.array([(cz_filtered[i] - np.min(cz_filtered[i]))/(np.max(cz_filtered[i]) - np.min(cz_filtered[i])) for i in range(len(cz_filtered))])"
      ],
      "execution_count": 124,
      "outputs": []
    },
    {
      "cell_type": "code",
      "metadata": {
        "id": "tEt20ByNeMD0",
        "colab_type": "code",
        "colab": {
          "base_uri": "https://localhost:8080/",
          "height": 34
        },
        "outputId": "bde73a84-ef32-462f-b0d2-5b6613c0ba90"
      },
      "source": [
        "tp7_filtered = tp7_filtered.T\n",
        "cz_filtered = cz_filtered.T\n",
        "print(tp7_filtered.shape, cz_filtered.shape)"
      ],
      "execution_count": 25,
      "outputs": [
        {
          "output_type": "stream",
          "text": [
            "(3001, 15) (3001, 15)\n"
          ],
          "name": "stdout"
        }
      ]
    },
    {
      "cell_type": "markdown",
      "metadata": {
        "id": "PafW9uWaeMD4",
        "colab_type": "text"
      },
      "source": [
        "Создание и тестирование нейросети"
      ]
    },
    {
      "cell_type": "markdown",
      "metadata": {
        "id": "wpIEXT7beMD5",
        "colab_type": "text"
      },
      "source": [
        "Создание модели"
      ]
    },
    {
      "cell_type": "code",
      "metadata": {
        "colab_type": "code",
        "id": "eK8kQ8PWerMI",
        "colab": {}
      },
      "source": [
        "### Added\n",
        "#Создание модели\n",
        "def baseline_model():\n",
        "    model = tf.keras.Sequential()\n",
        "    model.add(layers.Dense(1, activation='relu'))\n",
        "    model.add(layers.Dense(100, activation='relu'))\n",
        "    model.add(layers.Dense(100, activation='relu'))\n",
        "    model.add(layers.Dense(1, activation='relu'))\n",
        "    #Компиляция модели\n",
        "    model.compile(loss='mse', optimizer=tf.optimizers.Adam(0.0001), metrics=[coeff_determination])\n",
        "    return model"
      ],
      "execution_count": 125,
      "outputs": []
    },
    {
      "cell_type": "markdown",
      "metadata": {
        "id": "_O3MMfmJeMD8",
        "colab_type": "text"
      },
      "source": [
        "Early Stopping and checkpointing"
      ]
    },
    {
      "cell_type": "code",
      "metadata": {
        "id": "iGckwsg3eMD8",
        "colab_type": "code",
        "colab": {}
      },
      "source": [
        "model_dir = 'D:\\\\Jupyterlabs\\\\Assignment\\\\saved_models\\\\best_model.h5'"
      ],
      "execution_count": null,
      "outputs": []
    },
    {
      "cell_type": "code",
      "metadata": {
        "id": "gQ0rtXA_eMD_",
        "colab_type": "code",
        "colab": {
          "base_uri": "https://localhost:8080/",
          "height": 231
        },
        "outputId": "3b064cdc-c194-4c3b-ace8-d4c7c7d013fd"
      },
      "source": [
        "my_callbacks = [\n",
        "    tf.keras.callbacks.ModelCheckpoint(model_dir, monitor='coeff_determination', verbose=0, mode='max', save_best_only=True),\n",
        "    tf.keras.callbacks.EarlyStopping(mode='min', patience=50, min_delta=0.001),\n",
        "    tf.keras.callbacks.EarlyStopping(monitor='coeff_determination', mode='max', baseline=0.6, patience=20, min_delta=0.01)\n",
        "]"
      ],
      "execution_count": null,
      "outputs": [
        {
          "output_type": "error",
          "ename": "NameError",
          "evalue": "ignored",
          "traceback": [
            "\u001b[0;31m---------------------------------------------------------------------------\u001b[0m",
            "\u001b[0;31mNameError\u001b[0m                                 Traceback (most recent call last)",
            "\u001b[0;32m<ipython-input-17-15fc1cb39bda>\u001b[0m in \u001b[0;36m<module>\u001b[0;34m()\u001b[0m\n\u001b[1;32m      1\u001b[0m my_callbacks = [\n\u001b[0;32m----> 2\u001b[0;31m     \u001b[0mtf\u001b[0m\u001b[0;34m.\u001b[0m\u001b[0mkeras\u001b[0m\u001b[0;34m.\u001b[0m\u001b[0mcallbacks\u001b[0m\u001b[0;34m.\u001b[0m\u001b[0mModelCheckpoint\u001b[0m\u001b[0;34m(\u001b[0m\u001b[0mmodel_dir\u001b[0m\u001b[0;34m,\u001b[0m \u001b[0mmonitor\u001b[0m\u001b[0;34m=\u001b[0m\u001b[0;34m'coeff_determination'\u001b[0m\u001b[0;34m,\u001b[0m \u001b[0mverbose\u001b[0m\u001b[0;34m=\u001b[0m\u001b[0;36m0\u001b[0m\u001b[0;34m,\u001b[0m \u001b[0mmode\u001b[0m\u001b[0;34m=\u001b[0m\u001b[0;34m'max'\u001b[0m\u001b[0;34m,\u001b[0m \u001b[0msave_best_only\u001b[0m\u001b[0;34m=\u001b[0m\u001b[0;32mTrue\u001b[0m\u001b[0;34m)\u001b[0m\u001b[0;34m,\u001b[0m\u001b[0;34m\u001b[0m\u001b[0;34m\u001b[0m\u001b[0m\n\u001b[0m\u001b[1;32m      3\u001b[0m     \u001b[0mtf\u001b[0m\u001b[0;34m.\u001b[0m\u001b[0mkeras\u001b[0m\u001b[0;34m.\u001b[0m\u001b[0mcallbacks\u001b[0m\u001b[0;34m.\u001b[0m\u001b[0mEarlyStopping\u001b[0m\u001b[0;34m(\u001b[0m\u001b[0mmode\u001b[0m\u001b[0;34m=\u001b[0m\u001b[0;34m'min'\u001b[0m\u001b[0;34m,\u001b[0m \u001b[0mpatience\u001b[0m\u001b[0;34m=\u001b[0m\u001b[0;36m50\u001b[0m\u001b[0;34m,\u001b[0m \u001b[0mmin_delta\u001b[0m\u001b[0;34m=\u001b[0m\u001b[0;36m0.001\u001b[0m\u001b[0;34m)\u001b[0m\u001b[0;34m,\u001b[0m\u001b[0;34m\u001b[0m\u001b[0;34m\u001b[0m\u001b[0m\n\u001b[1;32m      4\u001b[0m     \u001b[0mtf\u001b[0m\u001b[0;34m.\u001b[0m\u001b[0mkeras\u001b[0m\u001b[0;34m.\u001b[0m\u001b[0mcallbacks\u001b[0m\u001b[0;34m.\u001b[0m\u001b[0mEarlyStopping\u001b[0m\u001b[0;34m(\u001b[0m\u001b[0mmonitor\u001b[0m\u001b[0;34m=\u001b[0m\u001b[0;34m'coeff_determination'\u001b[0m\u001b[0;34m,\u001b[0m \u001b[0mmode\u001b[0m\u001b[0;34m=\u001b[0m\u001b[0;34m'max'\u001b[0m\u001b[0;34m,\u001b[0m \u001b[0mbaseline\u001b[0m\u001b[0;34m=\u001b[0m\u001b[0;36m0.6\u001b[0m\u001b[0;34m,\u001b[0m \u001b[0mpatience\u001b[0m\u001b[0;34m=\u001b[0m\u001b[0;36m20\u001b[0m\u001b[0;34m,\u001b[0m \u001b[0mmin_delta\u001b[0m\u001b[0;34m=\u001b[0m\u001b[0;36m0.01\u001b[0m\u001b[0;34m)\u001b[0m\u001b[0;34m\u001b[0m\u001b[0;34m\u001b[0m\u001b[0m\n\u001b[1;32m      5\u001b[0m ]\n",
            "\u001b[0;31mNameError\u001b[0m: name 'model_dir' is not defined"
          ]
        }
      ]
    },
    {
      "cell_type": "markdown",
      "metadata": {
        "id": "ZPOS4jrfeMEC",
        "colab_type": "text"
      },
      "source": [
        "Выделение тренировочного множества и его нормализация"
      ]
    },
    {
      "cell_type": "code",
      "metadata": {
        "id": "zkSzrtzdeMEC",
        "colab_type": "code",
        "colab": {}
      },
      "source": [
        "### Тренируем сетку\n",
        "src = cz_filtered[3*int(sfq*wnd):6*int(sfq*wnd), 0]\n",
        "trgt = tp7_filtered[3*int(sfq*wnd):6*int(sfq*wnd), 0]\n",
        "src = normalize(src).reshape((750,1))\n",
        "trgt = normalize(trgt).reshape((750,1))"
      ],
      "execution_count": 111,
      "outputs": []
    },
    {
      "cell_type": "markdown",
      "metadata": {
        "id": "ZOYbKSideMEE",
        "colab_type": "text"
      },
      "source": [
        "Валидационное множество и его создание\n"
      ]
    },
    {
      "cell_type": "code",
      "metadata": {
        "id": "8pzCM2DzeMEF",
        "colab_type": "code",
        "colab": {}
      },
      "source": [
        "### Validation set\n",
        "src_predict1 = cz_filtered[6*int(sfq*wnd):9*int(sfq*wnd), 0]\n",
        "trgt_predict1 = tp7_filtered[6*int(sfq*wnd):9*int(sfq*wnd), 0]\n",
        "src_predict1 = normalize(src_predict1).reshape((750,1))\n",
        "trgt_predict1 = normalize(trgt_predict1).reshape((750,1))"
      ],
      "execution_count": 108,
      "outputs": []
    },
    {
      "cell_type": "code",
      "metadata": {
        "id": "oiTfGz1peMEH",
        "colab_type": "code",
        "colab": {}
      },
      "source": [
        "\n",
        "tf.keras.backend.set_floatx('float64')"
      ],
      "execution_count": 109,
      "outputs": []
    },
    {
      "cell_type": "code",
      "metadata": {
        "id": "vL6SqMd2eMEK",
        "colab_type": "code",
        "colab": {
          "base_uri": "https://localhost:8080/",
          "height": 510
        },
        "outputId": "22ec8a49-e76e-4577-bc77-f3533ee565d4"
      },
      "source": [
        "### Model\n",
        "\n",
        "for tr in range(14):\n",
        "    src = cz_filtered[tr:tr+1, sfq*6:sfq*11].T\n",
        "    trgt = tp7_filtered[tr:tr+1, sfq*6:sfq*11].T\n",
        "    src = normalize(src)\n",
        "    trgt = normalize(trgt)\n",
        "    src_next = cz_filtered[tr:tr+1, sfq*6:sfq*11].T\n",
        "    trgt_next = tp7_filtered[tr:tr+1, sfq*6:sfq*11].T\n",
        "    model.fit(src, trgt, epochs = 10, batch_size=32, verbose=False)\n",
        "    res = model.predict(src_next, verbose=False)\n",
        "    c = coeff_determination_simp(trgt_next.T, res.T)\n",
        "    print(f'Current trial: {tr} ### Second: {i}-{i+1} ### Fit: {c}')\n",
        "    model = tf.keras.Sequential()\n",
        "    model.compile(optimizer=tf.keras.optimizers.Adam(0.001),\n",
        "              loss='mse',\n",
        "              metrics=[coeff_determination])\n",
        "    print('@@@ New trial @@@')\n",
        "\n",
        "### Prediction results\n",
        "res = model.predict(src_predict1, batch_size=100)\n",
        "mse = np.square(np.subtract(res, trgt_predict1)).mean()\n",
        "print('R Squared: ', r2_score(trgt_predict1, res), \"; MSE: \", mse)"
      ],
      "execution_count": 130,
      "outputs": [
        {
          "output_type": "stream",
          "text": [
            "Current trial: 0 ### Second: 13-14 ### Fit: 0.9975048048096566\n",
            "@@@ New trial @@@\n",
            "Current trial: 1 ### Second: 13-14 ### Fit: 0.9980863707531427\n",
            "@@@ New trial @@@\n",
            "Current trial: 2 ### Second: 13-14 ### Fit: 0.9982401104905999\n",
            "@@@ New trial @@@\n",
            "Current trial: 3 ### Second: 13-14 ### Fit: 0.9977855304067672\n",
            "@@@ New trial @@@\n",
            "Current trial: 4 ### Second: 13-14 ### Fit: 0.9983673601553122\n",
            "@@@ New trial @@@\n",
            "Current trial: 5 ### Second: 13-14 ### Fit: 0.9985122213473435\n",
            "@@@ New trial @@@\n",
            "Current trial: 6 ### Second: 13-14 ### Fit: 0.9973520806148621\n",
            "@@@ New trial @@@\n",
            "Current trial: 7 ### Second: 13-14 ### Fit: 0.9985711853947747\n",
            "@@@ New trial @@@\n",
            "Current trial: 8 ### Second: 13-14 ### Fit: 0.9969978234459413\n",
            "@@@ New trial @@@\n",
            "Current trial: 9 ### Second: 13-14 ### Fit: 0.9987452310985137\n",
            "@@@ New trial @@@\n",
            "Current trial: 10 ### Second: 13-14 ### Fit: 0.9982283636206766\n",
            "@@@ New trial @@@\n",
            "Current trial: 11 ### Second: 13-14 ### Fit: 0.9963554174952947\n",
            "@@@ New trial @@@\n",
            "Current trial: 12 ### Second: 13-14 ### Fit: 0.9970980259556917\n",
            "@@@ New trial @@@\n",
            "Current trial: 13 ### Second: 13-14 ### Fit: 0.9985180710160474\n",
            "@@@ New trial @@@\n",
            "R Squared:  -0.5904695327225484 ; MSE:  0.0471712529880387\n"
          ],
          "name": "stdout"
        }
      ]
    },
    {
      "cell_type": "markdown",
      "metadata": {
        "id": "_kd4CygyeMEM",
        "colab_type": "text"
      },
      "source": [
        "Визуализация"
      ]
    },
    {
      "cell_type": "code",
      "metadata": {
        "id": "PTXmr1Vh9POx",
        "colab_type": "code",
        "colab": {
          "base_uri": "https://localhost:8080/",
          "height": 51
        },
        "outputId": "002b06c3-69e3-471d-9428-94eb018fdab5"
      },
      "source": [
        "model.evaluate(src_predict1,trgt_predict1)"
      ],
      "execution_count": 131,
      "outputs": [
        {
          "output_type": "stream",
          "text": [
            "24/24 [==============================] - 0s 2ms/step - loss: 0.0472 - coeff_determination: -3.6913\n"
          ],
          "name": "stdout"
        },
        {
          "output_type": "execute_result",
          "data": {
            "text/plain": [
              "[0.04717125289825102, -3.6912755671358948]"
            ]
          },
          "metadata": {
            "tags": []
          },
          "execution_count": 131
        }
      ]
    },
    {
      "cell_type": "code",
      "metadata": {
        "id": "TjOs4cq3eMEN",
        "colab_type": "code",
        "colab": {
          "base_uri": "https://localhost:8080/",
          "height": 279
        },
        "outputId": "44e5ab75-8f84-418b-e719-3318e7e22a63"
      },
      "source": [
        "### Данные, которые мы предсказываем\n",
        "a = range(0, 250)\n",
        "plt.figure()\n",
        "plt.plot(trgt_predict1[:], label='source')\n",
        "plt.plot(res[:], label='prediciton')\n",
        "plt.xlabel('t')\n",
        "plt.ylabel('X')\n",
        "plt.legend()\n",
        "plt.show()"
      ],
      "execution_count": 132,
      "outputs": [
        {
          "output_type": "display_data",
          "data": {
            "image/png": "[encoded data removed]",
            "text/plain": [
              "<Figure size 432x288 with 1 Axes>"
            ]
          },
          "metadata": {
            "tags": [],
            "needs_background": "light"
          }
        }
      ]
    },
    {
      "cell_type": "code",
      "metadata": {
        "id": "LEiW51xceMEP",
        "colab_type": "code",
        "colab": {
          "base_uri": "https://localhost:8080/",
          "height": 180
        },
        "outputId": "f1daff4f-9581-46ab-f441-2b99f1e03009"
      },
      "source": [
        "a = pd.DataFrame(histories.history)\n",
        "a.describe()"
      ],
      "execution_count": 57,
      "outputs": [
        {
          "output_type": "error",
          "ename": "NameError",
          "evalue": "ignored",
          "traceback": [
            "\u001b[0;31m---------------------------------------------------------------------------\u001b[0m",
            "\u001b[0;31mNameError\u001b[0m                                 Traceback (most recent call last)",
            "\u001b[0;32m<ipython-input-57-64445b39f11d>\u001b[0m in \u001b[0;36m<module>\u001b[0;34m()\u001b[0m\n\u001b[0;32m----> 1\u001b[0;31m \u001b[0ma\u001b[0m \u001b[0;34m=\u001b[0m \u001b[0mpd\u001b[0m\u001b[0;34m.\u001b[0m\u001b[0mDataFrame\u001b[0m\u001b[0;34m(\u001b[0m\u001b[0mhistories\u001b[0m\u001b[0;34m.\u001b[0m\u001b[0mhistory\u001b[0m\u001b[0;34m)\u001b[0m\u001b[0;34m\u001b[0m\u001b[0;34m\u001b[0m\u001b[0m\n\u001b[0m\u001b[1;32m      2\u001b[0m \u001b[0ma\u001b[0m\u001b[0;34m.\u001b[0m\u001b[0mdescribe\u001b[0m\u001b[0;34m(\u001b[0m\u001b[0;34m)\u001b[0m\u001b[0;34m\u001b[0m\u001b[0;34m\u001b[0m\u001b[0m\n",
            "\u001b[0;31mNameError\u001b[0m: name 'histories' is not defined"
          ]
        }
      ]
    },
    {
      "cell_type": "code",
      "metadata": {
        "colab_type": "code",
        "id": "sfv0sGLeeNgK",
        "colab": {
          "base_uri": "https://localhost:8080/",
          "height": 197
        },
        "outputId": "b2271c9a-36b1-4f29-f9cb-becca829d72e"
      },
      "source": [
        "###ADDED\n",
        "### Рисует график обучения (loss function) и график метрики (coeff_determination). Своровано и адаптировано отсюда: https://www.tensorflow.org/tutorials/keras/regression?hl=ru\n",
        "def plot_history(history):\n",
        "    hist = pd.DataFrame(history.history)\n",
        "    hist['epoch'] = history.epoch\n",
        "\n",
        "    plt.figure()\n",
        "    plt.xlabel('Epoch')\n",
        "    plt.ylabel('Loss')\n",
        "    plt.plot(hist['epoch'], hist['loss'],\n",
        "           label = 'Loss function')\n",
        "    plt.plot(hist['epoch'], hist['val_loss'],\n",
        "           label = 'val_loss')\n",
        "    plt.legend()\n",
        "    plt.show()\n",
        "\n",
        "\n",
        "plot_history(histories)"
      ],
      "execution_count": 95,
      "outputs": [
        {
          "output_type": "error",
          "ename": "NameError",
          "evalue": "ignored",
          "traceback": [
            "\u001b[0;31m---------------------------------------------------------------------------\u001b[0m",
            "\u001b[0;31mNameError\u001b[0m                                 Traceback (most recent call last)",
            "\u001b[0;32m<ipython-input-95-ac3bb714729b>\u001b[0m in \u001b[0;36m<module>\u001b[0;34m()\u001b[0m\n\u001b[1;32m     16\u001b[0m \u001b[0;34m\u001b[0m\u001b[0m\n\u001b[1;32m     17\u001b[0m \u001b[0;34m\u001b[0m\u001b[0m\n\u001b[0;32m---> 18\u001b[0;31m \u001b[0mplot_history\u001b[0m\u001b[0;34m(\u001b[0m\u001b[0mhistories\u001b[0m\u001b[0;34m)\u001b[0m\u001b[0;34m\u001b[0m\u001b[0;34m\u001b[0m\u001b[0m\n\u001b[0m",
            "\u001b[0;31mNameError\u001b[0m: name 'histories' is not defined"
          ]
        }
      ]
    },
    {
      "cell_type": "code",
      "metadata": {
        "id": "XxSBFfRgeMEV",
        "colab_type": "code",
        "colab": {
          "base_uri": "https://localhost:8080/",
          "height": 197
        },
        "outputId": "e470a7a2-312c-4fd1-f986-8264d0a8ae84"
      },
      "source": [
        "def plot_history2(history):\n",
        "    hist = pd.DataFrame(history.history)\n",
        "    hist['epoch'] = history.epoch\n",
        "\n",
        "    plt.figure()\n",
        "    plt.xlabel('Epoch')\n",
        "    plt.ylabel('val_coeff_determination')\n",
        "    plt.plot(hist['epoch'], hist['val_coeff_determination'],\n",
        "           label='Coefficient of determination')\n",
        "    plt.plot(hist['epoch'], hist['coeff_determination'],\n",
        "           label='Coefficient of determination')\n",
        "    plt.legend()\n",
        "    plt.show()\n",
        "\n",
        "\n",
        "plot_history2(histories)"
      ],
      "execution_count": 94,
      "outputs": [
        {
          "output_type": "error",
          "ename": "NameError",
          "evalue": "ignored",
          "traceback": [
            "\u001b[0;31m---------------------------------------------------------------------------\u001b[0m",
            "\u001b[0;31mNameError\u001b[0m                                 Traceback (most recent call last)",
            "\u001b[0;32m<ipython-input-94-a0d90a041f79>\u001b[0m in \u001b[0;36m<module>\u001b[0;34m()\u001b[0m\n\u001b[1;32m     14\u001b[0m \u001b[0;34m\u001b[0m\u001b[0m\n\u001b[1;32m     15\u001b[0m \u001b[0;34m\u001b[0m\u001b[0m\n\u001b[0;32m---> 16\u001b[0;31m \u001b[0mplot_history2\u001b[0m\u001b[0;34m(\u001b[0m\u001b[0mhistories\u001b[0m\u001b[0;34m)\u001b[0m\u001b[0;34m\u001b[0m\u001b[0;34m\u001b[0m\u001b[0m\n\u001b[0m",
            "\u001b[0;31mNameError\u001b[0m: name 'histories' is not defined"
          ]
        }
      ]
    },
    {
      "cell_type": "code",
      "metadata": {
        "id": "nFot-aCVeMEY",
        "colab_type": "code",
        "colab": {
          "base_uri": "https://localhost:8080/",
          "height": 297
        },
        "outputId": "f5034c92-6a20-4b38-f3a5-38444005ba93"
      },
      "source": [
        "hist = pd.DataFrame(histories.history)\n",
        "hist.describe()"
      ],
      "execution_count": null,
      "outputs": [
        {
          "output_type": "execute_result",
          "data": {
            "text/html": [
              "<div>\n",
              "<style scoped>\n",
              "    .dataframe tbody tr th:only-of-type {\n",
              "        vertical-align: middle;\n",
              "    }\n",
              "\n",
              "    .dataframe tbody tr th {\n",
              "        vertical-align: top;\n",
              "    }\n",
              "\n",
              "    .dataframe thead th {\n",
              "        text-align: right;\n",
              "    }\n",
              "</style>\n",
              "<table border=\"1\" class=\"dataframe\">\n",
              "  <thead>\n",
              "    <tr style=\"text-align: right;\">\n",
              "      <th></th>\n",
              "      <th>loss</th>\n",
              "      <th>coeff_determination</th>\n",
              "      <th>val_loss</th>\n",
              "      <th>val_coeff_determination</th>\n",
              "    </tr>\n",
              "  </thead>\n",
              "  <tbody>\n",
              "    <tr>\n",
              "      <th>count</th>\n",
              "      <td>20.000000</td>\n",
              "      <td>20.000000</td>\n",
              "      <td>20.000000</td>\n",
              "      <td>20.000000</td>\n",
              "    </tr>\n",
              "    <tr>\n",
              "      <th>mean</th>\n",
              "      <td>0.012359</td>\n",
              "      <td>0.040077</td>\n",
              "      <td>0.016556</td>\n",
              "      <td>0.113504</td>\n",
              "    </tr>\n",
              "    <tr>\n",
              "      <th>std</th>\n",
              "      <td>0.000124</td>\n",
              "      <td>0.019009</td>\n",
              "      <td>0.000303</td>\n",
              "      <td>0.004164</td>\n",
              "    </tr>\n",
              "    <tr>\n",
              "      <th>min</th>\n",
              "      <td>0.012236</td>\n",
              "      <td>0.004607</td>\n",
              "      <td>0.015977</td>\n",
              "      <td>0.102537</td>\n",
              "    </tr>\n",
              "    <tr>\n",
              "      <th>25%</th>\n",
              "      <td>0.012262</td>\n",
              "      <td>0.028408</td>\n",
              "      <td>0.016331</td>\n",
              "      <td>0.110969</td>\n",
              "    </tr>\n",
              "    <tr>\n",
              "      <th>50%</th>\n",
              "      <td>0.012303</td>\n",
              "      <td>0.045739</td>\n",
              "      <td>0.016594</td>\n",
              "      <td>0.114384</td>\n",
              "    </tr>\n",
              "    <tr>\n",
              "      <th>75%</th>\n",
              "      <td>0.012436</td>\n",
              "      <td>0.054713</td>\n",
              "      <td>0.016813</td>\n",
              "      <td>0.115525</td>\n",
              "    </tr>\n",
              "    <tr>\n",
              "      <th>max</th>\n",
              "      <td>0.012611</td>\n",
              "      <td>0.062558</td>\n",
              "      <td>0.016940</td>\n",
              "      <td>0.120116</td>\n",
              "    </tr>\n",
              "  </tbody>\n",
              "</table>\n",
              "</div>"
            ],
            "text/plain": [
              "            loss  coeff_determination   val_loss  val_coeff_determination\n",
              "count  20.000000            20.000000  20.000000                20.000000\n",
              "mean    0.012359             0.040077   0.016556                 0.113504\n",
              "std     0.000124             0.019009   0.000303                 0.004164\n",
              "min     0.012236             0.004607   0.015977                 0.102537\n",
              "25%     0.012262             0.028408   0.016331                 0.110969\n",
              "50%     0.012303             0.045739   0.016594                 0.114384\n",
              "75%     0.012436             0.054713   0.016813                 0.115525\n",
              "max     0.012611             0.062558   0.016940                 0.120116"
            ]
          },
          "metadata": {
            "tags": []
          },
          "execution_count": 107
        }
      ]
    },
    {
      "cell_type": "markdown",
      "metadata": {
        "id": "5_U-pnZ2eMEa",
        "colab_type": "text"
      },
      "source": [
        "Cross-validation"
      ]
    },
    {
      "cell_type": "code",
      "metadata": {
        "id": "0b_YgLBVeMEb",
        "colab_type": "code",
        "colab": {}
      },
      "source": [
        "def get_model_name(k):\n",
        "    return 'model_'+str(k)+'.h5'"
      ],
      "execution_count": null,
      "outputs": []
    },
    {
      "cell_type": "code",
      "metadata": {
        "id": "EhSHn8D9eMEe",
        "colab_type": "code",
        "colab": {
          "base_uri": "https://localhost:8080/",
          "height": 180
        },
        "outputId": "27cdeec5-11e3-4a3c-a131-9711705db010"
      },
      "source": [
        "kf = KFold(n_splits = 5)\n",
        "skf = StratifiedKFold(n_split = 5, random_state = 7, shuffle = True)"
      ],
      "execution_count": null,
      "outputs": [
        {
          "output_type": "error",
          "ename": "TypeError",
          "evalue": "ignored",
          "traceback": [
            "\u001b[0;31m---------------------------------------------------------------------------\u001b[0m",
            "\u001b[0;31mTypeError\u001b[0m                                 Traceback (most recent call last)",
            "\u001b[0;32m<ipython-input-109-9f15e1fde0f2>\u001b[0m in \u001b[0;36m<module>\u001b[0;34m()\u001b[0m\n\u001b[1;32m      1\u001b[0m \u001b[0mkf\u001b[0m \u001b[0;34m=\u001b[0m \u001b[0mKFold\u001b[0m\u001b[0;34m(\u001b[0m\u001b[0mn_splits\u001b[0m \u001b[0;34m=\u001b[0m \u001b[0;36m5\u001b[0m\u001b[0;34m)\u001b[0m\u001b[0;34m\u001b[0m\u001b[0;34m\u001b[0m\u001b[0m\n\u001b[0;32m----> 2\u001b[0;31m \u001b[0mskf\u001b[0m \u001b[0;34m=\u001b[0m \u001b[0mStratifiedKFold\u001b[0m\u001b[0;34m(\u001b[0m\u001b[0mn_split\u001b[0m \u001b[0;34m=\u001b[0m \u001b[0;36m5\u001b[0m\u001b[0;34m,\u001b[0m \u001b[0mrandom_state\u001b[0m \u001b[0;34m=\u001b[0m \u001b[0;36m7\u001b[0m\u001b[0;34m,\u001b[0m \u001b[0mshuffle\u001b[0m \u001b[0;34m=\u001b[0m \u001b[0;32mTrue\u001b[0m\u001b[0;34m)\u001b[0m\u001b[0;34m\u001b[0m\u001b[0;34m\u001b[0m\u001b[0m\n\u001b[0m",
            "\u001b[0;31mTypeError\u001b[0m: __init__() got an unexpected keyword argument 'n_split'"
          ]
        }
      ]
    },
    {
      "cell_type": "code",
      "metadata": {
        "id": "TL0ZZOkxeMEg",
        "colab_type": "code",
        "colab": {
          "base_uri": "https://localhost:8080/",
          "height": 231
        },
        "outputId": "95a63e20-3c86-4e4b-8d88-6cb88c72cdbe"
      },
      "source": [
        "### Source: https://www.machinecurve.com/index.php/2020/02/18/how-to-use-k-fold-cross-validation-with-keras/ https://www.machinecurve.com/index.php/2020/02/18/how-to-use-k-fold-cross-validation-with-keras/\n",
        "\n",
        "\n",
        "VALIDATION_ACCURACY = []\n",
        "VALIDAITON_LOSS = []\n",
        "\n",
        "save_dir = 'D:\\\\Jupyterlabs\\\\Assignment\\\\saved_models\\\\best_model.h5'\n",
        "fold_var = 1\n",
        "\n",
        "num_epochs = 500\n",
        "\n",
        "for train_index, val_index in kf.split(np.zeros(n),Y):\n",
        "    training_data = train_data.iloc[train_index]\n",
        "    validation_data = train_data.iloc[val_index]\n",
        "    \n",
        "    train_data_generator = idg.flow_from_dataframe(training_data, directory = image_dir,\n",
        "                               x_col = \"filename\", y_col = \"label\",\n",
        "                               class_mode = \"categorical\", shuffle = True)\n",
        "    valid_data_generator  = idg.flow_from_dataframe(validation_data, directory = image_dir,\n",
        "                            x_col = \"filename\", y_col = \"label\",\n",
        "                            class_mode = \"categorical\", shuffle = True)\n",
        "        \n",
        "    # CREATE NEW MODEL\n",
        "    model = baseline_model()\n",
        "    \n",
        "    # CREATE CALLBACKS\n",
        "    checkpoint = tf.keras.callbacks.ModelCheckpoint(save_dir+get_model_name(fold_var), \n",
        "                            monitor='val_accuracy', verbose=1, \n",
        "                            save_best_only=True, mode='max')\n",
        "    callbacks_list = [checkpoint]\n",
        "    # There can be other callbacks, but just showing one because it involves the model name\n",
        "    # This saves the best model\n",
        "    # FIT THE MODEL\n",
        "    history = model.fit(train_data_generator,\n",
        "                epochs=num_epochs,\n",
        "                callbacks=callbacks_list,\n",
        "                validation_data=valid_data_generator)\n",
        "    #PLOT HISTORY\n",
        "    #:\n",
        "    #:\n",
        "    \n",
        "    # LOAD BEST MODEL to evaluate the performance of the model\n",
        "    model.load_weights(\"/saved_models/model_\"+str(fold_var)+\".h5\")\n",
        "    \n",
        "    results = model.evaluate(valid_data_generator)\n",
        "    results = dict(zip(model.metrics_names,results))\n",
        "    \n",
        "    VALIDATION_ACCURACY.append(results['accuracy'])\n",
        "    VALIDATION_LOSS.append(results['loss'])\n",
        "    \n",
        "    tf.keras.backend.clear_session()\n",
        "    \n",
        "    fold_var += 1"
      ],
      "execution_count": null,
      "outputs": [
        {
          "output_type": "error",
          "ename": "NameError",
          "evalue": "ignored",
          "traceback": [
            "\u001b[0;31m---------------------------------------------------------------------------\u001b[0m",
            "\u001b[0;31mNameError\u001b[0m                                 Traceback (most recent call last)",
            "\u001b[0;32m<ipython-input-110-b9558be4cdaf>\u001b[0m in \u001b[0;36m<module>\u001b[0;34m()\u001b[0m\n\u001b[1;32m     10\u001b[0m \u001b[0mnum_epochs\u001b[0m \u001b[0;34m=\u001b[0m \u001b[0;36m500\u001b[0m\u001b[0;34m\u001b[0m\u001b[0;34m\u001b[0m\u001b[0m\n\u001b[1;32m     11\u001b[0m \u001b[0;34m\u001b[0m\u001b[0m\n\u001b[0;32m---> 12\u001b[0;31m \u001b[0;32mfor\u001b[0m \u001b[0mtrain_index\u001b[0m\u001b[0;34m,\u001b[0m \u001b[0mval_index\u001b[0m \u001b[0;32min\u001b[0m \u001b[0mkf\u001b[0m\u001b[0;34m.\u001b[0m\u001b[0msplit\u001b[0m\u001b[0;34m(\u001b[0m\u001b[0mnp\u001b[0m\u001b[0;34m.\u001b[0m\u001b[0mzeros\u001b[0m\u001b[0;34m(\u001b[0m\u001b[0mn\u001b[0m\u001b[0;34m)\u001b[0m\u001b[0;34m,\u001b[0m\u001b[0mY\u001b[0m\u001b[0;34m)\u001b[0m\u001b[0;34m:\u001b[0m\u001b[0;34m\u001b[0m\u001b[0;34m\u001b[0m\u001b[0m\n\u001b[0m\u001b[1;32m     13\u001b[0m     \u001b[0mtraining_data\u001b[0m \u001b[0;34m=\u001b[0m \u001b[0mtrain_data\u001b[0m\u001b[0;34m.\u001b[0m\u001b[0miloc\u001b[0m\u001b[0;34m[\u001b[0m\u001b[0mtrain_index\u001b[0m\u001b[0;34m]\u001b[0m\u001b[0;34m\u001b[0m\u001b[0;34m\u001b[0m\u001b[0m\n\u001b[1;32m     14\u001b[0m     \u001b[0mvalidation_data\u001b[0m \u001b[0;34m=\u001b[0m \u001b[0mtrain_data\u001b[0m\u001b[0;34m.\u001b[0m\u001b[0miloc\u001b[0m\u001b[0;34m[\u001b[0m\u001b[0mval_index\u001b[0m\u001b[0;34m]\u001b[0m\u001b[0;34m\u001b[0m\u001b[0;34m\u001b[0m\u001b[0m\n",
            "\u001b[0;31mNameError\u001b[0m: name 'n' is not defined"
          ]
        }
      ]
    },
    {
      "cell_type": "markdown",
      "metadata": {
        "id": "tRx5MGu3eMEj",
        "colab_type": "text"
      },
      "source": [
        "Проверка нахождения связей"
      ]
    },
    {
      "cell_type": "code",
      "metadata": {
        "id": "pnOjB_60eMEj",
        "colab_type": "code",
        "colab": {
          "base_uri": "https://localhost:8080/",
          "height": 323
        },
        "outputId": "6c4d9bc7-2a92-4001-acbb-718df534746d"
      },
      "source": [
        "### Проверка нахождения связей\n",
        "coefs = {}\n",
        "for tr in range(15):\n",
        "    start_time = time.time()\n",
        "    temp = []\n",
        "    for i in range(int(math.floor(2/wnd)), int(times/wnd)-1):\n",
        "        model = baseline_model()\n",
        "        src = cz_filtered[int(sfq*wnd*i):int(sfq*wnd*(i+1)), tr:tr+1]\n",
        "        trgt = tp7_filtered[int(sfq*wnd*(i+1)):int(sfq*wnd*(i+2)), tr:tr+1]\n",
        "        src = normalize(src)\n",
        "        trgt = normalize(trgt)\n",
        "        model.fit(src, trgt, epochs=500, batch_size=32, verbose=False, validation_split=0.3)\n",
        "        src_full = cz_filtered[int(sfq*wnd*i):int(sfq*wnd*(i+1)):5, tr:tr+1]\n",
        "        trgt_full = tp7_filtered[int(sfq*wnd*(i+1)):int(sfq*wnd*(i+2)):5, tr:tr+1]\n",
        "        src_full = normalize(src)\n",
        "        trgt_full = normalize(trgt)\n",
        "        res = model.predict(src, verbose=False)\n",
        "        c = r2_score(trgt, res)\n",
        "#         estimator = KerasRegressor(build_fn=baseline_model, epochs=500, batch_size=32, verbose=0)\n",
        "#         kfold = KFold(n_splits=10)\n",
        "#         results = cross_val_score(estimator, src, trgt, cv=kfold)\n",
        "        temp.append(c)\n",
        "        print(f'Current trial: {tr} ### Second: {i*wnd}-{(i+1)*wnd} ### R Squared score: {c} ### Time of exec: {time.time() - start_time} seconds')\n",
        "    coefs[tr] = temp\n",
        "    print('@@@ New trial @@@')"
      ],
      "execution_count": null,
      "outputs": [
        {
          "output_type": "stream",
          "text": [
            "Current trial: 0 ### Second: 2-3 ### R Squared score: -5.113173401778491 ### Time of exec: 27.320669889450073 seconds\n",
            "Current trial: 0 ### Second: 3-4 ### R Squared score: -5.649287946189022 ### Time of exec: 54.999436378479004 seconds\n",
            "Current trial: 0 ### Second: 4-5 ### R Squared score: -2.9839759822571166 ### Time of exec: 82.85009360313416 seconds\n",
            "Current trial: 0 ### Second: 5-6 ### R Squared score: -4.440745344540382 ### Time of exec: 110.57078528404236 seconds\n",
            "Current trial: 0 ### Second: 6-7 ### R Squared score: -9.218900708537673 ### Time of exec: 138.2177538871765 seconds\n",
            "Current trial: 0 ### Second: 7-8 ### R Squared score: -7.002551480462921 ### Time of exec: 165.71445393562317 seconds\n",
            "Current trial: 0 ### Second: 8-9 ### R Squared score: -4.69605460290859 ### Time of exec: 193.5099024772644 seconds\n",
            "Current trial: 0 ### Second: 9-10 ### R Squared score: 0.02219815015949589 ### Time of exec: 220.88016843795776 seconds\n",
            "Current trial: 0 ### Second: 10-11 ### R Squared score: -0.0010928242931027565 ### Time of exec: 248.44732093811035 seconds\n",
            "@@@ New trial @@@\n",
            "Current trial: 1 ### Second: 2-3 ### R Squared score: -6.743072906695795 ### Time of exec: 27.288360595703125 seconds\n",
            "Current trial: 1 ### Second: 3-4 ### R Squared score: 0.01944448688451228 ### Time of exec: 55.13519024848938 seconds\n",
            "Current trial: 1 ### Second: 4-5 ### R Squared score: -5.475639662736305 ### Time of exec: 82.79966187477112 seconds\n",
            "Current trial: 1 ### Second: 5-6 ### R Squared score: -6.412552153044269 ### Time of exec: 109.38248682022095 seconds\n",
            "Current trial: 1 ### Second: 6-7 ### R Squared score: -4.936666356341793 ### Time of exec: 136.1247477531433 seconds\n",
            "Current trial: 1 ### Second: 7-8 ### R Squared score: 0.03627503920245423 ### Time of exec: 163.42005562782288 seconds\n",
            "Current trial: 1 ### Second: 8-9 ### R Squared score: -5.41497270594369 ### Time of exec: 191.0632028579712 seconds\n",
            "Current trial: 1 ### Second: 9-10 ### R Squared score: -5.765655555192535 ### Time of exec: 218.52148413658142 seconds\n"
          ],
          "name": "stdout"
        }
      ]
    },
    {
      "cell_type": "code",
      "metadata": {
        "colab_type": "code",
        "id": "RLR4o5-FHjzY",
        "colab": {}
      },
      "source": [
        "coefs = list(coefs.values())"
      ],
      "execution_count": null,
      "outputs": []
    },
    {
      "cell_type": "code",
      "metadata": {
        "colab_type": "code",
        "id": "_RQd6ip9H2fi",
        "colab": {}
      },
      "source": [
        "coefs = np.array(coefs)"
      ],
      "execution_count": null,
      "outputs": []
    },
    {
      "cell_type": "code",
      "metadata": {
        "colab_type": "code",
        "id": "Ur5whX41PXWp",
        "colab": {}
      },
      "source": [
        "plt.hist(coefs.T)\n",
        "plt.show()"
      ],
      "execution_count": null,
      "outputs": []
    },
    {
      "cell_type": "code",
      "metadata": {
        "colab_type": "code",
        "id": "e0zMwBjyPYQf",
        "colab": {}
      },
      "source": [
        "coefs.shape # 15 триалов, в каждом по 9 окон. массив хранит данные о фите для каждого окна"
      ],
      "execution_count": null,
      "outputs": []
    },
    {
      "cell_type": "code",
      "metadata": {
        "colab_type": "code",
        "id": "86VayRDIYiiY",
        "colab": {}
      },
      "source": [
        "len(coefs[0].shape)"
      ],
      "execution_count": null,
      "outputs": []
    },
    {
      "cell_type": "code",
      "metadata": {
        "colab_type": "code",
        "id": "HcaXyWqZgH_n",
        "colab": {}
      },
      "source": [
        ""
      ],
      "execution_count": null,
      "outputs": []
    }
  ]
}