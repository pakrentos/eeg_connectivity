{
  "nbformat": 4,
  "nbformat_minor": 0,
  "metadata": {
    "kernelspec": {
      "name": "python3",
      "display_name": "Python 3"
    },
    "colab": {
      "name": "mlp_eeg.ipynb",
      "provenance": [],
      "collapsed_sections": [],
      "include_colab_link": true
    },
    "accelerator": "TPU"
  },
  "cells": [
    {
      "cell_type": "markdown",
      "metadata": {
        "id": "view-in-github",
        "colab_type": "text"
      },
      "source": [
        "<a href=\"https://colab.research.google.com/github/pakrentos/eeg_connectivity/blob/master/mlp_eeg_nikita.ipynb\" target=\"_parent\"><img src=\"https://colab.research.google.com/assets/colab-badge.svg\" alt=\"Open In Colab\"/></a>"
      ]
    },
    {
      "cell_type": "code",
      "metadata": {
        "id": "iHb06Rt47paD",
        "colab_type": "code",
        "colab": {
          "base_uri": "https://localhost:8080/",
          "height": 34
        },
        "outputId": "41d71166-c667-415d-f3ef-75e1dd69625a"
      },
      "source": [
        "from google.colab import drive\n",
        "drive.mount('/content/drive')"
      ],
      "execution_count": 3,
      "outputs": [
        {
          "output_type": "stream",
          "text": [
            "Drive already mounted at /content/drive; to attempt to forcibly remount, call drive.mount(\"/content/drive\", force_remount=True).\n"
          ],
          "name": "stdout"
        }
      ]
    },
    {
      "cell_type": "code",
      "metadata": {
        "id": "6WCASt15n387",
        "colab_type": "code",
        "colab": {
          "base_uri": "https://localhost:8080/",
          "height": 34
        },
        "outputId": "bcb4df8b-4f87-43f1-c53a-1813198fcdeb"
      },
      "source": [
        "!pip install progress\n",
        "from progress.bar import Bar"
      ],
      "execution_count": 4,
      "outputs": [
        {
          "output_type": "stream",
          "text": [
            "Requirement already satisfied: progress in /usr/local/lib/python3.6/dist-packages (1.5)\n"
          ],
          "name": "stdout"
        }
      ]
    },
    {
      "cell_type": "code",
      "metadata": {
        "id": "1nFDlJbl7E-w",
        "colab_type": "code",
        "colab": {}
      },
      "source": [
        "import numpy as np\n",
        "import scipy as sp\n",
        "from scipy.integrate import solve_ivp\n",
        "from scipy.signal import butter, lfilter\n",
        "from matplotlib import pyplot as plt\n",
        "from os.path import join\n",
        "import time\n",
        "from tensorflow.keras import layers\n",
        "import tensorflow as tf\n",
        "from tensorflow.keras import backend as K\n",
        "from sklearn.metrics import r2_score\n",
        "from scipy.integrate import solve_ivp as ivp\n",
        "from statistics import stdev"
      ],
      "execution_count": 5,
      "outputs": []
    },
    {
      "cell_type": "code",
      "metadata": {
        "id": "Ej1wNKDmdqZS",
        "colab_type": "code",
        "colab": {
          "base_uri": "https://localhost:8080/",
          "height": 71
        },
        "outputId": "4390c2f4-c9e1-4792-8516-ab0b3086937b"
      },
      "source": [
        "###Added\n",
        "import seaborn as sns\n",
        "import pandas as pd\n"
      ],
      "execution_count": null,
      "outputs": [
        {
          "output_type": "stream",
          "text": [
            "/usr/local/lib/python3.6/dist-packages/statsmodels/tools/_testing.py:19: FutureWarning: pandas.util.testing is deprecated. Use the functions in the public API at pandas.testing instead.\n",
            "  import pandas.util.testing as tm\n"
          ],
          "name": "stderr"
        }
      ]
    },
    {
      "cell_type": "code",
      "metadata": {
        "id": "INCKZCIyEQqM",
        "colab_type": "code",
        "colab": {}
      },
      "source": [
        "sfq = 250 # Было 250"
      ],
      "execution_count": 6,
      "outputs": []
    },
    {
      "cell_type": "code",
      "metadata": {
        "id": "1cDttDVmF5cC",
        "colab_type": "code",
        "colab": {}
      },
      "source": [
        "class FloatingWindow():\n",
        "    def __init__(self, arr_src, arr_trgt, sfreq=250, twin=1., vwin=1., step=1.):\n",
        "        assert arr_src.shape == arr_trgt.shape, 'Source and target arrays should be in the same shape'\n",
        "        assert len(arr_src.shape) == 1, 'Arrays should be 1D'\n",
        "        self.data = np.vstack((arr_src, arr_trgt)).T\n",
        "        self.twin = int(twin*sfreq)\n",
        "        self.vwin = int(vwin*sfreq)\n",
        "        self.step = int(step*sfreq)\n",
        "        self.end = (self.data.shape[0] - (self.twin + self.vwin))//self.step\n",
        "        self.coefs = []\n",
        "\n",
        "    def get_model(self):\n",
        "        model = tf.keras.Sequential()\n",
        "        model.add(layers.Dense(1, activation='linear'))\n",
        "        model.add(layers.Dense(20, activation='tanh'))\n",
        "        model.add(layers.Dense(20, activation='tanh'))\n",
        "        model.add(layers.Dense(1, activation='linear'))\n",
        "\n",
        "        model.compile(optimizer=tf.keras.optimizers.Adam(0.001),\n",
        "                        loss='mse',\n",
        "                        metrics=[coeff_determination])\n",
        "        return model\n",
        "    \n",
        "    def _train(self, src, trgt):\n",
        "        self.model = self.get_model()\n",
        "        self.model.fit(src, trgt, epochs=10, batch_size=32, verbose=False)\n",
        "    \n",
        "    def _predict(self, src_v, trgt_v):\n",
        "        assert getattr(self, 'model', None) != None\n",
        "        res = self.model.predict(src_v).T[0]\n",
        "        return r2_score(trgt_v, res)\n",
        "\n",
        "    def test_train(self):\n",
        "        self.init_iter()\n",
        "        self.coefs = []\n",
        "        while self._iter != self.end:\n",
        "            src, trgt, src_v, trgt_v = self.get_sets()\n",
        "            self._train(src, trgt)\n",
        "            self.coefs.append(self._predict(src_v, trgt_v))\n",
        "            self.inc_iter()\n",
        "    \n",
        "    def init_iter(self):\n",
        "        self._iter = 0\n",
        "\n",
        "    def inc_iter(self):\n",
        "        self._iter += 1\n",
        "\n",
        "    def get_win(self):\n",
        "        win = self.data[self.step*self._iter : self.step*self._iter + self.twin + self.vwin]\n",
        "        train = win[:self.twin].T\n",
        "        validate = win[self.twin:].T\n",
        "        return train, validate\n",
        "    \n",
        "    def get_sets(self):\n",
        "        train, validate = self.get_win()\n",
        "        src = train[0][np.newaxis, :].T         # shape (n, 1)\n",
        "        trgt = train[1][np.newaxis, :].T        # shape (n, 1)\n",
        "        src_v = validate[0][np.newaxis, :].T     # shape (n, 1)\n",
        "        trgt_v = validate[1]                     # shape (n,)\n",
        "        return src, trgt, src_v, trgt_v\n",
        "\n",
        "\n",
        "class PashorgWindow(FloatingWindow):\n",
        "    \n",
        "    def get_win(self):\n",
        "        win = self.data[self.step*self._iter : self.step*self._iter + self.twin + self.vwin]\n",
        "        win = np.random.permutation(win)\n",
        "        train = win[:self.twin].T\n",
        "        validate = win[self.twin:].T\n",
        "        return train, validate\n",
        "\n",
        "\n",
        "class CrossWindow(FloatingWindow):\n",
        "    def __init__(self, arr_src, arr_trgt, n=5, sfreq=250, twin=1., vwin=1., step=1.):\n",
        "        self.n = n\n",
        "        super().__init__(arr_src, arr_trgt, sfreq=250, twin=1., vwin=1., step=1.)\n",
        "        assert self.twin % self.n == 0, f'Train window split does not result in an equal division (size of twin: {self.twin})'\n",
        "    \n",
        "    def get_sets(self):\n",
        "        train, validate = self.get_win()\n",
        "        train = np.array(np.split(train, self.n, axis=-1))\n",
        "        dt = []\n",
        "        for i in range(self.n):\n",
        "            temp = (\n",
        "                train[i][0][np.newaxis, :].T,\n",
        "                np.hstack(np.delete(train, i, axis=0))[0][np.newaxis, :].T,\n",
        "                train[i][1],\n",
        "                np.hstack(np.delete(train, i, axis=0))[1][np.newaxis, :].T\n",
        "                )\n",
        "            dt.append(temp)\n",
        "        src_v = validate[0][np.newaxis, :].T\n",
        "        trgt_v = validate[1]\n",
        "        return dt, src_v, trgt_v\n",
        "\n",
        "    def test_train(self):\n",
        "        self.init_iter()\n",
        "        self.coefs = []\n",
        "        while self._iter != self.end:\n",
        "            dt, src_v, trgt_v = self.get_sets()\n",
        "            temp = []\n",
        "            for src_vs, src_t, trgt_vs, trgt_t in dt:\n",
        "                self._train(src_t, trgt_t)\n",
        "                temp.append( (self._predict(src_vs, trgt_vs), self._predict(src_v, trgt_v)) )\n",
        "            self.coefs.append(temp)\n",
        "            self.inc_iter()       \n"
      ],
      "execution_count": 7,
      "outputs": []
    },
    {
      "cell_type": "code",
      "metadata": {
        "id": "SPFTk504B_71",
        "colab_type": "code",
        "colab": {}
      },
      "source": [
        "def butter_bandpass(lowcut, highcut, fs, order=5):\n",
        "    nyq = 0.5 * fs\n",
        "    low = lowcut / nyq\n",
        "    high = highcut / nyq\n",
        "    b, a = butter(order, [low, high], btype='band')\n",
        "    return b, a\n",
        "\n",
        "\n",
        "def butter_bandpass_filter(data, lowcut, highcut, fs, order=5):\n",
        "    b, a = butter_bandpass(lowcut, highcut, fs, order=order)\n",
        "    y = lfilter(b, a, data)\n",
        "    return y"
      ],
      "execution_count": null,
      "outputs": []
    },
    {
      "cell_type": "code",
      "metadata": {
        "id": "17puvfV27E-0",
        "colab_type": "code",
        "colab": {}
      },
      "source": [
        "def coeff_determination(y_true, y_pred):\n",
        "    SS_res =  K.sum(K.\n",
        "    square(y_true - y_pred))\n",
        "    SS_tot = K.sum(K.square(y_true - K.mean(y_true)))\n",
        "    return 1 - SS_res/(SS_tot + K.epsilon())"
      ],
      "execution_count": 8,
      "outputs": []
    },
    {
      "cell_type": "code",
      "metadata": {
        "id": "2B8JYl6S6Sq0",
        "colab_type": "code",
        "colab": {}
      },
      "source": [
        "def normalize(arr):\n",
        "    shape = arr.shape\n",
        "    its = 1\n",
        "    size = shape[-1]\n",
        "    temp_arr = arr.flatten()\n",
        "    for shape_i in shape:\n",
        "        its *= shape_i\n",
        "    its //= size\n",
        "    for i in range(its - 1):\n",
        "        temp_slice = temp_arr[i*size : (i+1)*size]\n",
        "        temp_arr[i*size : (i+1)*size] = (temp_slice - np.min(temp_slice))/(np.max(temp_slice) - np.min(temp_slice))\n",
        "    temp_slice = temp_arr[(i+1)*size:]\n",
        "    temp_arr[(i+1)*size:] = (temp_slice - np.min(temp_slice))/(np.max(temp_slice) - np.min(temp_slice))\n",
        "    return temp_arr.reshape(*shape)"
      ],
      "execution_count": 9,
      "outputs": []
    },
    {
      "cell_type": "code",
      "metadata": {
        "id": "NNKqmWl97E-7",
        "colab_type": "code",
        "colab": {}
      },
      "source": [
        "r_mapping = {'O2': 0, 'O1': 1, 'P4': 2, 'P3': 3, 'C4': 4, 'C3': 5, 'F4': 6,\n",
        "             'F3': 7, 'Fp2': 8, 'Fp1': 9, 'T6': 10, 'T5': 11, 'T4': 12,\n",
        "             'T3': 13, 'F8': 14, 'F7': 15, 'Oz': 16, 'Pz': 17, 'Cz': 18,\n",
        "             'Fz': 19, 'Fpz': 20, 'FT7': 21, 'FC3': 22, 'Fcz': 23, 'FC4': 24,\n",
        "             'FT8': 25, 'TP7': 26, 'CP3': 27, 'Cpz': 28, 'CP4': 29, 'TP8': 30}\n",
        "    "
      ],
      "execution_count": null,
      "outputs": []
    },
    {
      "cell_type": "code",
      "metadata": {
        "id": "RPCultmr7E--",
        "colab_type": "code",
        "colab": {}
      },
      "source": [
        "def extract(data_stream):\n",
        "    raw_data = data_stream.readlines()\n",
        "    data = []\n",
        "    for line in raw_data:\n",
        "        temp = np.array([float(x) for x in line.split()])\n",
        "        data.append(temp)\n",
        "    return np.array(data)\n",
        "\n",
        "def format_fname(_group, _hand, _subj, _tr_num):\n",
        "    directory = 'drive/My Drive/Subjects'\n",
        "    fname_pattern = f'{_group}_subject_{_subj}_{_hand}_tr_{_tr_num}.dat'\n",
        "    return join(directory, fname_pattern)\n",
        "\n",
        "hands = ('lefthand', 'righthand')\n",
        "groups = ('OLD', 'YOUNG')\n",
        "subjects = np.arange(1, 11)\n",
        "trials = np.arange(1, 16)\n",
        "total = len(hands)*len(groups)*len(subjects)*len(trials)"
      ],
      "execution_count": null,
      "outputs": []
    },
    {
      "cell_type": "code",
      "metadata": {
        "id": "cS8NIB5E7E_A",
        "colab_type": "code",
        "colab": {}
      },
      "source": [
        "epochs = []\n",
        "\n",
        "for trial in trials:\n",
        "    fin = open(format_fname('YOUNG', hands[1], subjects[0], trial))\n",
        "    epochs.append(extract(fin))\n",
        "    fin.close()\n",
        "\n",
        "epochs = np.array(epochs)"
      ],
      "execution_count": null,
      "outputs": []
    },
    {
      "cell_type": "code",
      "metadata": {
        "id": "cZ1C82ZODU8Z",
        "colab_type": "code",
        "colab": {}
      },
      "source": [
        "t = np.linspace(0, 12, 3001)\n",
        "tp7 = epochs[::, r_mapping['TP7'], sfq*2::]\n",
        "cz = epochs[::, r_mapping['Cz'], sfq*2::]\n",
        "lowcut = 8.0\n",
        "highcut = 12.0\n",
        "cz_filtered = butter_bandpass_filter(cz, lowcut, highcut, sfq, order=6)\n",
        "tp7_filtered = butter_bandpass_filter(tp7, lowcut, highcut, sfq, order=6)\n",
        "temp = normalize(tp7_filtered)\n",
        "tp7_filtered = np.array([(tp7_filtered[i] - np.min(tp7_filtered[i]))/(np.max(tp7_filtered[i]) - np.min(tp7_filtered[i])) for i in range(len(tp7_filtered))])\n",
        "cz_filtered = np.array([(cz_filtered[i] - np.min(cz_filtered[i]))/(np.max(cz_filtered[i]) - np.min(cz_filtered[i])) for i in range(len(cz_filtered))])"
      ],
      "execution_count": null,
      "outputs": []
    },
    {
      "cell_type": "code",
      "metadata": {
        "id": "G_85ZjXs7E_P",
        "colab_type": "code",
        "colab": {}
      },
      "source": [
        "def get_osc(epsylon=[0., 0.03], a=0.15, p=0.2, c=10, omega=[0.99, 0.95], fps=250, time=(0, 375)):\n",
        "    def rossler(t, vec: np.array):\n",
        "        res = np.zeros(6)\n",
        "        x = vec[0:4:3]\n",
        "        y = vec[1:5:3]\n",
        "        z = vec[2:6:3]\n",
        "        res[0:4:3] = -omega*y - z + epsylon*(x[::-1] - x)\n",
        "        res[1:5:3] = omega*x + a*y\n",
        "        res[2:6:3] = p + z*(x-c)\n",
        "        return res\n",
        "    omega = np.array(omega)\n",
        "    epsylon = np.array(epsylon)\n",
        "    start_time = time[0]\n",
        "    end_time = time[1]\n",
        "    X1 = 0\n",
        "    Y1 = 1\n",
        "    Z1 = 2\n",
        "    X2 = 3\n",
        "    Y2 = 4\n",
        "    Z2 = 5\n",
        "    t=np.linspace(start_time, end_time, num=int(fps*end_time))\n",
        "    z0 = np.zeros(6)\n",
        "    res1 = ivp(rossler, (start_time,end_time), z0, t_eval=t)\n",
        "    y = res1['y'] # тут данные с шейпом (6, <fps*(end_time - start_time)>). Эти шесть временных рядов -- значения x1, y1, z1, x2, y2, z2 соответственно\n",
        "    t_span = res1['t'] # тут время (можно использовать то, что выше)\n",
        "    return normalize(y[[X1, X2]])[::, fps*100:]\n",
        "# osc1 = norm_osc_data[0:3].T # матрица вида [[X1_1, Y1_1, Z1_1], [X1_2, Y1_2, Z1_2], [X1_3, Y1_3, Z1_3], ...]\n",
        "# osc2 = norm_osc_data[3:6].T # то же самое, что сверху, но только для X2, Y2, Z2"
      ],
      "execution_count": 10,
      "outputs": []
    },
    {
      "cell_type": "code",
      "metadata": {
        "id": "sfv0sGLeeNgK",
        "colab_type": "code",
        "colab": {}
      },
      "source": [
        "###ADDED\n",
        "### Рисует график обучения (loss function) и график метрики (coeff_determination). Своровано и адаптировано отсюда: https://www.tensorflow.org/tutorials/keras/regression?hl=ru\n",
        "def plot_history(history):\n",
        "    hist = pd.DataFrame(history.history)\n",
        "    hist['epoch'] = history.epoch\n",
        "\n",
        "    plt.figure()\n",
        "    plt.xlabel('Epoch')\n",
        "    plt.ylabel('Coefficient of determination')\n",
        "    plt.plot(hist['epoch'], hist['coeff_determination'],\n",
        "           label='Coefficient of determination')\n",
        "    plt.plot(hist['epoch'], hist['loss'],\n",
        "           label = 'Loss function')\n",
        "    plt.ylim([0,5])\n",
        "    plt.legend()\n",
        "    plt.show()"
      ],
      "execution_count": null,
      "outputs": []
    },
    {
      "cell_type": "code",
      "metadata": {
        "id": "O7wBspou-Usg",
        "colab_type": "code",
        "colab": {
          "base_uri": "https://localhost:8080/",
          "height": 51
        },
        "outputId": "1f353570-59cd-4015-fbdb-ac85095d5664"
      },
      "source": [
        "%%time\n",
        "cw = PashorgWindow(norm_osc_data[0], norm_osc_data[3], twin=3, vwin=3, step=1)\n",
        "cw.test_train()\n",
        "coefs2 = np.array(cw.coefs)"
      ],
      "execution_count": null,
      "outputs": [
        {
          "output_type": "stream",
          "text": [
            "CPU times: user 3min 30s, sys: 7.06 s, total: 3min 38s\n",
            "Wall time: 3min 16s\n"
          ],
          "name": "stdout"
        }
      ]
    },
    {
      "cell_type": "code",
      "metadata": {
        "id": "b9B5UfEpOZlk",
        "colab_type": "code",
        "colab": {
          "base_uri": "https://localhost:8080/",
          "height": 706
        },
        "outputId": "e168e6fe-2ada-43ec-a506-d24488dfbf79"
      },
      "source": [
        "plt.figure(figsize=(10, 10))\n",
        "plt.suptitle('Предсказание связи несвязанных осцилляторов')\n",
        "plt.subplot(2,1,1)\n",
        "plt.title('Pashorg window')\n",
        "plt.xlabel('R^2 score')\n",
        "plt.hist(coefs2, bins=10)\n",
        "plt.figure(figsize=(10, 10))\n",
        "plt.subplot(2,1,2)\n",
        "plt.title('Floating window')\n",
        "plt.hist(coefs1, bins=10);\n",
        "plt.xlabel('R^2 score')"
      ],
      "execution_count": null,
      "outputs": [
        {
          "output_type": "execute_result",
          "data": {
            "text/plain": [
              "Text(0.5, 0, 'R^2 score')"
            ]
          },
          "metadata": {
            "tags": []
          },
          "execution_count": 28
        },
        {
          "output_type": "display_data",
          "data": {
            "image/png": "[encoded data removed]",
            "text/plain": [
              "<Figure size 720x720 with 1 Axes>"
            ]
          },
          "metadata": {
            "tags": [],
            "needs_background": "light"
          }
        },
        {
          "output_type": "display_data",
          "data": {
            "image/png": "[encoded data removed]",
            "text/plain": [
              "<Figure size 720x720 with 1 Axes>"
            ]
          },
          "metadata": {
            "tags": [],
            "needs_background": "light"
          }
        }
      ]
    },
    {
      "cell_type": "code",
      "metadata": {
        "id": "rC8yH5BQOhND",
        "colab_type": "code",
        "colab": {
          "base_uri": "https://localhost:8080/",
          "height": 85
        },
        "outputId": "47744707-38a2-4bfd-bfbb-0c1fc8c4e7cb"
      },
      "source": [
        "print(f'Pashorg window mean: {np.mean(coefs2)}\\nstandard deviation: {stdev(coefs2)}')\n",
        "print(f'Floating window mean: {np.mean(coefs1)}\\nstandard deviation: {stdev(coefs1)}')"
      ],
      "execution_count": null,
      "outputs": [
        {
          "output_type": "stream",
          "text": [
            "Pashorg window mean: 0.015841116620689672\n",
            "standard deviation: 0.018469957597036457\n",
            "Floating window mean: -0.10717418057863724\n",
            "standard deviation: 0.10697441221387101\n"
          ],
          "name": "stdout"
        }
      ]
    },
    {
      "cell_type": "code",
      "metadata": {
        "id": "MJ83hxz49KVm",
        "colab_type": "code",
        "colab": {
          "base_uri": "https://localhost:8080/",
          "height": 34
        },
        "outputId": "b9b81d7c-b637-4998-bbd3-5e6261a3fb09"
      },
      "source": [
        "coefs2.shape"
      ],
      "execution_count": null,
      "outputs": [
        {
          "output_type": "execute_result",
          "data": {
            "text/plain": [
              "(255,)"
            ]
          },
          "metadata": {
            "tags": []
          },
          "execution_count": 18
        }
      ]
    },
    {
      "cell_type": "code",
      "metadata": {
        "id": "kYTwogb94r_v",
        "colab_type": "code",
        "colab": {}
      },
      "source": [
        "test_data = {}\n",
        "test_data['pashorg window'] = list(coefs1)\n",
        "test_data['floating window'] = list(coefs2)"
      ],
      "execution_count": null,
      "outputs": []
    },
    {
      "cell_type": "code",
      "metadata": {
        "id": "kbSoJqJQ560I",
        "colab_type": "code",
        "colab": {}
      },
      "source": [
        "import json\n",
        "file = open('data.json', 'w')\n",
        "json.dump(test_data, file)\n",
        "file.close()"
      ],
      "execution_count": null,
      "outputs": []
    },
    {
      "cell_type": "code",
      "metadata": {
        "id": "ufmdjEPW6ZrH",
        "colab_type": "code",
        "colab": {
          "base_uri": "https://localhost:8080/",
          "height": 34
        },
        "outputId": "12434a88-c890-43ab-9547-1f58c3e5d710"
      },
      "source": [
        "import json\n",
        "e_variants = [(0, 0.03), (0.03, 0.03), (0., 0.15), (0.15, 0.15)]\n",
        "window_variants = [(FloatingWindow, 'FloatingWindow'), (PashorgWindow, 'PashorgWindow')]\n",
        "window_sizes = [(1.5, 1.5, 1), (3., 3., 1), (5, 5, 1), (10, 10, 1), (30, 30, 1)]\n",
        "total = len(e_variants)*len(window_variants)*len(window_sizes)\n",
        "result = []\n",
        "i = 0\n",
        "for e_variant in e_variants:\n",
        "    for window_variant in window_variants:\n",
        "        for window_size in window_sizes:\n",
        "            update_progress(i/total)\n",
        "            temp = {}\n",
        "            arrs = get_osc(epsylon=e_variant, fps=50)\n",
        "            arr_src = arrs[0]\n",
        "            arr_trgt = arrs[1]\n",
        "            win = window_variant[0](arr_src, arr_trgt, sfreq=50, twin=window_size[0], vwin=window_size[1], step=window_size[2])\n",
        "            win.test_train()\n",
        "            coefs = win.coefs\n",
        "            temp['epsylon'] = e_variant\n",
        "            temp['train type'] = window_variant[1]\n",
        "            temp['coefs'] = coefs\n",
        "            temp['mean'] = np.mean(coefs)\n",
        "            temp['stdev'] = stdev(coefs)\n",
        "            temp['window sizes'] = window_size\n",
        "            result.append(temp)\n",
        "            file = open('drive/My Drive/data.json', 'w')\n",
        "            json.dump(result, file)\n",
        "            file.close()\n",
        "            i += 1\n"
      ],
      "execution_count": 26,
      "outputs": [
        {
          "output_type": "stream",
          "text": [
            "Progress: [####################] 97.5%\n"
          ],
          "name": "stdout"
        }
      ]
    },
    {
      "cell_type": "code",
      "metadata": {
        "id": "IBqMESZgppDA",
        "colab_type": "code",
        "colab": {}
      },
      "source": [
        "import time, sys\n",
        "from IPython.display import clear_output\n",
        "\n",
        "def update_progress(progress):\n",
        "    bar_length = 20\n",
        "    if isinstance(progress, int):\n",
        "        progress = float(progress)\n",
        "    if not isinstance(progress, float):\n",
        "        progress = 0\n",
        "    if progress < 0:\n",
        "        progress = 0\n",
        "    if progress >= 1:\n",
        "        progress = 1\n",
        "\n",
        "    block = int(round(bar_length * progress))\n",
        "\n",
        "    clear_output(wait = True)\n",
        "    text = \"Progress: [{0}] {1:.1f}%\".format( \"#\" * block + \"-\" * (bar_length - block), progress * 100)\n",
        "    print(text)"
      ],
      "execution_count": 22,
      "outputs": []
    },
    {
      "cell_type": "code",
      "metadata": {
        "id": "igKsCE5GqsI-",
        "colab_type": "code",
        "colab": {}
      },
      "source": [
        ""
      ],
      "execution_count": null,
      "outputs": []
    }
  ]
}