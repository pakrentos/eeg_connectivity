{
  "nbformat": 4,
  "nbformat_minor": 0,
  "metadata": {
    "kernelspec": {
      "name": "python3",
      "display_name": "Python 3"
    },
    "colab": {
      "name": "mlp_eeg.ipynb",
      "provenance": [],
      "collapsed_sections": [],
      "include_colab_link": true
    },
    "accelerator": "GPU"
  },
  "cells": [
    {
      "cell_type": "markdown",
      "metadata": {
        "id": "view-in-github",
        "colab_type": "text"
      },
      "source": [
        "<a href=\"https://colab.research.google.com/github/pakrentos/eeg_connectivity/blob/master/mlp_eeg_nikita.ipynb\" target=\"_parent\"><img src=\"https://colab.research.google.com/assets/colab-badge.svg\" alt=\"Open In Colab\"/></a>"
      ]
    },
    {
      "cell_type": "code",
      "metadata": {
        "id": "iHb06Rt47paD",
        "colab_type": "code",
        "colab": {
          "base_uri": "https://localhost:8080/",
          "height": 122
        },
        "outputId": "16244f3d-9265-48d4-84b5-fdb81f72d3fb"
      },
      "source": [
        "from google.colab import drive\n",
        "drive.mount('/content/drive')"
      ],
      "execution_count": 2,
      "outputs": [
        {
          "output_type": "stream",
          "text": [
            "Go to this URL in a browser: https://accounts.google.com/o/oauth2/auth?client_id=947318989803-6bn6qk8qdgf4n4g3pfee6491hc0brc4i.apps.googleusercontent.com&redirect_uri=urn%3aietf%3awg%3aoauth%3a2.0%3aoob&response_type=code&scope=email%20https%3a%2f%2fwww.googleapis.com%2fauth%2fdocs.test%20https%3a%2f%2fwww.googleapis.com%2fauth%2fdrive%20https%3a%2f%2fwww.googleapis.com%2fauth%2fdrive.photos.readonly%20https%3a%2f%2fwww.googleapis.com%2fauth%2fpeopleapi.readonly\n",
            "\n",
            "Enter your authorization code:\n",
            "··········\n",
            "Mounted at /content/drive\n"
          ],
          "name": "stdout"
        }
      ]
    },
    {
      "cell_type": "code",
      "metadata": {
        "id": "1nFDlJbl7E-w",
        "colab_type": "code",
        "colab": {}
      },
      "source": [
        "import numpy as np\n",
        "import scipy as sp\n",
        "from scipy.integrate import solve_ivp\n",
        "from scipy.signal import butter, lfilter\n",
        "from matplotlib import pyplot as plt\n",
        "from os.path import join\n",
        "import time\n",
        "from tensorflow.keras import layers\n",
        "import tensorflow as tf\n",
        "from tensorflow.keras import backend as K\n",
        "from sklearn.metrics import r2_score"
      ],
      "execution_count": 3,
      "outputs": []
    },
    {
      "cell_type": "code",
      "metadata": {
        "id": "Ej1wNKDmdqZS",
        "colab_type": "code",
        "colab": {
          "base_uri": "https://localhost:8080/",
          "height": 71
        },
        "outputId": "7e49da9d-eae0-4636-cb62-53b58fa95de6"
      },
      "source": [
        "###Added\n",
        "import seaborn as sns\n",
        "import pandas as pd\n"
      ],
      "execution_count": 4,
      "outputs": [
        {
          "output_type": "stream",
          "text": [
            "/usr/local/lib/python3.6/dist-packages/statsmodels/tools/_testing.py:19: FutureWarning: pandas.util.testing is deprecated. Use the functions in the public API at pandas.testing instead.\n",
            "  import pandas.util.testing as tm\n"
          ],
          "name": "stderr"
        }
      ]
    },
    {
      "cell_type": "code",
      "metadata": {
        "id": "INCKZCIyEQqM",
        "colab_type": "code",
        "colab": {}
      },
      "source": [
        "sfq = 250 # Было 250"
      ],
      "execution_count": 5,
      "outputs": []
    },
    {
      "cell_type": "code",
      "metadata": {
        "id": "MPXftiHWGSd4",
        "colab_type": "code",
        "colab": {
          "base_uri": "https://localhost:8080/",
          "height": 34
        },
        "outputId": "e2e19934-33f3-458a-87a1-3a0077735d4a"
      },
      "source": [
        "print(\"Num GPUs Available: \", len(tf.config.experimental.list_physical_devices('GPU')))"
      ],
      "execution_count": 6,
      "outputs": [
        {
          "output_type": "stream",
          "text": [
            "Num GPUs Available:  1\n"
          ],
          "name": "stdout"
        }
      ]
    },
    {
      "cell_type": "code",
      "metadata": {
        "id": "1cDttDVmF5cC",
        "colab_type": "code",
        "colab": {}
      },
      "source": [
        "class FloatingWindow():\n",
        "    \n",
        "    def __init__(self, arr_src, arr_trgt, sfreq=250, twin=1., pwin=1., step=1.):\n",
        "        assert arr_src.shape == arr_trgt.shape, 'Source and target arrays should be in the same shape'\n",
        "        assert len(arr_src.shape) == 1, 'Arrays should be 1D'\n",
        "        self.data = np.vstack((arr_src, arr_trgt)).T\n",
        "        self.twin = int(twin*sfreq)\n",
        "        self.pwin = int(pwin*sfreq)\n",
        "        self.step = int(step*sfreq)\n",
        "        self.end = (self.data.shape[0] - (self.twin + self.pwin))//self.step\n",
        "    \n",
        "    def __iter__(self):\n",
        "        self._iter = 0\n",
        "        return self\n",
        "    \n",
        "    def __next__(self):\n",
        "        if self._iter == self.end:\n",
        "            raise StopIteration\n",
        "        win = self.data[self.step*self._iter : self.step*self._iter + self.twin + self.pwin]\n",
        "        train = win[:self.twin].T\n",
        "        predict = win[self.twin:].T\n",
        "        src = train[0][np.newaxis, :].T         # shape (n, 1)\n",
        "        trgt = train[1][np.newaxis, :].T        # shape (n, 1)\n",
        "        src_p = predict[0][np.newaxis, :].T     # shape (n, 1)\n",
        "        trgt_p = predict[1]                     # shape (n,)\n",
        "        self._iter += 1\n",
        "        return src, trgt, src_p, trgt_p\n",
        "\n",
        "class PashorgWindow():\n",
        "    \n",
        "    def __init__(self, arr_src, arr_trgt, sfreq=250, twin=1., step=1.):\n",
        "        assert arr_src.shape == arr_trgt.shape, 'Source and target arrays should be in the same shape'\n",
        "        assert len(arr_src.shape) == 1, 'Arrays should be 1D'\n",
        "        self.data = np.vstack((arr_src, arr_trgt)).T\n",
        "        self.twin = int(twin*sfreq)\n",
        "        self.step = int(step*sfreq)\n",
        "        self.end = (self.data.shape[0] - self.twin)//self.step\n",
        "    \n",
        "    def __iter__(self):\n",
        "        self._iter = 0\n",
        "        return self\n",
        "    \n",
        "    def __next__(self):\n",
        "        if self._iter == self.end:\n",
        "            raise StopIteration\n",
        "        win = self.data[self.step*self._iter : self.step*self._iter + self.twin]\n",
        "        win = np.random.permutation(win)\n",
        "        train = win[:win.shape[0]//2].T\n",
        "        predict = win[win.shape[0]//2:].T\n",
        "        src = train[0][np.newaxis, :].T\n",
        "        trgt = train[1][np.newaxis, :].T\n",
        "        src_p = predict[0][np.newaxis, :].T\n",
        "        trgt_p = predict[1][np.newaxis, :]\n",
        "        self._iter += 1\n",
        "        return src, trgt, src_p, trgt_p\n"
      ],
      "execution_count": 26,
      "outputs": []
    },
    {
      "cell_type": "code",
      "metadata": {
        "id": "SPFTk504B_71",
        "colab_type": "code",
        "colab": {}
      },
      "source": [
        "def butter_bandpass(lowcut, highcut, fs, order=5):\n",
        "    nyq = 0.5 * fs\n",
        "    low = lowcut / nyq\n",
        "    high = highcut / nyq\n",
        "    b, a = butter(order, [low, high], btype='band')\n",
        "    return b, a\n",
        "\n",
        "\n",
        "def butter_bandpass_filter(data, lowcut, highcut, fs, order=5):\n",
        "    b, a = butter_bandpass(lowcut, highcut, fs, order=order)\n",
        "    y = lfilter(b, a, data)\n",
        "    return y"
      ],
      "execution_count": 10,
      "outputs": []
    },
    {
      "cell_type": "code",
      "metadata": {
        "id": "17puvfV27E-0",
        "colab_type": "code",
        "colab": {}
      },
      "source": [
        "def coeff_determination(y_true, y_pred):\n",
        "    SS_res =  K.sum(K.square(y_true - y_pred))\n",
        "    SS_tot = K.sum(K.square(y_true - K.mean(y_true)))\n",
        "    return 1 - SS_res/(SS_tot + K.epsilon())\n",
        "\n",
        "def coeff_determination_simp(y_true, y_pred):\n",
        "    res = np.sum(np.square(y_true - y_pred))\n",
        "    y_true_mean = np.tile(np.mean(y_true, axis=-1), y_true.shape[-1]).reshape((y_true.shape[-1], y_true.shape[-2])).T\n",
        "    tot = np.sum(np.square(y_true - y_true_mean))\n",
        "    return 1 - res/(tot + K.epsilon())"
      ],
      "execution_count": 11,
      "outputs": []
    },
    {
      "cell_type": "code",
      "metadata": {
        "id": "bKMf70Mi7E-3",
        "colab_type": "code",
        "colab": {}
      },
      "source": [
        "model = tf.keras.Sequential()\n",
        "model.add(layers.Dense(1, activation='linear'))\n",
        "model.add(layers.Dense(10, activation='softmax'))\n",
        "model.add(layers.Dense(10, activation='softmax'))\n",
        "model.add(layers.Dense(1, activation='linear'))\n",
        "\n",
        "model.compile(optimizer=tf.keras.optimizers.Adam(0.001),\n",
        "              loss='mse',\n",
        "              metrics=[coeff_determination])\n"
      ],
      "execution_count": null,
      "outputs": []
    },
    {
      "cell_type": "code",
      "metadata": {
        "id": "Cerbe-D3aiDo",
        "colab_type": "code",
        "colab": {}
      },
      "source": [
        "### ADDED\n",
        "def get_model():\n",
        "  model2 = tf.keras.Sequential()\n",
        "  model2.add(layers.Dense(1, activation='linear'))\n",
        "  model2.add(layers.Dense(20, activation='tanh'))\n",
        "  model2.add(layers.Dense(20, activation='tanh'))\n",
        "  model2.add(layers.Dense(1, activation='linear'))\n",
        "\n",
        "  model2.compile(optimizer=tf.keras.optimizers.Adam(0.001),\n",
        "                loss='mse',\n",
        "                metrics=[coeff_determination])\n",
        "  return model2\n"
      ],
      "execution_count": 12,
      "outputs": []
    },
    {
      "cell_type": "code",
      "metadata": {
        "id": "NNKqmWl97E-7",
        "colab_type": "code",
        "colab": {}
      },
      "source": [
        "mapping = [\n",
        "    ('O2','A2'),\n",
        "    ('O1','A1'),\n",
        "    ('P4','A2'),\n",
        "    ('P3','A1'),\n",
        "    ('C4','A2'),\n",
        "    ('C3','A1'),\n",
        "    ('F4','A2'),\n",
        "    ('F3','A1'),\n",
        "    ('Fp2','A2'),\n",
        "    ('Fp1','A1'),\n",
        "    ('T6','A2'),\n",
        "    ('T5','A1'),\n",
        "    ('T4','A2'),\n",
        "    ('T3','A1'),\n",
        "    ('F8','A2'),\n",
        "    ('F7','A1'),\n",
        "    ('Oz','A2'),\n",
        "    ('Pz','A1'),\n",
        "    ('Cz','A2'),\n",
        "    ('Fz','A1'),\n",
        "    ('Fpz','A2'),\n",
        "    ('FT7','A1'),\n",
        "    ('FC3','A1'),\n",
        "    ('Fcz','A1'),\n",
        "    ('FC4','A2'),\n",
        "    ('FT8','A2'),\n",
        "    ('TP7','A1'),\n",
        "    ('CP3','A1'),\n",
        "    ('Cpz','A1'),\n",
        "    ('CP4','A2'),\n",
        "    ('TP8','A2'), \n",
        "]\n",
        "r_mapping = {mapping[i][0]:i for i in range(len(mapping))}\n",
        "    "
      ],
      "execution_count": 13,
      "outputs": []
    },
    {
      "cell_type": "code",
      "metadata": {
        "id": "RPCultmr7E--",
        "colab_type": "code",
        "colab": {}
      },
      "source": [
        "def extract(data_stream):\n",
        "    raw_data = data_stream.readlines()\n",
        "    data = []\n",
        "    for line in raw_data:\n",
        "        temp = np.array([float(x) for x in line.split()])\n",
        "        data.append(temp)\n",
        "    return np.array(data)\n",
        "\n",
        "def format_fname(_group, _hand, _subj, _tr_num):\n",
        "    directory = 'drive/My Drive/Subjects'\n",
        "    fname_pattern = f'{_group}_subject_{_subj}_{_hand}_tr_{_tr_num}.dat'\n",
        "    return join(directory, fname_pattern)\n",
        "\n",
        "hands = ('lefthand', 'righthand')\n",
        "groups = ('OLD', 'YOUNG')\n",
        "subjects = np.arange(1, 11)\n",
        "trials = np.arange(1, 16)\n",
        "total = len(hands)*len(groups)*len(subjects)*len(trials)"
      ],
      "execution_count": 14,
      "outputs": []
    },
    {
      "cell_type": "code",
      "metadata": {
        "id": "cS8NIB5E7E_A",
        "colab_type": "code",
        "colab": {}
      },
      "source": [
        "epochs = []\n",
        "\n",
        "for trial in trials:\n",
        "    fin = open(format_fname('YOUNG', hands[1], subjects[0], trial))\n",
        "    epochs.append(extract(fin))\n",
        "    fin.close()\n",
        "\n",
        "epochs = np.array(epochs)"
      ],
      "execution_count": 15,
      "outputs": []
    },
    {
      "cell_type": "code",
      "metadata": {
        "id": "cZ1C82ZODU8Z",
        "colab_type": "code",
        "colab": {}
      },
      "source": [
        "t = np.linspace(0, 12, 3001)\n",
        "tp7 = epochs[::, r_mapping['TP7'], sfq*2::]\n",
        "cz = epochs[::, r_mapping['Cz'], sfq*2::]\n",
        "lowcut = 8.0\n",
        "highcut = 12.0\n",
        "cz_filtered = butter_bandpass_filter(cz, lowcut, highcut, sfq, order=6)\n",
        "tp7_filtered = butter_bandpass_filter(tp7, lowcut, highcut, sfq, order=6)\n",
        "tp7_filtered = np.array([(tp7_filtered[i] - np.min(tp7_filtered[i]))/(np.max(tp7_filtered[i]) - np.min(tp7_filtered[i])) for i in range(len(tp7_filtered))])\n",
        "cz_filtered = np.array([(cz_filtered[i] - np.min(cz_filtered[i]))/(np.max(cz_filtered[i]) - np.min(cz_filtered[i])) for i in range(len(cz_filtered))])"
      ],
      "execution_count": 16,
      "outputs": []
    },
    {
      "cell_type": "code",
      "metadata": {
        "id": "G_85ZjXs7E_P",
        "colab_type": "code",
        "colab": {
          "base_uri": "https://localhost:8080/",
          "height": 1000
        },
        "outputId": "85340aa6-0cbe-4029-ef3f-83cf5ae2d031"
      },
      "source": [
        "coefs = []\n",
        "best = None\n",
        "for tr in range(15):\n",
        "    temp = []\n",
        "    it = 0\n",
        "    for src, trgt, src_p, trgt_p in FloatingWindow(cz_filtered[tr], tp7_filtered[tr], step=0.2, twin=0.5, pwin=0.5):\n",
        "        model = get_model()\n",
        "        model.fit(src, trgt, epochs=10, batch_size=32, verbose=False)\n",
        "        res = model.predict(src_p, verbose=False).T[0]\n",
        "        c = r2_score(trgt_p, res)\n",
        "        it += 1\n",
        "        print(f'Current trial: {tr} ### Iteration: {it} ### Fit: {c}')\n",
        "        if best is None or (isinstance(best, tuple) and best[-1] < c):\n",
        "          best = (it, trgt_p, res, c)\n",
        "    coefs.append(temp)\n",
        "    print('@@@ New trial @@@')"
      ],
      "execution_count": 41,
      "outputs": [
        {
          "output_type": "stream",
          "text": [
            "Current trial: 0 ### Iteration: 1 ### Fit: 0.37237622304702767\n",
            "Current trial: 0 ### Iteration: 2 ### Fit: 0.3704661945658929\n",
            "Current trial: 0 ### Iteration: 3 ### Fit: 0.7334712367553207\n",
            "Current trial: 0 ### Iteration: 4 ### Fit: 0.19838064519828502\n",
            "Current trial: 0 ### Iteration: 5 ### Fit: -0.01104692649156358\n",
            "Current trial: 0 ### Iteration: 6 ### Fit: -0.33445291335584293\n",
            "Current trial: 0 ### Iteration: 7 ### Fit: 0.023134054009784966\n",
            "Current trial: 0 ### Iteration: 8 ### Fit: 0.0196707568399197\n",
            "Current trial: 0 ### Iteration: 9 ### Fit: 0.00991570104549322\n",
            "Current trial: 0 ### Iteration: 10 ### Fit: -0.256821791414233\n",
            "Current trial: 0 ### Iteration: 11 ### Fit: -0.654841596048227\n",
            "Current trial: 0 ### Iteration: 12 ### Fit: -0.40697715924915157\n",
            "Current trial: 0 ### Iteration: 13 ### Fit: -0.17729939541873163\n",
            "Current trial: 0 ### Iteration: 14 ### Fit: 0.1550906455298745\n",
            "Current trial: 0 ### Iteration: 15 ### Fit: 0.4465511056072299\n",
            "Current trial: 0 ### Iteration: 16 ### Fit: 0.35664274351336267\n",
            "Current trial: 0 ### Iteration: 17 ### Fit: -0.14986756882661023\n",
            "Current trial: 0 ### Iteration: 18 ### Fit: -0.04166531332200729\n",
            "Current trial: 0 ### Iteration: 19 ### Fit: -0.03239778459360343\n",
            "Current trial: 0 ### Iteration: 20 ### Fit: -0.5026061926655747\n",
            "Current trial: 0 ### Iteration: 21 ### Fit: -0.15413544148267144\n",
            "Current trial: 0 ### Iteration: 22 ### Fit: -0.5398292920293297\n",
            "Current trial: 0 ### Iteration: 23 ### Fit: 0.2183900185056047\n",
            "Current trial: 0 ### Iteration: 24 ### Fit: 0.40906807716159466\n",
            "Current trial: 0 ### Iteration: 25 ### Fit: 0.595463184928162\n",
            "Current trial: 0 ### Iteration: 26 ### Fit: -1.56533030690299\n",
            "Current trial: 0 ### Iteration: 27 ### Fit: -7.527069225115227\n",
            "Current trial: 0 ### Iteration: 28 ### Fit: -0.32967028645515084\n",
            "Current trial: 0 ### Iteration: 29 ### Fit: 0.16465355835302287\n",
            "Current trial: 0 ### Iteration: 30 ### Fit: 0.3125693010309991\n",
            "Current trial: 0 ### Iteration: 31 ### Fit: -0.08522662297268391\n",
            "Current trial: 0 ### Iteration: 32 ### Fit: -0.4989836592906689\n",
            "Current trial: 0 ### Iteration: 33 ### Fit: -1.0824710111229212\n",
            "Current trial: 0 ### Iteration: 34 ### Fit: -0.32762505143436194\n",
            "Current trial: 0 ### Iteration: 35 ### Fit: 0.10964300032699303\n",
            "Current trial: 0 ### Iteration: 36 ### Fit: -0.16350110468493595\n",
            "Current trial: 0 ### Iteration: 37 ### Fit: 0.02669909542908777\n",
            "Current trial: 0 ### Iteration: 38 ### Fit: -0.21945230068441623\n",
            "Current trial: 0 ### Iteration: 39 ### Fit: -0.5650732109589687\n",
            "Current trial: 0 ### Iteration: 40 ### Fit: -2.802348089126813\n",
            "Current trial: 0 ### Iteration: 41 ### Fit: -0.2695788204767433\n",
            "Current trial: 0 ### Iteration: 42 ### Fit: 0.023608118557097546\n",
            "Current trial: 0 ### Iteration: 43 ### Fit: 0.08770789239914623\n",
            "Current trial: 0 ### Iteration: 44 ### Fit: 0.07078260413813209\n",
            "Current trial: 0 ### Iteration: 45 ### Fit: 0.010477842767134482\n",
            "@@@ New trial @@@\n",
            "Current trial: 1 ### Iteration: 1 ### Fit: -0.08498787162227295\n",
            "Current trial: 1 ### Iteration: 2 ### Fit: 0.13924578819804168\n",
            "Current trial: 1 ### Iteration: 3 ### Fit: -0.1749846238781927\n",
            "Current trial: 1 ### Iteration: 4 ### Fit: -0.8223430495571737\n",
            "Current trial: 1 ### Iteration: 5 ### Fit: -0.5277712288956742\n",
            "Current trial: 1 ### Iteration: 6 ### Fit: -0.30867174382266915\n",
            "Current trial: 1 ### Iteration: 7 ### Fit: -0.0058456420372545725\n",
            "Current trial: 1 ### Iteration: 8 ### Fit: -0.054195623534210036\n",
            "Current trial: 1 ### Iteration: 9 ### Fit: -0.5188060884185173\n",
            "Current trial: 1 ### Iteration: 10 ### Fit: -0.22404618930878084\n",
            "Current trial: 1 ### Iteration: 11 ### Fit: -0.3752432583171097\n",
            "Current trial: 1 ### Iteration: 12 ### Fit: -0.7031033395084365\n",
            "Current trial: 1 ### Iteration: 13 ### Fit: -2.474618751489552\n",
            "Current trial: 1 ### Iteration: 14 ### Fit: -0.8397569384357446\n",
            "Current trial: 1 ### Iteration: 15 ### Fit: -0.614412804353732\n",
            "Current trial: 1 ### Iteration: 16 ### Fit: -0.617047779634748\n",
            "Current trial: 1 ### Iteration: 17 ### Fit: 0.26900339047299326\n",
            "Current trial: 1 ### Iteration: 18 ### Fit: 0.09839580660941205\n",
            "Current trial: 1 ### Iteration: 19 ### Fit: -0.05094395748723746\n",
            "Current trial: 1 ### Iteration: 20 ### Fit: 0.1582833512737003\n",
            "Current trial: 1 ### Iteration: 21 ### Fit: -0.1839726863347444\n",
            "Current trial: 1 ### Iteration: 22 ### Fit: -1.3115784031220983\n",
            "Current trial: 1 ### Iteration: 23 ### Fit: -3.112652282956292\n",
            "Current trial: 1 ### Iteration: 24 ### Fit: -0.21568492161752428\n",
            "Current trial: 1 ### Iteration: 25 ### Fit: 0.036282518418935594\n",
            "Current trial: 1 ### Iteration: 26 ### Fit: 0.030523860434618078\n",
            "Current trial: 1 ### Iteration: 27 ### Fit: -0.6703631714277813\n",
            "Current trial: 1 ### Iteration: 28 ### Fit: -1.8967023326001473\n",
            "Current trial: 1 ### Iteration: 29 ### Fit: -0.5406410513453785\n",
            "Current trial: 1 ### Iteration: 30 ### Fit: 0.6146251158020752\n",
            "Current trial: 1 ### Iteration: 31 ### Fit: 0.45585976730664446\n",
            "Current trial: 1 ### Iteration: 32 ### Fit: 0.643014411994812\n",
            "Current trial: 1 ### Iteration: 33 ### Fit: 0.7651388293029807\n",
            "Current trial: 1 ### Iteration: 34 ### Fit: 0.668178716523672\n",
            "Current trial: 1 ### Iteration: 35 ### Fit: 0.4193546003395874\n",
            "Current trial: 1 ### Iteration: 36 ### Fit: -0.3047373563710045\n",
            "Current trial: 1 ### Iteration: 37 ### Fit: -0.0009866695237694678\n",
            "Current trial: 1 ### Iteration: 38 ### Fit: -0.06257686587868361\n",
            "Current trial: 1 ### Iteration: 39 ### Fit: -0.18484397856774626\n",
            "Current trial: 1 ### Iteration: 40 ### Fit: -1.097385090458582\n",
            "Current trial: 1 ### Iteration: 41 ### Fit: -1.7577942393326493\n",
            "Current trial: 1 ### Iteration: 42 ### Fit: -0.3820773206171513\n",
            "Current trial: 1 ### Iteration: 43 ### Fit: -0.13050819561090088\n",
            "Current trial: 1 ### Iteration: 44 ### Fit: 0.17821207915267734\n",
            "Current trial: 1 ### Iteration: 45 ### Fit: 0.3393093264360585\n",
            "@@@ New trial @@@\n",
            "Current trial: 2 ### Iteration: 1 ### Fit: -0.7411757428265549\n",
            "Current trial: 2 ### Iteration: 2 ### Fit: -0.5970731728281693\n",
            "Current trial: 2 ### Iteration: 3 ### Fit: -0.04543206247854359\n",
            "Current trial: 2 ### Iteration: 4 ### Fit: -1.0912149093455588\n",
            "Current trial: 2 ### Iteration: 5 ### Fit: -0.19757417727640747\n",
            "Current trial: 2 ### Iteration: 6 ### Fit: -0.20687688007390093\n",
            "Current trial: 2 ### Iteration: 7 ### Fit: 0.24452621273204744\n",
            "Current trial: 2 ### Iteration: 8 ### Fit: 0.7435549420956991\n",
            "Current trial: 2 ### Iteration: 9 ### Fit: 0.5395860031087628\n",
            "Current trial: 2 ### Iteration: 10 ### Fit: 0.36987863812741273\n",
            "Current trial: 2 ### Iteration: 11 ### Fit: 0.4543450554477677\n",
            "Current trial: 2 ### Iteration: 12 ### Fit: 0.5159702865991487\n",
            "Current trial: 2 ### Iteration: 13 ### Fit: -0.3593007073484946\n",
            "Current trial: 2 ### Iteration: 14 ### Fit: -1.225121596180606\n",
            "Current trial: 2 ### Iteration: 15 ### Fit: -0.3534443597554371\n",
            "Current trial: 2 ### Iteration: 16 ### Fit: 0.010866581935429886\n",
            "Current trial: 2 ### Iteration: 17 ### Fit: 0.23004614568930803\n",
            "Current trial: 2 ### Iteration: 18 ### Fit: 0.0704818743135508\n",
            "Current trial: 2 ### Iteration: 19 ### Fit: -0.09954657057888028\n",
            "Current trial: 2 ### Iteration: 20 ### Fit: -0.34771868832735353\n",
            "Current trial: 2 ### Iteration: 21 ### Fit: 0.031311067934138404\n",
            "Current trial: 2 ### Iteration: 22 ### Fit: 0.07010540690767797\n",
            "Current trial: 2 ### Iteration: 23 ### Fit: 0.035073190496921036\n",
            "Current trial: 2 ### Iteration: 24 ### Fit: -0.3760142696795017\n",
            "Current trial: 2 ### Iteration: 25 ### Fit: -0.03639885848901203\n",
            "Current trial: 2 ### Iteration: 26 ### Fit: 0.11601747290518216\n",
            "Current trial: 2 ### Iteration: 27 ### Fit: -0.04000025315577993\n",
            "Current trial: 2 ### Iteration: 28 ### Fit: 0.24967917894276603\n",
            "Current trial: 2 ### Iteration: 29 ### Fit: 0.4240273967770828\n",
            "Current trial: 2 ### Iteration: 30 ### Fit: 0.31334404408507743\n",
            "Current trial: 2 ### Iteration: 31 ### Fit: -0.24441552423924717\n",
            "Current trial: 2 ### Iteration: 32 ### Fit: 0.2722559044750614\n",
            "Current trial: 2 ### Iteration: 33 ### Fit: 0.07016181911540764\n",
            "Current trial: 2 ### Iteration: 34 ### Fit: 0.06275866151697362\n",
            "Current trial: 2 ### Iteration: 35 ### Fit: -0.45356780396974883\n",
            "Current trial: 2 ### Iteration: 36 ### Fit: -0.7223088502976727\n",
            "Current trial: 2 ### Iteration: 37 ### Fit: -0.04648398778983509\n",
            "Current trial: 2 ### Iteration: 38 ### Fit: -0.14506397847596375\n",
            "Current trial: 2 ### Iteration: 39 ### Fit: -0.41824069775595785\n",
            "Current trial: 2 ### Iteration: 40 ### Fit: -0.507476158715056\n",
            "Current trial: 2 ### Iteration: 41 ### Fit: -0.5156294853736934\n",
            "Current trial: 2 ### Iteration: 42 ### Fit: 0.26932833504705755\n",
            "Current trial: 2 ### Iteration: 43 ### Fit: 0.26892860232227156\n",
            "Current trial: 2 ### Iteration: 44 ### Fit: -0.012980168303149853\n",
            "Current trial: 2 ### Iteration: 45 ### Fit: 0.0035431113423308735\n",
            "@@@ New trial @@@\n",
            "Current trial: 3 ### Iteration: 1 ### Fit: 0.17048545614627042\n",
            "Current trial: 3 ### Iteration: 2 ### Fit: -0.03675084934660977\n",
            "Current trial: 3 ### Iteration: 3 ### Fit: -2.106350652053763\n",
            "Current trial: 3 ### Iteration: 4 ### Fit: -0.05658278559969632\n",
            "Current trial: 3 ### Iteration: 5 ### Fit: -0.010684032345191552\n",
            "Current trial: 3 ### Iteration: 6 ### Fit: 0.01353704810579559\n",
            "Current trial: 3 ### Iteration: 7 ### Fit: -0.13691757600404797\n",
            "Current trial: 3 ### Iteration: 8 ### Fit: -1.3922569372553877\n",
            "Current trial: 3 ### Iteration: 9 ### Fit: -3.291133767521722\n",
            "Current trial: 3 ### Iteration: 10 ### Fit: -1.3674427724870788\n",
            "Current trial: 3 ### Iteration: 11 ### Fit: -2.6792054161299177\n",
            "Current trial: 3 ### Iteration: 12 ### Fit: -12.590801893713207\n",
            "Current trial: 3 ### Iteration: 13 ### Fit: -3.855803649184227\n",
            "Current trial: 3 ### Iteration: 14 ### Fit: -0.9572258928147173\n",
            "Current trial: 3 ### Iteration: 15 ### Fit: -0.9414187969281673\n",
            "Current trial: 3 ### Iteration: 16 ### Fit: 0.003903116805163198\n",
            "Current trial: 3 ### Iteration: 17 ### Fit: -0.2139814023416644\n",
            "Current trial: 3 ### Iteration: 18 ### Fit: -0.2954094857792098\n",
            "Current trial: 3 ### Iteration: 19 ### Fit: -0.8003043019880194\n",
            "Current trial: 3 ### Iteration: 20 ### Fit: -1.698651616592334\n",
            "Current trial: 3 ### Iteration: 21 ### Fit: -0.2799521483591594\n",
            "Current trial: 3 ### Iteration: 22 ### Fit: 0.6368105350563485\n",
            "Current trial: 3 ### Iteration: 23 ### Fit: 0.5380368279246852\n",
            "Current trial: 3 ### Iteration: 24 ### Fit: 0.4396434701065989\n",
            "Current trial: 3 ### Iteration: 25 ### Fit: -0.6493140753503153\n",
            "Current trial: 3 ### Iteration: 26 ### Fit: -4.1939003255640595\n",
            "Current trial: 3 ### Iteration: 27 ### Fit: -7.3405936105770575\n",
            "Current trial: 3 ### Iteration: 28 ### Fit: -5.069622659837104\n",
            "Current trial: 3 ### Iteration: 29 ### Fit: -2.370525954271026\n",
            "Current trial: 3 ### Iteration: 30 ### Fit: -1.7557745831107368\n",
            "Current trial: 3 ### Iteration: 31 ### Fit: -1.7351854338575095\n",
            "Current trial: 3 ### Iteration: 32 ### Fit: -0.8274727798632924\n",
            "Current trial: 3 ### Iteration: 33 ### Fit: -1.214827689560341\n",
            "Current trial: 3 ### Iteration: 34 ### Fit: -0.869973823050326\n",
            "Current trial: 3 ### Iteration: 35 ### Fit: -0.36418710742498606\n",
            "Current trial: 3 ### Iteration: 36 ### Fit: -0.645916302317576\n",
            "Current trial: 3 ### Iteration: 37 ### Fit: -0.2830609459351563\n",
            "Current trial: 3 ### Iteration: 38 ### Fit: -0.18016831635667163\n",
            "Current trial: 3 ### Iteration: 39 ### Fit: -1.0474889041253368\n",
            "Current trial: 3 ### Iteration: 40 ### Fit: -0.4387579971790885\n",
            "Current trial: 3 ### Iteration: 41 ### Fit: -0.004213765880221709\n",
            "Current trial: 3 ### Iteration: 42 ### Fit: 0.045502853885715844\n",
            "Current trial: 3 ### Iteration: 43 ### Fit: 0.03772987498462832\n",
            "Current trial: 3 ### Iteration: 44 ### Fit: 0.6941815526577669\n",
            "Current trial: 3 ### Iteration: 45 ### Fit: 0.3745598507720196\n",
            "@@@ New trial @@@\n",
            "Current trial: 4 ### Iteration: 1 ### Fit: 0.28393833733541984\n",
            "Current trial: 4 ### Iteration: 2 ### Fit: 0.5821026509860585\n",
            "Current trial: 4 ### Iteration: 3 ### Fit: 0.539652138647263\n",
            "Current trial: 4 ### Iteration: 4 ### Fit: 0.37880379302522393\n",
            "Current trial: 4 ### Iteration: 5 ### Fit: -0.09720021428912262\n",
            "Current trial: 4 ### Iteration: 6 ### Fit: -1.479342423236369\n",
            "Current trial: 4 ### Iteration: 7 ### Fit: -2.3431462700014047\n",
            "Current trial: 4 ### Iteration: 8 ### Fit: -2.632608679045722\n",
            "Current trial: 4 ### Iteration: 9 ### Fit: -2.653798120459303\n",
            "Current trial: 4 ### Iteration: 10 ### Fit: -1.6558732171396193\n",
            "Current trial: 4 ### Iteration: 11 ### Fit: -1.257885987428197\n",
            "Current trial: 4 ### Iteration: 12 ### Fit: -0.5983690882096417\n",
            "Current trial: 4 ### Iteration: 13 ### Fit: -0.1496059301795285\n",
            "Current trial: 4 ### Iteration: 14 ### Fit: -0.747777483183014\n",
            "Current trial: 4 ### Iteration: 15 ### Fit: -0.17670596873412614\n",
            "Current trial: 4 ### Iteration: 16 ### Fit: 0.00927401095664504\n",
            "Current trial: 4 ### Iteration: 17 ### Fit: 0.5001043092407431\n",
            "Current trial: 4 ### Iteration: 18 ### Fit: 0.5013008551688731\n",
            "Current trial: 4 ### Iteration: 19 ### Fit: 0.4569325969771051\n",
            "Current trial: 4 ### Iteration: 20 ### Fit: 0.41601977614307173\n",
            "Current trial: 4 ### Iteration: 21 ### Fit: 0.03506222622356414\n",
            "Current trial: 4 ### Iteration: 22 ### Fit: -0.2226462092587207\n",
            "Current trial: 4 ### Iteration: 23 ### Fit: -0.9736632380089234\n",
            "Current trial: 4 ### Iteration: 24 ### Fit: -0.8271808550609059\n",
            "Current trial: 4 ### Iteration: 25 ### Fit: -3.279579357161455\n",
            "Current trial: 4 ### Iteration: 26 ### Fit: -0.9649047078529303\n",
            "Current trial: 4 ### Iteration: 27 ### Fit: -0.3166571481978966\n",
            "Current trial: 4 ### Iteration: 28 ### Fit: -0.03592158249414901\n",
            "Current trial: 4 ### Iteration: 29 ### Fit: -0.1374935133531332\n",
            "Current trial: 4 ### Iteration: 30 ### Fit: 0.5877850687818846\n",
            "Current trial: 4 ### Iteration: 31 ### Fit: 0.34332421333323637\n",
            "Current trial: 4 ### Iteration: 32 ### Fit: -0.661834460854996\n",
            "Current trial: 4 ### Iteration: 33 ### Fit: -0.4289778719424808\n",
            "Current trial: 4 ### Iteration: 34 ### Fit: -0.9066300574559472\n",
            "Current trial: 4 ### Iteration: 35 ### Fit: -0.17395907452798132\n",
            "Current trial: 4 ### Iteration: 36 ### Fit: 0.19406894502805416\n",
            "Current trial: 4 ### Iteration: 37 ### Fit: 0.15119012337013416\n",
            "Current trial: 4 ### Iteration: 38 ### Fit: 0.08967032735767333\n",
            "Current trial: 4 ### Iteration: 39 ### Fit: 0.4995058481618738\n",
            "Current trial: 4 ### Iteration: 40 ### Fit: -0.284037055666182\n",
            "Current trial: 4 ### Iteration: 41 ### Fit: -0.004006062940548283\n",
            "Current trial: 4 ### Iteration: 42 ### Fit: 0.39994197065293824\n",
            "Current trial: 4 ### Iteration: 43 ### Fit: 0.3906743776430983\n",
            "Current trial: 4 ### Iteration: 44 ### Fit: 0.10315877672383689\n",
            "Current trial: 4 ### Iteration: 45 ### Fit: 0.021469695309686343\n",
            "@@@ New trial @@@\n",
            "Current trial: 5 ### Iteration: 1 ### Fit: 0.0929531266676219\n",
            "Current trial: 5 ### Iteration: 2 ### Fit: -1.0665341278488603\n",
            "Current trial: 5 ### Iteration: 3 ### Fit: 0.3900809857644437\n",
            "Current trial: 5 ### Iteration: 4 ### Fit: 0.26121656358759704\n",
            "Current trial: 5 ### Iteration: 5 ### Fit: 0.5441123292704185\n",
            "Current trial: 5 ### Iteration: 6 ### Fit: 0.16559614539846101\n",
            "Current trial: 5 ### Iteration: 7 ### Fit: 0.4822838861888801\n",
            "Current trial: 5 ### Iteration: 8 ### Fit: 0.3052078801781145\n",
            "Current trial: 5 ### Iteration: 9 ### Fit: -0.2392518389279521\n",
            "Current trial: 5 ### Iteration: 10 ### Fit: 0.0978611186596392\n",
            "Current trial: 5 ### Iteration: 11 ### Fit: -0.4327657715608333\n",
            "Current trial: 5 ### Iteration: 12 ### Fit: -0.06343904429208869\n",
            "Current trial: 5 ### Iteration: 13 ### Fit: -2.5730313494828136\n",
            "Current trial: 5 ### Iteration: 14 ### Fit: -0.3533276052144596\n",
            "Current trial: 5 ### Iteration: 15 ### Fit: -0.4325882751946144\n",
            "Current trial: 5 ### Iteration: 16 ### Fit: -1.0438914739683454\n",
            "Current trial: 5 ### Iteration: 17 ### Fit: -0.5227455364244988\n",
            "Current trial: 5 ### Iteration: 18 ### Fit: -0.42113062075371954\n",
            "Current trial: 5 ### Iteration: 19 ### Fit: -2.34880897453338\n",
            "Current trial: 5 ### Iteration: 20 ### Fit: -1.767077345533576\n",
            "Current trial: 5 ### Iteration: 21 ### Fit: -0.3002365326880252\n",
            "Current trial: 5 ### Iteration: 22 ### Fit: 0.15155225907484537\n",
            "Current trial: 5 ### Iteration: 23 ### Fit: 0.5151271646027593\n",
            "Current trial: 5 ### Iteration: 24 ### Fit: -0.7440423713837025\n",
            "Current trial: 5 ### Iteration: 25 ### Fit: -0.6335339181175779\n",
            "Current trial: 5 ### Iteration: 26 ### Fit: -3.234737952289869\n",
            "Current trial: 5 ### Iteration: 27 ### Fit: -8.250008681435558\n",
            "Current trial: 5 ### Iteration: 28 ### Fit: -4.100567508761337\n",
            "Current trial: 5 ### Iteration: 29 ### Fit: 0.05196495542756441\n",
            "Current trial: 5 ### Iteration: 30 ### Fit: -0.6345686878480084\n",
            "Current trial: 5 ### Iteration: 31 ### Fit: -0.2628314587034357\n",
            "Current trial: 5 ### Iteration: 32 ### Fit: 0.18359425167863763\n",
            "Current trial: 5 ### Iteration: 33 ### Fit: 0.4328529732985166\n",
            "Current trial: 5 ### Iteration: 34 ### Fit: 0.34903249453360585\n",
            "Current trial: 5 ### Iteration: 35 ### Fit: 0.27007304241503527\n",
            "Current trial: 5 ### Iteration: 36 ### Fit: -1.3635754027046931\n",
            "Current trial: 5 ### Iteration: 37 ### Fit: -2.871714123137338\n",
            "Current trial: 5 ### Iteration: 38 ### Fit: -1.6027043349476284\n",
            "Current trial: 5 ### Iteration: 39 ### Fit: -0.29697067632207363\n",
            "Current trial: 5 ### Iteration: 40 ### Fit: 0.10752118489615803\n",
            "Current trial: 5 ### Iteration: 41 ### Fit: 0.19910714625640125\n",
            "Current trial: 5 ### Iteration: 42 ### Fit: -0.04156948445287756\n",
            "Current trial: 5 ### Iteration: 43 ### Fit: 0.06378456950777367\n",
            "Current trial: 5 ### Iteration: 44 ### Fit: -0.04759724123283604\n",
            "Current trial: 5 ### Iteration: 45 ### Fit: 0.1226240169334516\n",
            "@@@ New trial @@@\n",
            "Current trial: 6 ### Iteration: 1 ### Fit: 0.35625526700616106\n",
            "Current trial: 6 ### Iteration: 2 ### Fit: -1.4697244730505519\n",
            "Current trial: 6 ### Iteration: 3 ### Fit: -1.4085706503399469\n",
            "Current trial: 6 ### Iteration: 4 ### Fit: 0.1083645399441493\n",
            "Current trial: 6 ### Iteration: 5 ### Fit: 0.08853275801381433\n",
            "Current trial: 6 ### Iteration: 6 ### Fit: 0.055816770445593855\n",
            "Current trial: 6 ### Iteration: 7 ### Fit: 0.2543275723240932\n",
            "Current trial: 6 ### Iteration: 8 ### Fit: 0.6187944109408067\n",
            "Current trial: 6 ### Iteration: 9 ### Fit: 0.2826677473813085\n",
            "Current trial: 6 ### Iteration: 10 ### Fit: 0.040932341984350806\n",
            "Current trial: 6 ### Iteration: 11 ### Fit: -0.3833502403621183\n",
            "Current trial: 6 ### Iteration: 12 ### Fit: 0.03195529212731041\n",
            "Current trial: 6 ### Iteration: 13 ### Fit: -0.0496773802782422\n",
            "Current trial: 6 ### Iteration: 14 ### Fit: 0.11317907780730219\n",
            "Current trial: 6 ### Iteration: 15 ### Fit: 0.2889009471308661\n",
            "Current trial: 6 ### Iteration: 16 ### Fit: -0.04256972330196929\n",
            "Current trial: 6 ### Iteration: 17 ### Fit: -0.026882333118587454\n",
            "Current trial: 6 ### Iteration: 18 ### Fit: -0.1319646369810319\n",
            "Current trial: 6 ### Iteration: 19 ### Fit: 0.17895151824845046\n",
            "Current trial: 6 ### Iteration: 20 ### Fit: -5.17346622365218\n",
            "Current trial: 6 ### Iteration: 21 ### Fit: -3.6369700484758294\n",
            "Current trial: 6 ### Iteration: 22 ### Fit: 0.2682355169732442\n",
            "Current trial: 6 ### Iteration: 23 ### Fit: 0.38143415185464247\n",
            "Current trial: 6 ### Iteration: 24 ### Fit: 0.3960866869286911\n",
            "Current trial: 6 ### Iteration: 25 ### Fit: 0.23857966261451435\n",
            "Current trial: 6 ### Iteration: 26 ### Fit: -0.6280536655156985\n",
            "Current trial: 6 ### Iteration: 27 ### Fit: -0.3680462548882677\n",
            "Current trial: 6 ### Iteration: 28 ### Fit: 0.4212946655843385\n",
            "Current trial: 6 ### Iteration: 29 ### Fit: 0.28152623760951623\n",
            "Current trial: 6 ### Iteration: 30 ### Fit: -1.165267810302824\n",
            "Current trial: 6 ### Iteration: 31 ### Fit: -0.9748555736277065\n",
            "Current trial: 6 ### Iteration: 32 ### Fit: -0.7856078049966899\n",
            "Current trial: 6 ### Iteration: 33 ### Fit: -0.4947377430836881\n",
            "Current trial: 6 ### Iteration: 34 ### Fit: -1.2479888346287504\n",
            "Current trial: 6 ### Iteration: 35 ### Fit: -0.56994099991389\n",
            "Current trial: 6 ### Iteration: 36 ### Fit: -0.21476492216499254\n",
            "Current trial: 6 ### Iteration: 37 ### Fit: -0.2031187017193088\n",
            "Current trial: 6 ### Iteration: 38 ### Fit: -0.7006284763425743\n",
            "Current trial: 6 ### Iteration: 39 ### Fit: -0.18541348363317467\n",
            "Current trial: 6 ### Iteration: 40 ### Fit: 0.09312753306514487\n",
            "Current trial: 6 ### Iteration: 41 ### Fit: -0.2965696759764789\n",
            "Current trial: 6 ### Iteration: 42 ### Fit: 0.04953150612046808\n",
            "Current trial: 6 ### Iteration: 43 ### Fit: 0.19537905924827692\n",
            "Current trial: 6 ### Iteration: 44 ### Fit: 0.09922195252532962\n",
            "Current trial: 6 ### Iteration: 45 ### Fit: -0.03147515525157085\n",
            "@@@ New trial @@@\n",
            "Current trial: 7 ### Iteration: 1 ### Fit: 0.3917076291010956\n",
            "Current trial: 7 ### Iteration: 2 ### Fit: -0.024332558158528084\n",
            "Current trial: 7 ### Iteration: 3 ### Fit: -0.3200133170794839\n",
            "Current trial: 7 ### Iteration: 4 ### Fit: -0.10298042116145023\n",
            "Current trial: 7 ### Iteration: 5 ### Fit: 0.14164427708018545\n",
            "Current trial: 7 ### Iteration: 6 ### Fit: 0.10768958413678964\n",
            "Current trial: 7 ### Iteration: 7 ### Fit: -0.01839515379297829\n",
            "Current trial: 7 ### Iteration: 8 ### Fit: -0.7057815780581189\n",
            "Current trial: 7 ### Iteration: 9 ### Fit: -0.0449160792088934\n",
            "Current trial: 7 ### Iteration: 10 ### Fit: -0.05878371341803468\n",
            "Current trial: 7 ### Iteration: 11 ### Fit: 0.4443027550804225\n",
            "Current trial: 7 ### Iteration: 12 ### Fit: 0.4084594593951687\n",
            "Current trial: 7 ### Iteration: 13 ### Fit: -0.2825675496415494\n",
            "Current trial: 7 ### Iteration: 14 ### Fit: -0.8330294518435752\n",
            "Current trial: 7 ### Iteration: 15 ### Fit: -0.8181957327015763\n",
            "Current trial: 7 ### Iteration: 16 ### Fit: 0.39546205362281206\n",
            "Current trial: 7 ### Iteration: 17 ### Fit: 0.5943527225368598\n",
            "Current trial: 7 ### Iteration: 18 ### Fit: 0.6489121694652633\n",
            "Current trial: 7 ### Iteration: 19 ### Fit: 0.3125719079322635\n",
            "Current trial: 7 ### Iteration: 20 ### Fit: 0.18590540551881085\n",
            "Current trial: 7 ### Iteration: 21 ### Fit: -0.1279463909929861\n",
            "Current trial: 7 ### Iteration: 22 ### Fit: -0.145826892340714\n",
            "Current trial: 7 ### Iteration: 23 ### Fit: 0.4770767344300211\n",
            "Current trial: 7 ### Iteration: 24 ### Fit: 0.28987580613663055\n",
            "Current trial: 7 ### Iteration: 25 ### Fit: 0.058020209617016705\n",
            "Current trial: 7 ### Iteration: 26 ### Fit: 0.14652823734256348\n",
            "Current trial: 7 ### Iteration: 27 ### Fit: 0.032493485976626824\n",
            "Current trial: 7 ### Iteration: 28 ### Fit: -0.06380946327384618\n",
            "Current trial: 7 ### Iteration: 29 ### Fit: -0.19720454920512354\n",
            "Current trial: 7 ### Iteration: 30 ### Fit: 0.03189489862313344\n",
            "Current trial: 7 ### Iteration: 31 ### Fit: -0.20661913133991816\n",
            "Current trial: 7 ### Iteration: 32 ### Fit: -0.05716894655054472\n",
            "Current trial: 7 ### Iteration: 33 ### Fit: -0.524937521777108\n",
            "Current trial: 7 ### Iteration: 34 ### Fit: -0.26989862180862834\n",
            "Current trial: 7 ### Iteration: 35 ### Fit: -0.11769673584716722\n",
            "Current trial: 7 ### Iteration: 36 ### Fit: -0.18128176117132133\n",
            "Current trial: 7 ### Iteration: 37 ### Fit: -0.07603058662214512\n",
            "Current trial: 7 ### Iteration: 38 ### Fit: -0.1638927071799834\n",
            "Current trial: 7 ### Iteration: 39 ### Fit: -0.22465630718619312\n",
            "Current trial: 7 ### Iteration: 40 ### Fit: 0.11518685902399406\n",
            "Current trial: 7 ### Iteration: 41 ### Fit: 0.0925499460030963\n",
            "Current trial: 7 ### Iteration: 42 ### Fit: 0.41675588874534053\n",
            "Current trial: 7 ### Iteration: 43 ### Fit: 0.134413849701561\n",
            "Current trial: 7 ### Iteration: 44 ### Fit: 0.2623979902066065\n",
            "Current trial: 7 ### Iteration: 45 ### Fit: 0.213327662196937\n",
            "@@@ New trial @@@\n",
            "Current trial: 8 ### Iteration: 1 ### Fit: 0.2898418416239824\n",
            "Current trial: 8 ### Iteration: 2 ### Fit: 0.25065619169045894\n",
            "Current trial: 8 ### Iteration: 3 ### Fit: 0.44754982153049006\n",
            "Current trial: 8 ### Iteration: 4 ### Fit: 0.45464446799715663\n",
            "Current trial: 8 ### Iteration: 5 ### Fit: 0.4046316873258399\n",
            "Current trial: 8 ### Iteration: 6 ### Fit: 0.1983089809136951\n",
            "Current trial: 8 ### Iteration: 7 ### Fit: -1.789328323540854\n",
            "Current trial: 8 ### Iteration: 8 ### Fit: -2.2783657263712143\n",
            "Current trial: 8 ### Iteration: 9 ### Fit: -1.2546936481040256\n",
            "Current trial: 8 ### Iteration: 10 ### Fit: 0.15158563950273563\n",
            "Current trial: 8 ### Iteration: 11 ### Fit: 0.045844067433220115\n",
            "Current trial: 8 ### Iteration: 12 ### Fit: -0.13005496894267554\n",
            "Current trial: 8 ### Iteration: 13 ### Fit: -0.04771446881961028\n",
            "Current trial: 8 ### Iteration: 14 ### Fit: 0.2865538418853011\n",
            "Current trial: 8 ### Iteration: 15 ### Fit: -2.187484689421058\n",
            "Current trial: 8 ### Iteration: 16 ### Fit: -1.6013617343388273\n",
            "Current trial: 8 ### Iteration: 17 ### Fit: 0.17402339487355445\n",
            "Current trial: 8 ### Iteration: 18 ### Fit: 0.3800869820624184\n",
            "Current trial: 8 ### Iteration: 19 ### Fit: -0.4454005753546155\n",
            "Current trial: 8 ### Iteration: 20 ### Fit: -1.3250801391359959\n",
            "Current trial: 8 ### Iteration: 21 ### Fit: -0.008965690772958057\n",
            "Current trial: 8 ### Iteration: 22 ### Fit: 0.1387643613380235\n",
            "Current trial: 8 ### Iteration: 23 ### Fit: 0.010808582771775876\n",
            "Current trial: 8 ### Iteration: 24 ### Fit: -0.7393598799963017\n",
            "Current trial: 8 ### Iteration: 25 ### Fit: -0.4114518502206881\n",
            "Current trial: 8 ### Iteration: 26 ### Fit: -1.1645826021474455\n",
            "Current trial: 8 ### Iteration: 27 ### Fit: -0.5687622048738825\n",
            "Current trial: 8 ### Iteration: 28 ### Fit: -0.8351927268708723\n",
            "Current trial: 8 ### Iteration: 29 ### Fit: -0.4130076406558236\n",
            "Current trial: 8 ### Iteration: 30 ### Fit: -0.19799577829788362\n",
            "Current trial: 8 ### Iteration: 31 ### Fit: -1.0506318866033344\n",
            "Current trial: 8 ### Iteration: 32 ### Fit: -0.46826266165828145\n",
            "Current trial: 8 ### Iteration: 33 ### Fit: -0.4728689725948083\n",
            "Current trial: 8 ### Iteration: 34 ### Fit: -0.41504718924684214\n",
            "Current trial: 8 ### Iteration: 35 ### Fit: -0.003635044119753683\n",
            "Current trial: 8 ### Iteration: 36 ### Fit: -0.4695165468757698\n",
            "Current trial: 8 ### Iteration: 37 ### Fit: -0.4757993532287059\n",
            "Current trial: 8 ### Iteration: 38 ### Fit: 0.07387883893153657\n",
            "Current trial: 8 ### Iteration: 39 ### Fit: -0.10762959626308444\n",
            "Current trial: 8 ### Iteration: 40 ### Fit: -0.6367951312311357\n",
            "Current trial: 8 ### Iteration: 41 ### Fit: -0.3860453690739334\n",
            "Current trial: 8 ### Iteration: 42 ### Fit: -0.2839505660550894\n",
            "Current trial: 8 ### Iteration: 43 ### Fit: -0.21382181567468028\n",
            "Current trial: 8 ### Iteration: 44 ### Fit: -0.08780041577526698\n",
            "Current trial: 8 ### Iteration: 45 ### Fit: -0.2964744894928084\n",
            "@@@ New trial @@@\n",
            "Current trial: 9 ### Iteration: 1 ### Fit: 0.36944162476609466\n",
            "Current trial: 9 ### Iteration: 2 ### Fit: 0.4088718709578013\n",
            "Current trial: 9 ### Iteration: 3 ### Fit: -0.20278541856606935\n",
            "Current trial: 9 ### Iteration: 4 ### Fit: -1.6075059846373247\n",
            "Current trial: 9 ### Iteration: 5 ### Fit: -0.08263616956959119\n",
            "Current trial: 9 ### Iteration: 6 ### Fit: -0.5690153631738764\n",
            "Current trial: 9 ### Iteration: 7 ### Fit: -0.58396226334772\n",
            "Current trial: 9 ### Iteration: 8 ### Fit: -0.03570655436246262\n",
            "Current trial: 9 ### Iteration: 9 ### Fit: 0.03206324472261168\n",
            "Current trial: 9 ### Iteration: 10 ### Fit: 0.3404017033312505\n",
            "Current trial: 9 ### Iteration: 11 ### Fit: -0.13596084159520316\n",
            "Current trial: 9 ### Iteration: 12 ### Fit: 0.28836966834532607\n",
            "Current trial: 9 ### Iteration: 13 ### Fit: -0.013570309343689857\n",
            "Current trial: 9 ### Iteration: 14 ### Fit: -0.6040318260208029\n",
            "Current trial: 9 ### Iteration: 15 ### Fit: -1.3721648873490704\n",
            "Current trial: 9 ### Iteration: 16 ### Fit: -0.30704356180238856\n",
            "Current trial: 9 ### Iteration: 17 ### Fit: -0.6851014620943434\n",
            "Current trial: 9 ### Iteration: 18 ### Fit: -0.24804580214332983\n",
            "Current trial: 9 ### Iteration: 19 ### Fit: -0.4687934006493335\n",
            "Current trial: 9 ### Iteration: 20 ### Fit: -0.03090924191439215\n",
            "Current trial: 9 ### Iteration: 21 ### Fit: -0.11420253163501837\n",
            "Current trial: 9 ### Iteration: 22 ### Fit: -0.394579293593289\n",
            "Current trial: 9 ### Iteration: 23 ### Fit: -0.4629211404134359\n",
            "Current trial: 9 ### Iteration: 24 ### Fit: -0.33166269073225374\n",
            "Current trial: 9 ### Iteration: 25 ### Fit: -0.04717752038073986\n",
            "Current trial: 9 ### Iteration: 26 ### Fit: -0.1289730039145196\n",
            "Current trial: 9 ### Iteration: 27 ### Fit: 0.034445139630273625\n",
            "Current trial: 9 ### Iteration: 28 ### Fit: -3.4786140486343893\n",
            "Current trial: 9 ### Iteration: 29 ### Fit: -0.2590149769187313\n",
            "Current trial: 9 ### Iteration: 30 ### Fit: -0.13538260663201873\n",
            "Current trial: 9 ### Iteration: 31 ### Fit: -0.5402641216534199\n",
            "Current trial: 9 ### Iteration: 32 ### Fit: -0.9905653311575204\n",
            "Current trial: 9 ### Iteration: 33 ### Fit: 0.6178554335424715\n",
            "Current trial: 9 ### Iteration: 34 ### Fit: -0.017094182519473033\n",
            "Current trial: 9 ### Iteration: 35 ### Fit: 0.2516161088555544\n",
            "Current trial: 9 ### Iteration: 36 ### Fit: -0.09804627598976845\n",
            "Current trial: 9 ### Iteration: 37 ### Fit: 0.19368143878920485\n",
            "Current trial: 9 ### Iteration: 38 ### Fit: -0.08769769928788507\n",
            "Current trial: 9 ### Iteration: 39 ### Fit: -0.452274163504224\n",
            "Current trial: 9 ### Iteration: 40 ### Fit: -0.3274314869945596\n",
            "Current trial: 9 ### Iteration: 41 ### Fit: -0.43209635392616264\n",
            "Current trial: 9 ### Iteration: 42 ### Fit: 0.0927780594721963\n",
            "Current trial: 9 ### Iteration: 43 ### Fit: 0.3480891543619915\n",
            "Current trial: 9 ### Iteration: 44 ### Fit: 0.0069979820872041465\n",
            "Current trial: 9 ### Iteration: 45 ### Fit: 0.016808218459618995\n",
            "@@@ New trial @@@\n",
            "Current trial: 10 ### Iteration: 1 ### Fit: -2.1365356226124668\n",
            "Current trial: 10 ### Iteration: 2 ### Fit: -0.7482582452126605\n",
            "Current trial: 10 ### Iteration: 3 ### Fit: -0.09578901499879766\n",
            "Current trial: 10 ### Iteration: 4 ### Fit: -0.7156829456887357\n",
            "Current trial: 10 ### Iteration: 5 ### Fit: -0.9051245384035771\n",
            "Current trial: 10 ### Iteration: 6 ### Fit: -0.18526798397018207\n",
            "Current trial: 10 ### Iteration: 7 ### Fit: 0.1690963859756387\n",
            "Current trial: 10 ### Iteration: 8 ### Fit: 0.17724183692278261\n",
            "Current trial: 10 ### Iteration: 9 ### Fit: -0.7538392457975365\n",
            "Current trial: 10 ### Iteration: 10 ### Fit: -0.3189066243214378\n",
            "Current trial: 10 ### Iteration: 11 ### Fit: 0.22004003562187113\n",
            "Current trial: 10 ### Iteration: 12 ### Fit: 0.06547063826491284\n",
            "Current trial: 10 ### Iteration: 13 ### Fit: -0.13855924054406454\n",
            "Current trial: 10 ### Iteration: 14 ### Fit: -0.37688835067154103\n",
            "Current trial: 10 ### Iteration: 15 ### Fit: -0.1551234977215632\n",
            "Current trial: 10 ### Iteration: 16 ### Fit: 0.07098710338522662\n",
            "Current trial: 10 ### Iteration: 17 ### Fit: -0.20444696463933099\n",
            "Current trial: 10 ### Iteration: 18 ### Fit: -0.1726786980689341\n",
            "Current trial: 10 ### Iteration: 19 ### Fit: 0.043353952134577045\n",
            "Current trial: 10 ### Iteration: 20 ### Fit: -0.04146510762269906\n",
            "Current trial: 10 ### Iteration: 21 ### Fit: -0.7272683681252867\n",
            "Current trial: 10 ### Iteration: 22 ### Fit: -0.9136850457103856\n",
            "Current trial: 10 ### Iteration: 23 ### Fit: -0.4994704568396555\n",
            "Current trial: 10 ### Iteration: 24 ### Fit: 0.09154079746169153\n",
            "Current trial: 10 ### Iteration: 25 ### Fit: 0.06585840281025002\n",
            "Current trial: 10 ### Iteration: 26 ### Fit: -0.14198509707105034\n",
            "Current trial: 10 ### Iteration: 27 ### Fit: -0.13460478945672882\n",
            "Current trial: 10 ### Iteration: 28 ### Fit: -0.11577645674755277\n",
            "Current trial: 10 ### Iteration: 29 ### Fit: 0.39491212622441507\n",
            "Current trial: 10 ### Iteration: 30 ### Fit: 0.20317668239325393\n",
            "Current trial: 10 ### Iteration: 31 ### Fit: 0.13138997761564475\n",
            "Current trial: 10 ### Iteration: 32 ### Fit: -0.09323674883719835\n",
            "Current trial: 10 ### Iteration: 33 ### Fit: 0.22093340216902768\n",
            "Current trial: 10 ### Iteration: 34 ### Fit: 0.5280574626734148\n",
            "Current trial: 10 ### Iteration: 35 ### Fit: 0.37836855406354475\n",
            "Current trial: 10 ### Iteration: 36 ### Fit: 0.09060027469957832\n",
            "Current trial: 10 ### Iteration: 37 ### Fit: 0.1782748385531011\n",
            "Current trial: 10 ### Iteration: 38 ### Fit: 0.2814205060875721\n",
            "Current trial: 10 ### Iteration: 39 ### Fit: 0.00425188651745112\n",
            "Current trial: 10 ### Iteration: 40 ### Fit: -0.14614741982906598\n",
            "Current trial: 10 ### Iteration: 41 ### Fit: 0.027769867665364822\n",
            "Current trial: 10 ### Iteration: 42 ### Fit: 0.4051924924938003\n",
            "Current trial: 10 ### Iteration: 43 ### Fit: 0.18299247279900488\n",
            "Current trial: 10 ### Iteration: 44 ### Fit: -0.3967107920810147\n",
            "Current trial: 10 ### Iteration: 45 ### Fit: -0.6520783580001901\n",
            "@@@ New trial @@@\n",
            "Current trial: 11 ### Iteration: 1 ### Fit: 0.13313812087816324\n",
            "Current trial: 11 ### Iteration: 2 ### Fit: 0.12192541726508321\n",
            "Current trial: 11 ### Iteration: 3 ### Fit: -0.17283798059328204\n",
            "Current trial: 11 ### Iteration: 4 ### Fit: -0.01306215435425484\n",
            "Current trial: 11 ### Iteration: 5 ### Fit: 0.04645078153746662\n",
            "Current trial: 11 ### Iteration: 6 ### Fit: 0.44601081333769166\n",
            "Current trial: 11 ### Iteration: 7 ### Fit: -0.015626673122337564\n",
            "Current trial: 11 ### Iteration: 8 ### Fit: -0.43292945084905843\n",
            "Current trial: 11 ### Iteration: 9 ### Fit: -0.5753324738821897\n",
            "Current trial: 11 ### Iteration: 10 ### Fit: 0.3379878544691991\n",
            "Current trial: 11 ### Iteration: 11 ### Fit: 0.10024962344676758\n",
            "Current trial: 11 ### Iteration: 12 ### Fit: 0.01929452913091234\n",
            "Current trial: 11 ### Iteration: 13 ### Fit: -0.1617484847827504\n",
            "Current trial: 11 ### Iteration: 14 ### Fit: -0.17776781370537043\n",
            "Current trial: 11 ### Iteration: 15 ### Fit: 0.2618952136705207\n",
            "Current trial: 11 ### Iteration: 16 ### Fit: 0.5808082478360606\n",
            "Current trial: 11 ### Iteration: 17 ### Fit: 0.2902706967814841\n",
            "Current trial: 11 ### Iteration: 18 ### Fit: 0.2699605765448865\n",
            "Current trial: 11 ### Iteration: 19 ### Fit: 0.07160279443578899\n",
            "Current trial: 11 ### Iteration: 20 ### Fit: -0.87685424260375\n",
            "Current trial: 11 ### Iteration: 21 ### Fit: -0.28132336500139643\n",
            "Current trial: 11 ### Iteration: 22 ### Fit: -0.0687893989928523\n",
            "Current trial: 11 ### Iteration: 23 ### Fit: 0.020081882303725762\n",
            "Current trial: 11 ### Iteration: 24 ### Fit: -5.1620665235234355\n",
            "Current trial: 11 ### Iteration: 25 ### Fit: -0.9976737748513003\n",
            "Current trial: 11 ### Iteration: 26 ### Fit: -0.008312445161271054\n",
            "Current trial: 11 ### Iteration: 27 ### Fit: 0.3664369913520732\n",
            "Current trial: 11 ### Iteration: 28 ### Fit: 0.5285869868362618\n",
            "Current trial: 11 ### Iteration: 29 ### Fit: -1.0165312881861115\n",
            "Current trial: 11 ### Iteration: 30 ### Fit: -0.6996278186520009\n",
            "Current trial: 11 ### Iteration: 31 ### Fit: -0.9006465414544136\n",
            "Current trial: 11 ### Iteration: 32 ### Fit: -0.10107296360357787\n",
            "Current trial: 11 ### Iteration: 33 ### Fit: -0.4960276923056979\n",
            "Current trial: 11 ### Iteration: 34 ### Fit: -0.6812789001198407\n",
            "Current trial: 11 ### Iteration: 35 ### Fit: -0.018328465804241967\n",
            "Current trial: 11 ### Iteration: 36 ### Fit: -0.26710078067956\n",
            "Current trial: 11 ### Iteration: 37 ### Fit: -0.26372229693365945\n",
            "Current trial: 11 ### Iteration: 38 ### Fit: 0.12627506291744817\n",
            "Current trial: 11 ### Iteration: 39 ### Fit: 0.41108110030399125\n",
            "Current trial: 11 ### Iteration: 40 ### Fit: 0.42113012160558483\n",
            "Current trial: 11 ### Iteration: 41 ### Fit: -0.5637076866120054\n",
            "Current trial: 11 ### Iteration: 42 ### Fit: -0.18023195381627932\n",
            "Current trial: 11 ### Iteration: 43 ### Fit: -0.04557091578338346\n",
            "Current trial: 11 ### Iteration: 44 ### Fit: -0.01025975990408634\n",
            "Current trial: 11 ### Iteration: 45 ### Fit: -0.5691805125233971\n",
            "@@@ New trial @@@\n",
            "Current trial: 12 ### Iteration: 1 ### Fit: -0.0023011655304205902\n",
            "Current trial: 12 ### Iteration: 2 ### Fit: -1.0773035694483788\n",
            "Current trial: 12 ### Iteration: 3 ### Fit: -1.902091241323621\n",
            "Current trial: 12 ### Iteration: 4 ### Fit: -1.2547955965580497\n",
            "Current trial: 12 ### Iteration: 5 ### Fit: -0.7138894855305227\n",
            "Current trial: 12 ### Iteration: 6 ### Fit: -0.3805118916557533\n",
            "Current trial: 12 ### Iteration: 7 ### Fit: -0.13467368591856932\n",
            "Current trial: 12 ### Iteration: 8 ### Fit: 0.08084038688365713\n",
            "Current trial: 12 ### Iteration: 9 ### Fit: 0.20698908318797338\n",
            "Current trial: 12 ### Iteration: 10 ### Fit: 0.33043310699937056\n",
            "Current trial: 12 ### Iteration: 11 ### Fit: 0.5192847645108328\n",
            "Current trial: 12 ### Iteration: 12 ### Fit: 0.13684378906536654\n",
            "Current trial: 12 ### Iteration: 13 ### Fit: 0.3814044912459603\n",
            "Current trial: 12 ### Iteration: 14 ### Fit: 0.2811712455620997\n",
            "Current trial: 12 ### Iteration: 15 ### Fit: 0.01201997634868257\n",
            "Current trial: 12 ### Iteration: 16 ### Fit: 0.23761051679955558\n",
            "Current trial: 12 ### Iteration: 17 ### Fit: 0.027471721899349322\n",
            "Current trial: 12 ### Iteration: 18 ### Fit: 0.4376981943957142\n",
            "Current trial: 12 ### Iteration: 19 ### Fit: 0.579274440515545\n",
            "Current trial: 12 ### Iteration: 20 ### Fit: 0.06664009955045358\n",
            "Current trial: 12 ### Iteration: 21 ### Fit: -1.2094864786352346\n",
            "Current trial: 12 ### Iteration: 22 ### Fit: -3.0004945786870163\n",
            "Current trial: 12 ### Iteration: 23 ### Fit: -1.2738419445148188\n",
            "Current trial: 12 ### Iteration: 24 ### Fit: 0.05434721247730778\n",
            "Current trial: 12 ### Iteration: 25 ### Fit: 0.23797625762157593\n",
            "Current trial: 12 ### Iteration: 26 ### Fit: 0.23626054323735912\n",
            "Current trial: 12 ### Iteration: 27 ### Fit: 0.11934610303755655\n",
            "Current trial: 12 ### Iteration: 28 ### Fit: -0.21995167135251514\n",
            "Current trial: 12 ### Iteration: 29 ### Fit: -0.08884317143841769\n",
            "Current trial: 12 ### Iteration: 30 ### Fit: -0.056658083070234344\n",
            "Current trial: 12 ### Iteration: 31 ### Fit: -0.21729701458951634\n",
            "Current trial: 12 ### Iteration: 32 ### Fit: -0.10180540144869288\n",
            "Current trial: 12 ### Iteration: 33 ### Fit: 0.03433297863501383\n",
            "Current trial: 12 ### Iteration: 34 ### Fit: 0.005910286148858024\n",
            "Current trial: 12 ### Iteration: 35 ### Fit: -0.7973842832205391\n",
            "Current trial: 12 ### Iteration: 36 ### Fit: -0.08456380248635931\n",
            "Current trial: 12 ### Iteration: 37 ### Fit: -0.7996850884930102\n",
            "Current trial: 12 ### Iteration: 38 ### Fit: 0.029804240650770697\n",
            "Current trial: 12 ### Iteration: 39 ### Fit: 0.10193890564515151\n",
            "Current trial: 12 ### Iteration: 40 ### Fit: -0.5165982124954756\n",
            "Current trial: 12 ### Iteration: 41 ### Fit: -0.2231158238840012\n",
            "Current trial: 12 ### Iteration: 42 ### Fit: 0.10037031154556164\n",
            "Current trial: 12 ### Iteration: 43 ### Fit: -0.15519715097980846\n",
            "Current trial: 12 ### Iteration: 44 ### Fit: -0.7531039864092235\n",
            "Current trial: 12 ### Iteration: 45 ### Fit: -1.1096504611316473\n",
            "@@@ New trial @@@\n",
            "Current trial: 13 ### Iteration: 1 ### Fit: -1.4511880601012197\n",
            "Current trial: 13 ### Iteration: 2 ### Fit: -0.8979964173852397\n",
            "Current trial: 13 ### Iteration: 3 ### Fit: -1.1714520458859017\n",
            "Current trial: 13 ### Iteration: 4 ### Fit: -0.6902340182490014\n",
            "Current trial: 13 ### Iteration: 5 ### Fit: -0.4212420812170994\n",
            "Current trial: 13 ### Iteration: 6 ### Fit: -0.17912247374163837\n",
            "Current trial: 13 ### Iteration: 7 ### Fit: -0.20844187313305151\n",
            "Current trial: 13 ### Iteration: 8 ### Fit: 0.25147869211585483\n",
            "Current trial: 13 ### Iteration: 9 ### Fit: 0.099672627021825\n",
            "Current trial: 13 ### Iteration: 10 ### Fit: 0.22285647731651104\n",
            "Current trial: 13 ### Iteration: 11 ### Fit: 0.10152822981979526\n",
            "Current trial: 13 ### Iteration: 12 ### Fit: -0.26714593494373706\n",
            "Current trial: 13 ### Iteration: 13 ### Fit: -4.952434376361422\n",
            "Current trial: 13 ### Iteration: 14 ### Fit: -0.4965935321608266\n",
            "Current trial: 13 ### Iteration: 15 ### Fit: -0.18365488966626553\n",
            "Current trial: 13 ### Iteration: 16 ### Fit: -0.07712711372948511\n",
            "Current trial: 13 ### Iteration: 17 ### Fit: -0.6542012869503873\n",
            "Current trial: 13 ### Iteration: 18 ### Fit: -0.4164696571530322\n",
            "Current trial: 13 ### Iteration: 19 ### Fit: -1.6008810460646892\n",
            "Current trial: 13 ### Iteration: 20 ### Fit: -0.12058855901678367\n",
            "Current trial: 13 ### Iteration: 21 ### Fit: -5.014766673630756\n",
            "Current trial: 13 ### Iteration: 22 ### Fit: 0.24446870571433554\n",
            "Current trial: 13 ### Iteration: 23 ### Fit: 0.41118785826954807\n",
            "Current trial: 13 ### Iteration: 24 ### Fit: -1.025670606975455\n",
            "Current trial: 13 ### Iteration: 25 ### Fit: 0.17394520012722037\n",
            "Current trial: 13 ### Iteration: 26 ### Fit: -1.117126253606123\n",
            "Current trial: 13 ### Iteration: 27 ### Fit: -0.3543918718285419\n",
            "Current trial: 13 ### Iteration: 28 ### Fit: -0.4685953332246693\n",
            "Current trial: 13 ### Iteration: 29 ### Fit: 0.29156970572797625\n",
            "Current trial: 13 ### Iteration: 30 ### Fit: 0.5111108251515077\n",
            "Current trial: 13 ### Iteration: 31 ### Fit: -0.46282551740218514\n",
            "Current trial: 13 ### Iteration: 32 ### Fit: -0.6005444913454512\n",
            "Current trial: 13 ### Iteration: 33 ### Fit: -0.3016734221743256\n",
            "Current trial: 13 ### Iteration: 34 ### Fit: -0.3948896420116752\n",
            "Current trial: 13 ### Iteration: 35 ### Fit: 0.03643011680732677\n",
            "Current trial: 13 ### Iteration: 36 ### Fit: 0.15315306326392308\n",
            "Current trial: 13 ### Iteration: 37 ### Fit: 0.043850860111007584\n",
            "Current trial: 13 ### Iteration: 38 ### Fit: -0.13825123852366472\n",
            "Current trial: 13 ### Iteration: 39 ### Fit: -1.1631459641708042\n",
            "Current trial: 13 ### Iteration: 40 ### Fit: -1.3578917351162332\n",
            "Current trial: 13 ### Iteration: 41 ### Fit: -3.34848372948478\n",
            "Current trial: 13 ### Iteration: 42 ### Fit: -1.3282996960563844\n",
            "Current trial: 13 ### Iteration: 43 ### Fit: -0.9710642787108539\n",
            "Current trial: 13 ### Iteration: 44 ### Fit: -1.0257445463246837\n",
            "Current trial: 13 ### Iteration: 45 ### Fit: 0.08072145799522235\n",
            "@@@ New trial @@@\n",
            "Current trial: 14 ### Iteration: 1 ### Fit: -0.09602472294051512\n",
            "Current trial: 14 ### Iteration: 2 ### Fit: 0.45135127768756444\n",
            "Current trial: 14 ### Iteration: 3 ### Fit: 0.6908524090704886\n",
            "Current trial: 14 ### Iteration: 4 ### Fit: 0.3655580865360919\n",
            "Current trial: 14 ### Iteration: 5 ### Fit: 0.24767095008517548\n",
            "Current trial: 14 ### Iteration: 6 ### Fit: -0.4211470408090674\n",
            "Current trial: 14 ### Iteration: 7 ### Fit: -0.6841707420471035\n",
            "Current trial: 14 ### Iteration: 8 ### Fit: 0.3969923243949047\n",
            "Current trial: 14 ### Iteration: 9 ### Fit: 0.3884014236479276\n",
            "Current trial: 14 ### Iteration: 10 ### Fit: -1.0481847091802132\n",
            "Current trial: 14 ### Iteration: 11 ### Fit: -0.48087907182774914\n",
            "Current trial: 14 ### Iteration: 12 ### Fit: 0.021106636595688233\n",
            "Current trial: 14 ### Iteration: 13 ### Fit: 0.40677311940460414\n",
            "Current trial: 14 ### Iteration: 14 ### Fit: -0.40523763941731783\n",
            "Current trial: 14 ### Iteration: 15 ### Fit: 0.023110769745754434\n",
            "Current trial: 14 ### Iteration: 16 ### Fit: 0.49650769650844384\n",
            "Current trial: 14 ### Iteration: 17 ### Fit: 0.15067907511588896\n",
            "Current trial: 14 ### Iteration: 18 ### Fit: -0.21980754662901325\n",
            "Current trial: 14 ### Iteration: 19 ### Fit: -0.15031933752965698\n",
            "Current trial: 14 ### Iteration: 20 ### Fit: -0.7922616118258232\n",
            "Current trial: 14 ### Iteration: 21 ### Fit: -1.0556477144447842\n",
            "Current trial: 14 ### Iteration: 22 ### Fit: -1.0320314150855516\n",
            "Current trial: 14 ### Iteration: 23 ### Fit: -0.5755438184478068\n",
            "Current trial: 14 ### Iteration: 24 ### Fit: 0.13268403565039522\n",
            "Current trial: 14 ### Iteration: 25 ### Fit: -0.33079298245516475\n",
            "Current trial: 14 ### Iteration: 26 ### Fit: -1.1778128809310906\n",
            "Current trial: 14 ### Iteration: 27 ### Fit: -0.1631232256985995\n",
            "Current trial: 14 ### Iteration: 28 ### Fit: -0.26263248282284524\n",
            "Current trial: 14 ### Iteration: 29 ### Fit: 0.30023224449233676\n",
            "Current trial: 14 ### Iteration: 30 ### Fit: -0.0738175489235171\n",
            "Current trial: 14 ### Iteration: 31 ### Fit: -0.44579136061668123\n",
            "Current trial: 14 ### Iteration: 32 ### Fit: -0.0898390478457689\n",
            "Current trial: 14 ### Iteration: 33 ### Fit: 0.21984485859247072\n",
            "Current trial: 14 ### Iteration: 34 ### Fit: 0.31928039315941303\n",
            "Current trial: 14 ### Iteration: 35 ### Fit: 0.10620133229493978\n",
            "Current trial: 14 ### Iteration: 36 ### Fit: 0.4986009660541503\n",
            "Current trial: 14 ### Iteration: 37 ### Fit: 0.34300247535464623\n",
            "Current trial: 14 ### Iteration: 38 ### Fit: 0.38431724920980337\n",
            "Current trial: 14 ### Iteration: 39 ### Fit: 0.3487682727162945\n",
            "Current trial: 14 ### Iteration: 40 ### Fit: 0.3016496366629756\n",
            "Current trial: 14 ### Iteration: 41 ### Fit: 0.24370486925794688\n",
            "Current trial: 14 ### Iteration: 42 ### Fit: 0.3040478645513931\n",
            "Current trial: 14 ### Iteration: 43 ### Fit: -0.047889462770557945\n",
            "Current trial: 14 ### Iteration: 44 ### Fit: -1.3650758308988418\n",
            "Current trial: 14 ### Iteration: 45 ### Fit: -0.3933364224674245\n",
            "@@@ New trial @@@\n"
          ],
          "name": "stdout"
        }
      ]
    },
    {
      "cell_type": "code",
      "metadata": {
        "id": "eK8kQ8PWerMI",
        "colab_type": "code",
        "colab": {}
      },
      "source": [
        "### Added\n",
        "#Создание модели\n",
        "def baseline_model():\n",
        "    model = tf.keras.Sequential()\n",
        "    model.add(layers.Dense(1, activation='linear'))\n",
        "    model.add(layers.Dense(20, activation='tanh'))\n",
        "    model.add(layers.Dense(20, activation='tanh'))\n",
        "    model.add(layers.Dense(1, activation='linear'))\n",
        "    #Компиляция модели\n",
        "    model.compile(loss=coeff_determination, optimizer=tf.optimizers.Adam(0.001))\n",
        "    return model"
      ],
      "execution_count": null,
      "outputs": []
    },
    {
      "cell_type": "code",
      "metadata": {
        "id": "ba6GtiDGhByh",
        "colab_type": "code",
        "colab": {
          "base_uri": "https://localhost:8080/",
          "height": 526
        },
        "outputId": "363b49c1-3b43-4fbc-d181-ddcbd16c08dc"
      },
      "source": [
        "print(best[-1])\n",
        "plt.rcdefaults()\n",
        "plt.subplot(2, 1, 1)\n",
        "plt.plot(np.linspace(best[0]*0.5 + 0.5, best[0]*0.5 + 1, len(best[1]) ), best[2], '.r')\n",
        "plt.plot(np.linspace(best[0]*0.5 + 0.5, best[0]*0.5 + 1, len(best[1]) ), best[1], color='black')\n",
        "\n",
        "plt.subplot(2,1,2)\n",
        "\n",
        "plt.plot(best[1], best[2], color='orange', marker = '.', linestyle='')\n",
        "plt.plot(best[1], best[1], color='black')\n",
        "plt.tight_layout()\n",
        "plt.suptitle('ya ne ibu che ya delay')"
      ],
      "execution_count": 66,
      "outputs": [
        {
          "output_type": "stream",
          "text": [
            "0.7651388293029807\n"
          ],
          "name": "stdout"
        },
        {
          "output_type": "execute_result",
          "data": {
            "text/plain": [
              "Text(0.5, 0.98, 'ya ne ibu che ya delay')"
            ]
          },
          "metadata": {
            "tags": []
          },
          "execution_count": 66
        },
        {
          "output_type": "display_data",
          "data": {
            "image/png": "[encoded data removed]",
            "text/plain": [
              "<Figure size 640x480 with 2 Axes>"
            ]
          },
          "metadata": {
            "tags": []
          }
        }
      ]
    },
    {
      "cell_type": "code",
      "metadata": {
        "id": "qz1_0nmwd9Y9",
        "colab_type": "code",
        "colab": {
          "base_uri": "https://localhost:8080/",
          "height": 425
        },
        "outputId": "6425a7da-f208-4775-d708-e1c4f0c37467"
      },
      "source": [
        "### Added\n",
        "coefs = {}\n",
        "histories = []\n",
        "for i in range(14):\n",
        "    model = baseline_model()\n",
        "    temp = []\n",
        "    src = cz_filtered[0:2, int(sfq*2+sfq*i*0.75):2+int(sfq*(i+1)*0.75)].T\n",
        "    trgt = tp7_filtered[0:2, int(2+sfq*i*0.75):int(sfq*(i+1)*0.75)].T\n",
        "    src_next = cz_filtered[0:2, int(sfq*(i+1)):int(sfq*(i+2))].T\n",
        "    trgt_next = tp7_filtered[0:2, int(sfq*(i+1)):int(sfq*(i+2))].T\n",
        "    histories = model.fit(src, trgt, epochs=100, batch_size=32, verbose=False)\n",
        "    res = model.predict(src_next, verbose=False)\n",
        "    c = coeff_determination_simp(trgt_next.T, res.T)\n",
        "    temp.append(c)\n",
        "    print(f'Current trial: {0} ### Second: {i}-{i+1} ### Fit: {c}')"
      ],
      "execution_count": null,
      "outputs": [
        {
          "output_type": "error",
          "ename": "ValueError",
          "evalue": "ignored",
          "traceback": [
            "\u001b[0;31m---------------------------------------------------------------------------\u001b[0m",
            "\u001b[0;31mValueError\u001b[0m                                Traceback (most recent call last)",
            "\u001b[0;32m<ipython-input-81-6d8dc8f9186c>\u001b[0m in \u001b[0;36m<module>\u001b[0;34m()\u001b[0m\n\u001b[1;32m      9\u001b[0m     \u001b[0msrc_next\u001b[0m \u001b[0;34m=\u001b[0m \u001b[0mcz_filtered\u001b[0m\u001b[0;34m[\u001b[0m\u001b[0;36m0\u001b[0m\u001b[0;34m:\u001b[0m\u001b[0;36m2\u001b[0m\u001b[0;34m,\u001b[0m \u001b[0mint\u001b[0m\u001b[0;34m(\u001b[0m\u001b[0msfq\u001b[0m\u001b[0;34m*\u001b[0m\u001b[0;34m(\u001b[0m\u001b[0mi\u001b[0m\u001b[0;34m+\u001b[0m\u001b[0;36m1\u001b[0m\u001b[0;34m)\u001b[0m\u001b[0;34m)\u001b[0m\u001b[0;34m:\u001b[0m\u001b[0mint\u001b[0m\u001b[0;34m(\u001b[0m\u001b[0msfq\u001b[0m\u001b[0;34m*\u001b[0m\u001b[0;34m(\u001b[0m\u001b[0mi\u001b[0m\u001b[0;34m+\u001b[0m\u001b[0;36m2\u001b[0m\u001b[0;34m)\u001b[0m\u001b[0;34m)\u001b[0m\u001b[0;34m]\u001b[0m\u001b[0;34m.\u001b[0m\u001b[0mT\u001b[0m\u001b[0;34m\u001b[0m\u001b[0;34m\u001b[0m\u001b[0m\n\u001b[1;32m     10\u001b[0m     \u001b[0mtrgt_next\u001b[0m \u001b[0;34m=\u001b[0m \u001b[0mtp7_filtered\u001b[0m\u001b[0;34m[\u001b[0m\u001b[0;36m0\u001b[0m\u001b[0;34m:\u001b[0m\u001b[0;36m2\u001b[0m\u001b[0;34m,\u001b[0m \u001b[0mint\u001b[0m\u001b[0;34m(\u001b[0m\u001b[0msfq\u001b[0m\u001b[0;34m*\u001b[0m\u001b[0;34m(\u001b[0m\u001b[0mi\u001b[0m\u001b[0;34m+\u001b[0m\u001b[0;36m1\u001b[0m\u001b[0;34m)\u001b[0m\u001b[0;34m)\u001b[0m\u001b[0;34m:\u001b[0m\u001b[0mint\u001b[0m\u001b[0;34m(\u001b[0m\u001b[0msfq\u001b[0m\u001b[0;34m*\u001b[0m\u001b[0;34m(\u001b[0m\u001b[0mi\u001b[0m\u001b[0;34m+\u001b[0m\u001b[0;36m2\u001b[0m\u001b[0;34m)\u001b[0m\u001b[0;34m)\u001b[0m\u001b[0;34m]\u001b[0m\u001b[0;34m.\u001b[0m\u001b[0mT\u001b[0m\u001b[0;34m\u001b[0m\u001b[0;34m\u001b[0m\u001b[0m\n\u001b[0;32m---> 11\u001b[0;31m     \u001b[0mhistories\u001b[0m \u001b[0;34m=\u001b[0m \u001b[0mmodel\u001b[0m\u001b[0;34m.\u001b[0m\u001b[0mfit\u001b[0m\u001b[0;34m(\u001b[0m\u001b[0msrc\u001b[0m\u001b[0;34m,\u001b[0m \u001b[0mtrgt\u001b[0m\u001b[0;34m,\u001b[0m \u001b[0mepochs\u001b[0m\u001b[0;34m=\u001b[0m\u001b[0;36m100\u001b[0m\u001b[0;34m,\u001b[0m \u001b[0mbatch_size\u001b[0m\u001b[0;34m=\u001b[0m\u001b[0;36m32\u001b[0m\u001b[0;34m,\u001b[0m \u001b[0mverbose\u001b[0m\u001b[0;34m=\u001b[0m\u001b[0;32mFalse\u001b[0m\u001b[0;34m)\u001b[0m\u001b[0;34m\u001b[0m\u001b[0;34m\u001b[0m\u001b[0m\n\u001b[0m\u001b[1;32m     12\u001b[0m     \u001b[0mres\u001b[0m \u001b[0;34m=\u001b[0m \u001b[0mmodel\u001b[0m\u001b[0;34m.\u001b[0m\u001b[0mpredict\u001b[0m\u001b[0;34m(\u001b[0m\u001b[0msrc_next\u001b[0m\u001b[0;34m,\u001b[0m \u001b[0mverbose\u001b[0m\u001b[0;34m=\u001b[0m\u001b[0;32mFalse\u001b[0m\u001b[0;34m)\u001b[0m\u001b[0;34m\u001b[0m\u001b[0;34m\u001b[0m\u001b[0m\n\u001b[1;32m     13\u001b[0m     \u001b[0mc\u001b[0m \u001b[0;34m=\u001b[0m \u001b[0mcoeff_determination_simp\u001b[0m\u001b[0;34m(\u001b[0m\u001b[0mtrgt_next\u001b[0m\u001b[0;34m.\u001b[0m\u001b[0mT\u001b[0m\u001b[0;34m,\u001b[0m \u001b[0mres\u001b[0m\u001b[0;34m.\u001b[0m\u001b[0mT\u001b[0m\u001b[0;34m)\u001b[0m\u001b[0;34m\u001b[0m\u001b[0;34m\u001b[0m\u001b[0m\n",
            "\u001b[0;32m/usr/local/lib/python3.6/dist-packages/tensorflow/python/keras/engine/training.py\u001b[0m in \u001b[0;36m_method_wrapper\u001b[0;34m(self, *args, **kwargs)\u001b[0m\n\u001b[1;32m     64\u001b[0m   \u001b[0;32mdef\u001b[0m \u001b[0m_method_wrapper\u001b[0m\u001b[0;34m(\u001b[0m\u001b[0mself\u001b[0m\u001b[0;34m,\u001b[0m \u001b[0;34m*\u001b[0m\u001b[0margs\u001b[0m\u001b[0;34m,\u001b[0m \u001b[0;34m**\u001b[0m\u001b[0mkwargs\u001b[0m\u001b[0;34m)\u001b[0m\u001b[0;34m:\u001b[0m\u001b[0;34m\u001b[0m\u001b[0;34m\u001b[0m\u001b[0m\n\u001b[1;32m     65\u001b[0m     \u001b[0;32mif\u001b[0m \u001b[0;32mnot\u001b[0m \u001b[0mself\u001b[0m\u001b[0;34m.\u001b[0m\u001b[0m_in_multi_worker_mode\u001b[0m\u001b[0;34m(\u001b[0m\u001b[0;34m)\u001b[0m\u001b[0;34m:\u001b[0m  \u001b[0;31m# pylint: disable=protected-access\u001b[0m\u001b[0;34m\u001b[0m\u001b[0;34m\u001b[0m\u001b[0m\n\u001b[0;32m---> 66\u001b[0;31m       \u001b[0;32mreturn\u001b[0m \u001b[0mmethod\u001b[0m\u001b[0;34m(\u001b[0m\u001b[0mself\u001b[0m\u001b[0;34m,\u001b[0m \u001b[0;34m*\u001b[0m\u001b[0margs\u001b[0m\u001b[0;34m,\u001b[0m \u001b[0;34m**\u001b[0m\u001b[0mkwargs\u001b[0m\u001b[0;34m)\u001b[0m\u001b[0;34m\u001b[0m\u001b[0;34m\u001b[0m\u001b[0m\n\u001b[0m\u001b[1;32m     67\u001b[0m \u001b[0;34m\u001b[0m\u001b[0m\n\u001b[1;32m     68\u001b[0m     \u001b[0;31m# Running inside `run_distribute_coordinator` already.\u001b[0m\u001b[0;34m\u001b[0m\u001b[0;34m\u001b[0m\u001b[0;34m\u001b[0m\u001b[0m\n",
            "\u001b[0;32m/usr/local/lib/python3.6/dist-packages/tensorflow/python/keras/engine/training.py\u001b[0m in \u001b[0;36mfit\u001b[0;34m(self, x, y, batch_size, epochs, verbose, callbacks, validation_split, validation_data, shuffle, class_weight, sample_weight, initial_epoch, steps_per_epoch, validation_steps, validation_batch_size, validation_freq, max_queue_size, workers, use_multiprocessing)\u001b[0m\n\u001b[1;32m    813\u001b[0m           \u001b[0mworkers\u001b[0m\u001b[0;34m=\u001b[0m\u001b[0mworkers\u001b[0m\u001b[0;34m,\u001b[0m\u001b[0;34m\u001b[0m\u001b[0;34m\u001b[0m\u001b[0m\n\u001b[1;32m    814\u001b[0m           \u001b[0muse_multiprocessing\u001b[0m\u001b[0;34m=\u001b[0m\u001b[0muse_multiprocessing\u001b[0m\u001b[0;34m,\u001b[0m\u001b[0;34m\u001b[0m\u001b[0;34m\u001b[0m\u001b[0m\n\u001b[0;32m--> 815\u001b[0;31m           model=self)\n\u001b[0m\u001b[1;32m    816\u001b[0m \u001b[0;34m\u001b[0m\u001b[0m\n\u001b[1;32m    817\u001b[0m       \u001b[0;31m# Container that configures and calls `tf.keras.Callback`s.\u001b[0m\u001b[0;34m\u001b[0m\u001b[0;34m\u001b[0m\u001b[0;34m\u001b[0m\u001b[0m\n",
            "\u001b[0;32m/usr/local/lib/python3.6/dist-packages/tensorflow/python/keras/engine/data_adapter.py\u001b[0m in \u001b[0;36m__init__\u001b[0;34m(self, x, y, sample_weight, batch_size, steps_per_epoch, initial_epoch, epochs, shuffle, class_weight, max_queue_size, workers, use_multiprocessing, model)\u001b[0m\n\u001b[1;32m   1110\u001b[0m         \u001b[0muse_multiprocessing\u001b[0m\u001b[0;34m=\u001b[0m\u001b[0muse_multiprocessing\u001b[0m\u001b[0;34m,\u001b[0m\u001b[0;34m\u001b[0m\u001b[0;34m\u001b[0m\u001b[0m\n\u001b[1;32m   1111\u001b[0m         \u001b[0mdistribution_strategy\u001b[0m\u001b[0;34m=\u001b[0m\u001b[0mds_context\u001b[0m\u001b[0;34m.\u001b[0m\u001b[0mget_strategy\u001b[0m\u001b[0;34m(\u001b[0m\u001b[0;34m)\u001b[0m\u001b[0;34m,\u001b[0m\u001b[0;34m\u001b[0m\u001b[0;34m\u001b[0m\u001b[0m\n\u001b[0;32m-> 1112\u001b[0;31m         model=model)\n\u001b[0m\u001b[1;32m   1113\u001b[0m \u001b[0;34m\u001b[0m\u001b[0m\n\u001b[1;32m   1114\u001b[0m     \u001b[0mstrategy\u001b[0m \u001b[0;34m=\u001b[0m \u001b[0mds_context\u001b[0m\u001b[0;34m.\u001b[0m\u001b[0mget_strategy\u001b[0m\u001b[0;34m(\u001b[0m\u001b[0;34m)\u001b[0m\u001b[0;34m\u001b[0m\u001b[0;34m\u001b[0m\u001b[0m\n",
            "\u001b[0;32m/usr/local/lib/python3.6/dist-packages/tensorflow/python/keras/engine/data_adapter.py\u001b[0m in \u001b[0;36m__init__\u001b[0;34m(self, x, y, sample_weights, sample_weight_modes, batch_size, epochs, steps, shuffle, **kwargs)\u001b[0m\n\u001b[1;32m    280\u001b[0m             label, \", \".join(str(i.shape[0]) for i in nest.flatten(data)))\n\u001b[1;32m    281\u001b[0m       \u001b[0mmsg\u001b[0m \u001b[0;34m+=\u001b[0m \u001b[0;34m\"Please provide data which shares the same first dimension.\"\u001b[0m\u001b[0;34m\u001b[0m\u001b[0;34m\u001b[0m\u001b[0m\n\u001b[0;32m--> 282\u001b[0;31m       \u001b[0;32mraise\u001b[0m \u001b[0mValueError\u001b[0m\u001b[0;34m(\u001b[0m\u001b[0mmsg\u001b[0m\u001b[0;34m)\u001b[0m\u001b[0;34m\u001b[0m\u001b[0;34m\u001b[0m\u001b[0m\n\u001b[0m\u001b[1;32m    283\u001b[0m     \u001b[0mnum_samples\u001b[0m \u001b[0;34m=\u001b[0m \u001b[0mnum_samples\u001b[0m\u001b[0;34m.\u001b[0m\u001b[0mpop\u001b[0m\u001b[0;34m(\u001b[0m\u001b[0;34m)\u001b[0m\u001b[0;34m\u001b[0m\u001b[0;34m\u001b[0m\u001b[0m\n\u001b[1;32m    284\u001b[0m \u001b[0;34m\u001b[0m\u001b[0m\n",
            "\u001b[0;31mValueError\u001b[0m: Data cardinality is ambiguous:\n  x sizes: 0\n  y sizes: 148\nPlease provide data which shares the same first dimension."
          ]
        }
      ]
    },
    {
      "cell_type": "code",
      "metadata": {
        "id": "sfv0sGLeeNgK",
        "colab_type": "code",
        "colab": {
          "base_uri": "https://localhost:8080/",
          "height": 198
        },
        "outputId": "c4582a15-1023-4971-ab3a-3cac939afb46"
      },
      "source": [
        "###ADDED\n",
        "### Рисует график обучения (loss function) и график метрики (coeff_determination). Своровано и адаптировано отсюда: https://www.tensorflow.org/tutorials/keras/regression?hl=ru\n",
        "def plot_history(history):\n",
        "    hist = pd.DataFrame(history.history)\n",
        "    hist['epoch'] = history.epoch\n",
        "\n",
        "    plt.figure()\n",
        "    plt.xlabel('Epoch')\n",
        "    plt.ylabel('Coefficient of determination')\n",
        "    plt.plot(hist['epoch'], hist['coeff_determination'],\n",
        "           label='Coefficient of determination')\n",
        "    plt.plot(hist['epoch'], hist['loss'],\n",
        "           label = 'Loss function')\n",
        "    plt.ylim([0,5])\n",
        "    plt.legend()\n",
        "    plt.show()\n",
        "\n",
        "\n",
        "plot_history(history)"
      ],
      "execution_count": 1,
      "outputs": [
        {
          "output_type": "error",
          "ename": "NameError",
          "evalue": "ignored",
          "traceback": [
            "\u001b[0;31m---------------------------------------------------------------------------\u001b[0m",
            "\u001b[0;31mNameError\u001b[0m                                 Traceback (most recent call last)",
            "\u001b[0;32m<ipython-input-1-abdf15ae495c>\u001b[0m in \u001b[0;36m<module>\u001b[0;34m()\u001b[0m\n\u001b[1;32m     17\u001b[0m \u001b[0;34m\u001b[0m\u001b[0m\n\u001b[1;32m     18\u001b[0m \u001b[0;34m\u001b[0m\u001b[0m\n\u001b[0;32m---> 19\u001b[0;31m \u001b[0mplot_history\u001b[0m\u001b[0;34m(\u001b[0m\u001b[0mhistory\u001b[0m\u001b[0;34m)\u001b[0m\u001b[0;34m\u001b[0m\u001b[0;34m\u001b[0m\u001b[0m\n\u001b[0m",
            "\u001b[0;31mNameError\u001b[0m: name 'history' is not defined"
          ]
        }
      ]
    },
    {
      "cell_type": "code",
      "metadata": {
        "id": "RLR4o5-FHjzY",
        "colab_type": "code",
        "colab": {
          "base_uri": "https://localhost:8080/",
          "height": 164
        },
        "outputId": "e1b33a52-023c-42e0-d138-fbfb465e733c"
      },
      "source": [
        "coefs = list(coefs.values())"
      ],
      "execution_count": 44,
      "outputs": [
        {
          "output_type": "error",
          "ename": "AttributeError",
          "evalue": "ignored",
          "traceback": [
            "\u001b[0;31m---------------------------------------------------------------------------\u001b[0m",
            "\u001b[0;31mAttributeError\u001b[0m                            Traceback (most recent call last)",
            "\u001b[0;32m<ipython-input-44-ef7c3167ec41>\u001b[0m in \u001b[0;36m<module>\u001b[0;34m()\u001b[0m\n\u001b[0;32m----> 1\u001b[0;31m \u001b[0mcoefs\u001b[0m \u001b[0;34m=\u001b[0m \u001b[0mlist\u001b[0m\u001b[0;34m(\u001b[0m\u001b[0mcoefs\u001b[0m\u001b[0;34m.\u001b[0m\u001b[0mvalues\u001b[0m\u001b[0;34m(\u001b[0m\u001b[0;34m)\u001b[0m\u001b[0;34m)\u001b[0m\u001b[0;34m\u001b[0m\u001b[0;34m\u001b[0m\u001b[0m\n\u001b[0m",
            "\u001b[0;31mAttributeError\u001b[0m: 'list' object has no attribute 'values'"
          ]
        }
      ]
    },
    {
      "cell_type": "code",
      "metadata": {
        "id": "_RQd6ip9H2fi",
        "colab_type": "code",
        "colab": {}
      },
      "source": [
        "coefs = np.array(coefs)"
      ],
      "execution_count": 45,
      "outputs": []
    },
    {
      "cell_type": "code",
      "metadata": {
        "id": "Ur5whX41PXWp",
        "colab_type": "code",
        "colab": {
          "base_uri": "https://localhost:8080/",
          "height": 265
        },
        "outputId": "57b98039-745e-4081-8e87-9b821ac09659"
      },
      "source": [
        "plt.hist(coefs.T);"
      ],
      "execution_count": 46,
      "outputs": [
        {
          "output_type": "display_data",
          "data": {
            "image/png": "[encoded data removed]",
            "text/plain": [
              "<Figure size 432x288 with 1 Axes>"
            ]
          },
          "metadata": {
            "tags": [],
            "needs_background": "light"
          }
        }
      ]
    },
    {
      "cell_type": "code",
      "metadata": {
        "id": "e0zMwBjyPYQf",
        "colab_type": "code",
        "colab": {
          "base_uri": "https://localhost:8080/",
          "height": 34
        },
        "outputId": "e44026bb-cb14-4dbd-dc70-4fcda9760bb6"
      },
      "source": [
        "coefs.shape # 15 триалов, в каждом по 9 окон. массив хранит данные о фите для каждого окна"
      ],
      "execution_count": null,
      "outputs": [
        {
          "output_type": "execute_result",
          "data": {
            "text/plain": [
              "(15, 22)"
            ]
          },
          "metadata": {
            "tags": []
          },
          "execution_count": 64
        }
      ]
    },
    {
      "cell_type": "code",
      "metadata": {
        "id": "86VayRDIYiiY",
        "colab_type": "code",
        "colab": {
          "base_uri": "https://localhost:8080/",
          "height": 34
        },
        "outputId": "a84b936c-772c-4822-95e8-6483a6b6bbc2"
      },
      "source": [
        "len(coefs[0].shape)"
      ],
      "execution_count": null,
      "outputs": [
        {
          "output_type": "execute_result",
          "data": {
            "text/plain": [
              "1"
            ]
          },
          "metadata": {
            "tags": []
          },
          "execution_count": 106
        }
      ]
    },
    {
      "cell_type": "code",
      "metadata": {
        "id": "HcaXyWqZgH_n",
        "colab_type": "code",
        "colab": {}
      },
      "source": [
        "sas = [list(x) for x in coefs]"
      ],
      "execution_count": null,
      "outputs": []
    },
    {
      "cell_type": "code",
      "metadata": {
        "id": "AbhpQKPC40-v",
        "colab_type": "code",
        "colab": {}
      },
      "source": [
        "import json"
      ],
      "execution_count": null,
      "outputs": []
    },
    {
      "cell_type": "code",
      "metadata": {
        "id": "CRtI7BKu5AHD",
        "colab_type": "code",
        "colab": {}
      },
      "source": [
        "sos = {'data': sas}"
      ],
      "execution_count": null,
      "outputs": []
    },
    {
      "cell_type": "code",
      "metadata": {
        "id": "d12UwcKK5C1x",
        "colab_type": "code",
        "colab": {}
      },
      "source": [
        "f = open('drive/My Drive/biba.josn', 'w')\n",
        "json.dump(sos, f)\n",
        "f.close()"
      ],
      "execution_count": null,
      "outputs": []
    },
    {
      "cell_type": "code",
      "metadata": {
        "id": "l0WsKLig5M93",
        "colab_type": "code",
        "colab": {}
      },
      "source": [
        ""
      ],
      "execution_count": null,
      "outputs": []
    }
  ]
}