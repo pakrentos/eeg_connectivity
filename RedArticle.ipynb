{
  "nbformat": 4,
  "nbformat_minor": 0,
  "metadata": {
    "kernelspec": {
      "display_name": "Python 3",
      "language": "python",
      "name": "python3"
    },
    "language_info": {
      "codemirror_mode": {
        "name": "ipython",
        "version": 3
      },
      "file_extension": ".py",
      "mimetype": "text/x-python",
      "name": "python",
      "nbconvert_exporter": "python",
      "pygments_lexer": "ipython3",
      "version": "3.7.8"
    },
    "colab": {
      "name": "RedArticle.ipynb",
      "provenance": [],
      "include_colab_link": true
    }
  },
  "cells": [
    {
      "cell_type": "markdown",
      "metadata": {
        "id": "view-in-github",
        "colab_type": "text"
      },
      "source": [
        "<a href=\"https://colab.research.google.com/github/pakrentos/eeg_connectivity/blob/master/RedArticle.ipynb\" target=\"_parent\"><img src=\"https://colab.research.google.com/assets/colab-badge.svg\" alt=\"Open In Colab\"/></a>"
      ]
    },
    {
      "cell_type": "code",
      "metadata": {
        "id": "_QJCSC0-115w",
        "colab_type": "code",
        "colab": {}
      },
      "source": [
        "import numpy as np\n",
        "import scipy as sp\n",
        "import random\n",
        "from scipy.integrate import solve_ivp as ivp\n",
        "from scipy.signal import butter, lfilter\n",
        "from matplotlib import pyplot as plt\n",
        "from os.path import join\n",
        "import time\n",
        "from tensorflow.keras import layers\n",
        "from tensorflow.keras import regularizers\n",
        "import tensorflow as tf\n",
        "from tensorflow import keras\n",
        "from tensorflow.keras import backend as K\n",
        "import keras.metrics as metrics\n",
        "from sklearn import preprocessing\n",
        "from sklearn.model_selection import KFold, StratifiedKFold\n",
        "from sklearn.preprocessing import StandardScaler\n",
        "from sklearn.pipeline import Pipeline\n",
        "from sklearn.metrics import r2_score\n",
        "import math\n",
        "import os\n",
        "from sklearn.model_selection import ShuffleSplit\n",
        "from tensorflow.keras.preprocessing.image import ImageDataGenerator\n",
        "import pandas as pd"
      ],
      "execution_count": null,
      "outputs": []
    },
    {
      "cell_type": "markdown",
      "metadata": {
        "id": "SJ0WsG-V1150",
        "colab_type": "text"
      },
      "source": [
        "Метрики"
      ]
    },
    {
      "cell_type": "code",
      "metadata": {
        "id": "JW1PJh3f1151",
        "colab_type": "code",
        "colab": {}
      },
      "source": [
        "def coeff_determination(y_true, y_pred):\n",
        "    SS_res =  K.sum(K.square( y_true-y_pred ))\n",
        "    SS_tot = K.sum(K.square( y_true - K.mean(y_true) ) )\n",
        "    return ( 1 - SS_res/(SS_tot + K.epsilon()) )"
      ],
      "execution_count": null,
      "outputs": []
    },
    {
      "cell_type": "code",
      "metadata": {
        "id": "aGmToxZ61154",
        "colab_type": "code",
        "colab": {}
      },
      "source": [
        "def normalize(arr:np.array):\n",
        "    return (arr - arr.min())/(arr.max()-arr.min())"
      ],
      "execution_count": null,
      "outputs": []
    },
    {
      "cell_type": "markdown",
      "metadata": {
        "id": "MbrSNjBe1157",
        "colab_type": "text"
      },
      "source": [
        "Осциллятор Рёсслера"
      ]
    },
    {
      "cell_type": "code",
      "metadata": {
        "id": "IsWa7HeU1157",
        "colab_type": "code",
        "colab": {}
      },
      "source": [
        "a = 0.15\n",
        "p = 0.2\n",
        "c = 10\n",
        "fps = 150\n",
        "start_time = 0\n",
        "end_time = 40\n",
        "omega = np.array([0.99, 0.95])\n",
        "epsylon = np.array([0, 0.03])\n",
        "idx = []\n",
        "for i in range(0, fps):\n",
        "    idx.append(i)"
      ],
      "execution_count": null,
      "outputs": []
    },
    {
      "cell_type": "code",
      "metadata": {
        "id": "ZCSkutkZ115-",
        "colab_type": "code",
        "colab": {}
      },
      "source": [
        "\"\"\"\n",
        "Indeces\n",
        "X1 = 0\n",
        "Y1 = 1\n",
        "Z1 = 2\n",
        "X2 = 3\n",
        "Y2 = 4\n",
        "Z2 = 5\n",
        "\"\"\"\n",
        "def rossler(t, vec: np.array):\n",
        "    res = np.zeros(6)\n",
        "    x = vec[0:4:3]\n",
        "    y = vec[1:5:3]\n",
        "    z = vec[2:6:3]\n",
        "    res[0:4:3] = -omega*y - z + epsylon*(x[::-1] - x)\n",
        "    res[1:5:3] = omega*x + a*y\n",
        "    res[2:6:3] = p + z*(x-c)\n",
        "    return res"
      ],
      "execution_count": null,
      "outputs": []
    },
    {
      "cell_type": "code",
      "metadata": {
        "id": "vxPPyov2116B",
        "colab_type": "code",
        "colab": {}
      },
      "source": [
        "time=np.linspace(start_time, end_time, num=int(fps*end_time))\n",
        "z0 = np.zeros(6)\n",
        "res = ivp(rossler, (start_time,end_time), z0, t_eval=time)\n",
        "data = res['y']\n",
        "time = res['t']\n",
        "data = data.T"
      ],
      "execution_count": null,
      "outputs": []
    },
    {
      "cell_type": "code",
      "metadata": {
        "id": "Fdu_9frV116E",
        "colab_type": "code",
        "colab": {},
        "outputId": "d33e0c15-7331-4c5a-a79e-088de567c042"
      },
      "source": [
        "t = 40\n",
        "plt.plot(time[0:fps*t], data[0:fps*t, 4], 'k', label='Dependent system 2')\n",
        "plt.plot(time[0:fps*t], data[0:fps*t, 0], 'y', label='Independent system 1')\n",
        "plt.xlabel('t')\n",
        "plt.ylabel('x(t)')\n",
        "plt.grid()\n",
        "plt.show()"
      ],
      "execution_count": null,
      "outputs": [
        {
          "output_type": "display_data",
          "data": {
            "image/png": "[encoded data removed]",
            "text/plain": [
              "<Figure size 432x288 with 1 Axes>"
            ]
          },
          "metadata": {
            "tags": [],
            "needs_background": "light"
          }
        }
      ]
    },
    {
      "cell_type": "markdown",
      "metadata": {
        "id": "1vRHf5mz116I",
        "colab_type": "text"
      },
      "source": [
        "Модели"
      ]
    },
    {
      "cell_type": "code",
      "metadata": {
        "id": "5ikSmJnp116J",
        "colab_type": "code",
        "colab": {}
      },
      "source": [
        "num_epochs = 40\n"
      ],
      "execution_count": null,
      "outputs": []
    },
    {
      "cell_type": "code",
      "metadata": {
        "id": "E_XMnNh-116L",
        "colab_type": "code",
        "colab": {}
      },
      "source": [
        "#Создание модели\n",
        "def baseline_model():\n",
        "    model = tf.keras.Sequential()\n",
        "    model.add(layers.Dense(3, activation='linear'))\n",
        "    model.add(layers.Dense(10,  kernel_regularizer=regularizers.l1_l2(l1=1e-5, l2=1e-4), bias_regularizer=regularizers.l2(1e-4), activity_regularizer=regularizers.l2(1e-5), activation='tanh'))\n",
        "    model.add(layers.Dropout(0.5))\n",
        "    model.add(layers.Dense(10, kernel_regularizer=regularizers.l1_l2(l1=1e-5, l2=1e-4), bias_regularizer=regularizers.l2(1e-4), activity_regularizer=regularizers.l2(1e-5), activation='tanh'))\n",
        "    model.add(layers.Dropout(0.5))\n",
        "    model.add(layers.Dense(3, activation='linear'))\n",
        "    #Компиляция модели\n",
        "    model.compile(loss='mse', optimizer=tf.optimizers.Adam(0.001), metrics=[coeff_determination, 'accuracy'])\n",
        "    return model"
      ],
      "execution_count": null,
      "outputs": []
    },
    {
      "cell_type": "code",
      "metadata": {
        "id": "MGFrm60W116N",
        "colab_type": "code",
        "colab": {}
      },
      "source": [
        "model_dir = 'D:\\\\Jupyterlabs\\\\Assignment\\\\saved_models\\\\best_model.h5'"
      ],
      "execution_count": null,
      "outputs": []
    },
    {
      "cell_type": "code",
      "metadata": {
        "id": "Wjhrdcdw116Q",
        "colab_type": "code",
        "colab": {}
      },
      "source": [
        "my_callbacks = [\n",
        "#     tf.keras.callbacks.EarlyStopping(monitor= , mode='min', patience=10),\n",
        "    tf.keras.callbacks.EarlyStopping(patience=10, min_delta=0.001, restore_best_weights=False)\n",
        "]"
      ],
      "execution_count": null,
      "outputs": []
    },
    {
      "cell_type": "code",
      "metadata": {
        "id": "lk0W_umr116T",
        "colab_type": "code",
        "colab": {}
      },
      "source": [
        "rsq = []\n",
        "hist = []\n",
        "\n",
        "for i in range(0, end_time-start_time):\n",
        "    src_init  = data[(start_time+i)*fps:(start_time+i+1)*fps, 0:3]\n",
        "    trgt_init = data[(start_time+i)*fps:(start_time+i+1)*fps, 3:6]\n",
        "    random.seed()\n",
        "    split_idx = random.sample(idx, int(fps/2))\n",
        "    \"Generating test and validation sets\"\n",
        "    val_src = np.delete(src_init, split_idx, axis=0)\n",
        "    val_trgt = np.delete(trgt_init, split_idx, axis = 0)\n",
        "    model = baseline_model()\n",
        "    history = model.fit(src_init[split_idx, 0:3], trgt_init[split_idx, 0:3],\n",
        "                        epochs=num_epochs, callbacks=my_callbacks, validation_data=(val_src, val_trgt),\n",
        "                        verbose=0)\n",
        "    rsq.append(history.history['val_coeff_determination'][-1])\n",
        "    hist.append(history)"
      ],
      "execution_count": null,
      "outputs": []
    },
    {
      "cell_type": "code",
      "metadata": {
        "id": "AbF2Ih_B116V",
        "colab_type": "code",
        "colab": {},
        "outputId": "a54d928a-7cf6-401b-d37c-50fb2a721146"
      },
      "source": [
        "df = pd.DataFrame(hist[0].history)\n",
        "df['epoch'] = hist[0].epoch\n",
        "plt.figure()\n",
        "plt.xlabel('Epoch')\n",
        "plt.ylabel('Accuracy')\n",
        "plt.plot(df['epoch'], df['accuracy'],\n",
        "        label = 'Accuracy')\n",
        "plt.legend()\n",
        "plt.show()"
      ],
      "execution_count": null,
      "outputs": [
        {
          "output_type": "display_data",
          "data": {
            "image/png": "[encoded data removed]",
            "text/plain": [
              "<Figure size 432x288 with 1 Axes>"
            ]
          },
          "metadata": {
            "tags": [],
            "needs_background": "light"
          }
        }
      ]
    },
    {
      "cell_type": "code",
      "metadata": {
        "id": "lKaL8E_R116Y",
        "colab_type": "code",
        "colab": {},
        "outputId": "b2ad0f80-a970-4afa-a31d-8b5f4cd79b2e"
      },
      "source": [
        "plt.figure()\n",
        "plt.hist(rsq)\n",
        "plt.show()"
      ],
      "execution_count": null,
      "outputs": [
        {
          "output_type": "display_data",
          "data": {
            "image/png": "[encoded data removed]",
            "text/plain": [
              "<Figure size 432x288 with 1 Axes>"
            ]
          },
          "metadata": {
            "tags": [],
            "needs_background": "light"
          }
        }
      ]
    },
    {
      "cell_type": "code",
      "metadata": {
        "id": "oE_971oG116a",
        "colab_type": "code",
        "colab": {},
        "outputId": "8f82eb19-1195-4817-80ab-a79d378d9f29"
      },
      "source": [
        "plot_history2(hist[8])"
      ],
      "execution_count": null,
      "outputs": [
        {
          "output_type": "display_data",
          "data": {
            "image/png": "[encoded data removed]",
            "text/plain": [
              "<Figure size 432x288 with 1 Axes>"
            ]
          },
          "metadata": {
            "tags": [],
            "needs_background": "light"
          }
        }
      ]
    },
    {
      "cell_type": "code",
      "metadata": {
        "id": "Tpc-qC5H116d",
        "colab_type": "code",
        "colab": {},
        "outputId": "d3be2987-6d92-4a73-9207-132d3b2318e8"
      },
      "source": [
        "### Данные, которые мы предсказываем\n",
        "a = range(0, 250)\n",
        "plt.figure()\n",
        "plt.plot(a, trgt_predict1[:, :], label='source')\n",
        "plt.plot(a, res, label='prediciton')\n",
        "plt.xlabel('t')\n",
        "plt.ylabel('X')\n",
        "plt.legend()\n",
        "plt.show()"
      ],
      "execution_count": null,
      "outputs": [
        {
          "output_type": "error",
          "ename": "NameError",
          "evalue": "name 'trgt_predict1' is not defined",
          "traceback": [
            "\u001b[1;31m---------------------------------------------------------------------------\u001b[0m",
            "\u001b[1;31mNameError\u001b[0m                                 Traceback (most recent call last)",
            "\u001b[1;32m<ipython-input-146-c15fa8238ea2>\u001b[0m in \u001b[0;36m<module>\u001b[1;34m\u001b[0m\n\u001b[0;32m      2\u001b[0m \u001b[0ma\u001b[0m \u001b[1;33m=\u001b[0m \u001b[0mrange\u001b[0m\u001b[1;33m(\u001b[0m\u001b[1;36m0\u001b[0m\u001b[1;33m,\u001b[0m \u001b[1;36m250\u001b[0m\u001b[1;33m)\u001b[0m\u001b[1;33m\u001b[0m\u001b[1;33m\u001b[0m\u001b[0m\n\u001b[0;32m      3\u001b[0m \u001b[0mplt\u001b[0m\u001b[1;33m.\u001b[0m\u001b[0mfigure\u001b[0m\u001b[1;33m(\u001b[0m\u001b[1;33m)\u001b[0m\u001b[1;33m\u001b[0m\u001b[1;33m\u001b[0m\u001b[0m\n\u001b[1;32m----> 4\u001b[1;33m \u001b[0mplt\u001b[0m\u001b[1;33m.\u001b[0m\u001b[0mplot\u001b[0m\u001b[1;33m(\u001b[0m\u001b[0ma\u001b[0m\u001b[1;33m,\u001b[0m \u001b[0mtrgt_predict1\u001b[0m\u001b[1;33m[\u001b[0m\u001b[1;33m:\u001b[0m\u001b[1;33m,\u001b[0m \u001b[1;33m:\u001b[0m\u001b[1;33m]\u001b[0m\u001b[1;33m,\u001b[0m \u001b[0mlabel\u001b[0m\u001b[1;33m=\u001b[0m\u001b[1;34m'source'\u001b[0m\u001b[1;33m)\u001b[0m\u001b[1;33m\u001b[0m\u001b[1;33m\u001b[0m\u001b[0m\n\u001b[0m\u001b[0;32m      5\u001b[0m \u001b[0mplt\u001b[0m\u001b[1;33m.\u001b[0m\u001b[0mplot\u001b[0m\u001b[1;33m(\u001b[0m\u001b[0ma\u001b[0m\u001b[1;33m,\u001b[0m \u001b[0mres\u001b[0m\u001b[1;33m,\u001b[0m \u001b[0mlabel\u001b[0m\u001b[1;33m=\u001b[0m\u001b[1;34m'prediciton'\u001b[0m\u001b[1;33m)\u001b[0m\u001b[1;33m\u001b[0m\u001b[1;33m\u001b[0m\u001b[0m\n\u001b[0;32m      6\u001b[0m \u001b[0mplt\u001b[0m\u001b[1;33m.\u001b[0m\u001b[0mxlabel\u001b[0m\u001b[1;33m(\u001b[0m\u001b[1;34m't'\u001b[0m\u001b[1;33m)\u001b[0m\u001b[1;33m\u001b[0m\u001b[1;33m\u001b[0m\u001b[0m\n",
            "\u001b[1;31mNameError\u001b[0m: name 'trgt_predict1' is not defined"
          ]
        },
        {
          "output_type": "display_data",
          "data": {
            "text/plain": [
              "<Figure size 432x288 with 0 Axes>"
            ]
          },
          "metadata": {
            "tags": []
          }
        }
      ]
    },
    {
      "cell_type": "code",
      "metadata": {
        "id": "-yVAJBUn116f",
        "colab_type": "code",
        "colab": {},
        "outputId": "34f6727a-3958-4c0f-fd3c-e913e5471e17"
      },
      "source": [
        "### Данные, которые мы предсказываем\n",
        "a=[]\n",
        "for i in range(0, 250):\n",
        "    a.append(i/250)\n",
        "plt.figure()\n",
        "plt.plot(a, a, label='best_case')\n",
        "plt.scatter(trgt_predict1[:, :], res, label='y, y_hat', color='r')\n",
        "plt.xlabel('t')\n",
        "plt.ylabel('X')\n",
        "plt.legend()\n",
        "plt.show()"
      ],
      "execution_count": null,
      "outputs": [
        {
          "output_type": "error",
          "ename": "NameError",
          "evalue": "name 'trgt_predict1' is not defined",
          "traceback": [
            "\u001b[1;31m---------------------------------------------------------------------------\u001b[0m",
            "\u001b[1;31mNameError\u001b[0m                                 Traceback (most recent call last)",
            "\u001b[1;32m<ipython-input-147-d97e58a7f821>\u001b[0m in \u001b[0;36m<module>\u001b[1;34m\u001b[0m\n\u001b[0;32m      5\u001b[0m \u001b[0mplt\u001b[0m\u001b[1;33m.\u001b[0m\u001b[0mfigure\u001b[0m\u001b[1;33m(\u001b[0m\u001b[1;33m)\u001b[0m\u001b[1;33m\u001b[0m\u001b[1;33m\u001b[0m\u001b[0m\n\u001b[0;32m      6\u001b[0m \u001b[0mplt\u001b[0m\u001b[1;33m.\u001b[0m\u001b[0mplot\u001b[0m\u001b[1;33m(\u001b[0m\u001b[0ma\u001b[0m\u001b[1;33m,\u001b[0m \u001b[0ma\u001b[0m\u001b[1;33m,\u001b[0m \u001b[0mlabel\u001b[0m\u001b[1;33m=\u001b[0m\u001b[1;34m'best_case'\u001b[0m\u001b[1;33m)\u001b[0m\u001b[1;33m\u001b[0m\u001b[1;33m\u001b[0m\u001b[0m\n\u001b[1;32m----> 7\u001b[1;33m \u001b[0mplt\u001b[0m\u001b[1;33m.\u001b[0m\u001b[0mscatter\u001b[0m\u001b[1;33m(\u001b[0m\u001b[0mtrgt_predict1\u001b[0m\u001b[1;33m[\u001b[0m\u001b[1;33m:\u001b[0m\u001b[1;33m,\u001b[0m \u001b[1;33m:\u001b[0m\u001b[1;33m]\u001b[0m\u001b[1;33m,\u001b[0m \u001b[0mres\u001b[0m\u001b[1;33m,\u001b[0m \u001b[0mlabel\u001b[0m\u001b[1;33m=\u001b[0m\u001b[1;34m'y, y_hat'\u001b[0m\u001b[1;33m,\u001b[0m \u001b[0mcolor\u001b[0m\u001b[1;33m=\u001b[0m\u001b[1;34m'r'\u001b[0m\u001b[1;33m)\u001b[0m\u001b[1;33m\u001b[0m\u001b[1;33m\u001b[0m\u001b[0m\n\u001b[0m\u001b[0;32m      8\u001b[0m \u001b[0mplt\u001b[0m\u001b[1;33m.\u001b[0m\u001b[0mxlabel\u001b[0m\u001b[1;33m(\u001b[0m\u001b[1;34m't'\u001b[0m\u001b[1;33m)\u001b[0m\u001b[1;33m\u001b[0m\u001b[1;33m\u001b[0m\u001b[0m\n\u001b[0;32m      9\u001b[0m \u001b[0mplt\u001b[0m\u001b[1;33m.\u001b[0m\u001b[0mylabel\u001b[0m\u001b[1;33m(\u001b[0m\u001b[1;34m'X'\u001b[0m\u001b[1;33m)\u001b[0m\u001b[1;33m\u001b[0m\u001b[1;33m\u001b[0m\u001b[0m\n",
            "\u001b[1;31mNameError\u001b[0m: name 'trgt_predict1' is not defined"
          ]
        },
        {
          "output_type": "display_data",
          "data": {
            "image/png": "[encoded data removed]",
            "text/plain": [
              "<Figure size 432x288 with 1 Axes>"
            ]
          },
          "metadata": {
            "tags": [],
            "needs_background": "light"
          }
        }
      ]
    },
    {
      "cell_type": "code",
      "metadata": {
        "id": "AS4V2FGN116j",
        "colab_type": "code",
        "colab": {},
        "outputId": "f863bf04-345c-41de-d91a-4589043e9587"
      },
      "source": [
        "a = pd.DataFrame(hist[0].history)\n",
        "a.describe()"
      ],
      "execution_count": null,
      "outputs": [
        {
          "output_type": "execute_result",
          "data": {
            "text/html": [
              "<div>\n",
              "<style scoped>\n",
              "    .dataframe tbody tr th:only-of-type {\n",
              "        vertical-align: middle;\n",
              "    }\n",
              "\n",
              "    .dataframe tbody tr th {\n",
              "        vertical-align: top;\n",
              "    }\n",
              "\n",
              "    .dataframe thead th {\n",
              "        text-align: right;\n",
              "    }\n",
              "</style>\n",
              "<table border=\"1\" class=\"dataframe\">\n",
              "  <thead>\n",
              "    <tr style=\"text-align: right;\">\n",
              "      <th></th>\n",
              "      <th>loss</th>\n",
              "      <th>coeff_determination</th>\n",
              "      <th>val_loss</th>\n",
              "      <th>val_coeff_determination</th>\n",
              "    </tr>\n",
              "  </thead>\n",
              "  <tbody>\n",
              "    <tr>\n",
              "      <th>count</th>\n",
              "      <td>11.000000</td>\n",
              "      <td>11.000000</td>\n",
              "      <td>11.000000</td>\n",
              "      <td>11.000000</td>\n",
              "    </tr>\n",
              "    <tr>\n",
              "      <th>mean</th>\n",
              "      <td>0.001058</td>\n",
              "      <td>-6.248511</td>\n",
              "      <td>0.000525</td>\n",
              "      <td>-3.066294</td>\n",
              "    </tr>\n",
              "    <tr>\n",
              "      <th>std</th>\n",
              "      <td>0.001864</td>\n",
              "      <td>12.212457</td>\n",
              "      <td>0.000563</td>\n",
              "      <td>4.361237</td>\n",
              "    </tr>\n",
              "    <tr>\n",
              "      <th>min</th>\n",
              "      <td>0.000068</td>\n",
              "      <td>-41.982334</td>\n",
              "      <td>0.000036</td>\n",
              "      <td>-13.644909</td>\n",
              "    </tr>\n",
              "    <tr>\n",
              "      <th>25%</th>\n",
              "      <td>0.000196</td>\n",
              "      <td>-6.366912</td>\n",
              "      <td>0.000179</td>\n",
              "      <td>-4.521418</td>\n",
              "    </tr>\n",
              "    <tr>\n",
              "      <th>50%</th>\n",
              "      <td>0.000333</td>\n",
              "      <td>-1.598383</td>\n",
              "      <td>0.000255</td>\n",
              "      <td>-1.015622</td>\n",
              "    </tr>\n",
              "    <tr>\n",
              "      <th>75%</th>\n",
              "      <td>0.000957</td>\n",
              "      <td>-0.341646</td>\n",
              "      <td>0.000729</td>\n",
              "      <td>-0.463237</td>\n",
              "    </tr>\n",
              "    <tr>\n",
              "      <th>max</th>\n",
              "      <td>0.006532</td>\n",
              "      <td>0.399054</td>\n",
              "      <td>0.001871</td>\n",
              "      <td>0.710901</td>\n",
              "    </tr>\n",
              "  </tbody>\n",
              "</table>\n",
              "</div>"
            ],
            "text/plain": [
              "            loss  coeff_determination   val_loss  val_coeff_determination\n",
              "count  11.000000            11.000000  11.000000                11.000000\n",
              "mean    0.001058            -6.248511   0.000525                -3.066294\n",
              "std     0.001864            12.212457   0.000563                 4.361237\n",
              "min     0.000068           -41.982334   0.000036               -13.644909\n",
              "25%     0.000196            -6.366912   0.000179                -4.521418\n",
              "50%     0.000333            -1.598383   0.000255                -1.015622\n",
              "75%     0.000957            -0.341646   0.000729                -0.463237\n",
              "max     0.006532             0.399054   0.001871                 0.710901"
            ]
          },
          "metadata": {
            "tags": []
          },
          "execution_count": 161
        }
      ]
    },
    {
      "cell_type": "code",
      "metadata": {
        "colab_type": "code",
        "id": "sfv0sGLeeNgK",
        "colab": {}
      },
      "source": [
        "###ADDED\n",
        "### Рисует график обучения (loss function) и график метрики (coeff_determination). Своровано и адаптировано отсюда: https://www.tensorflow.org/tutorials/keras/regression?hl=ru\n",
        "def plot_history(history):\n",
        "    hist = pd.DataFrame(history.history)\n",
        "    hist['epoch'] = history.epoch\n",
        "\n",
        "    plt.figure()\n",
        "    plt.xlabel('Epoch')\n",
        "    plt.ylabel('Loss')\n",
        "    plt.plot(hist['epoch'], hist['loss'],\n",
        "           label = 'Loss function')\n",
        "    plt.plot(hist['epoch'], hist['val_loss'],\n",
        "           label = 'val_loss')\n",
        "    plt.legend()\n",
        "    plt.show()\n"
      ],
      "execution_count": null,
      "outputs": []
    },
    {
      "cell_type": "code",
      "metadata": {
        "id": "sJM1pk4Q116n",
        "colab_type": "code",
        "colab": {}
      },
      "source": [
        "def plot_history2(history):\n",
        "    hist = pd.DataFrame(history.history)\n",
        "    hist['epoch'] = history.epoch\n",
        "\n",
        "    plt.figure()\n",
        "    plt.xlabel('Epoch')\n",
        "    plt.ylabel('val_coeff_determination')\n",
        "    plt.plot(hist['epoch'], hist['val_coeff_determination'],\n",
        "           label='Val Coefficient of determination')\n",
        "    plt.plot(hist['epoch'], hist['coeff_determination'],\n",
        "           label='Coefficient of determination')\n",
        "    plt.legend()\n",
        "    plt.show()\n"
      ],
      "execution_count": null,
      "outputs": []
    },
    {
      "cell_type": "code",
      "metadata": {
        "id": "-Ii7A0nl116p",
        "colab_type": "code",
        "colab": {},
        "outputId": "bd814c6a-71a5-44d4-8536-60851c61581b"
      },
      "source": [
        "hist = pd.DataFrame(histories.history)\n",
        "hist.describe()"
      ],
      "execution_count": null,
      "outputs": [
        {
          "output_type": "execute_result",
          "data": {
            "text/html": [
              "<div>\n",
              "<style scoped>\n",
              "    .dataframe tbody tr th:only-of-type {\n",
              "        vertical-align: middle;\n",
              "    }\n",
              "\n",
              "    .dataframe tbody tr th {\n",
              "        vertical-align: top;\n",
              "    }\n",
              "\n",
              "    .dataframe thead th {\n",
              "        text-align: right;\n",
              "    }\n",
              "</style>\n",
              "<table border=\"1\" class=\"dataframe\">\n",
              "  <thead>\n",
              "    <tr style=\"text-align: right;\">\n",
              "      <th></th>\n",
              "      <th>loss</th>\n",
              "      <th>coeff_determination</th>\n",
              "      <th>val_loss</th>\n",
              "      <th>val_coeff_determination</th>\n",
              "    </tr>\n",
              "  </thead>\n",
              "  <tbody>\n",
              "    <tr>\n",
              "      <th>count</th>\n",
              "      <td>59.000000</td>\n",
              "      <td>59.000000</td>\n",
              "      <td>59.000000</td>\n",
              "      <td>59.000000</td>\n",
              "    </tr>\n",
              "    <tr>\n",
              "      <th>mean</th>\n",
              "      <td>0.060478</td>\n",
              "      <td>0.248469</td>\n",
              "      <td>0.050367</td>\n",
              "      <td>0.116094</td>\n",
              "    </tr>\n",
              "    <tr>\n",
              "      <th>std</th>\n",
              "      <td>0.027811</td>\n",
              "      <td>0.349558</td>\n",
              "      <td>0.009238</td>\n",
              "      <td>0.210823</td>\n",
              "    </tr>\n",
              "    <tr>\n",
              "      <th>min</th>\n",
              "      <td>0.054922</td>\n",
              "      <td>-2.325356</td>\n",
              "      <td>0.047261</td>\n",
              "      <td>-1.043058</td>\n",
              "    </tr>\n",
              "    <tr>\n",
              "      <th>25%</th>\n",
              "      <td>0.054974</td>\n",
              "      <td>0.304638</td>\n",
              "      <td>0.047719</td>\n",
              "      <td>0.162720</td>\n",
              "    </tr>\n",
              "    <tr>\n",
              "      <th>50%</th>\n",
              "      <td>0.055034</td>\n",
              "      <td>0.316433</td>\n",
              "      <td>0.047944</td>\n",
              "      <td>0.171764</td>\n",
              "    </tr>\n",
              "    <tr>\n",
              "      <th>75%</th>\n",
              "      <td>0.055332</td>\n",
              "      <td>0.320760</td>\n",
              "      <td>0.048333</td>\n",
              "      <td>0.176654</td>\n",
              "    </tr>\n",
              "    <tr>\n",
              "      <th>max</th>\n",
              "      <td>0.264994</td>\n",
              "      <td>0.328304</td>\n",
              "      <td>0.101204</td>\n",
              "      <td>0.186966</td>\n",
              "    </tr>\n",
              "  </tbody>\n",
              "</table>\n",
              "</div>"
            ],
            "text/plain": [
              "            loss  coeff_determination   val_loss  val_coeff_determination\n",
              "count  59.000000            59.000000  59.000000                59.000000\n",
              "mean    0.060478             0.248469   0.050367                 0.116094\n",
              "std     0.027811             0.349558   0.009238                 0.210823\n",
              "min     0.054922            -2.325356   0.047261                -1.043058\n",
              "25%     0.054974             0.304638   0.047719                 0.162720\n",
              "50%     0.055034             0.316433   0.047944                 0.171764\n",
              "75%     0.055332             0.320760   0.048333                 0.176654\n",
              "max     0.264994             0.328304   0.101204                 0.186966"
            ]
          },
          "metadata": {
            "tags": []
          },
          "execution_count": 26
        }
      ]
    }
  ]
}